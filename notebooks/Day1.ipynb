{
 "cells": [
  {
   "cell_type": "markdown",
   "id": "b0e55e13-6cce-4095-b326-467ddb5bdc46",
   "metadata": {},
   "source": [
    "# Dia 1\n",
    "## Python básico\n",
    "Fermín Huarte"
   ]
  },
  {
   "cell_type": "code",
   "execution_count": null,
   "id": "48783397-b456-4432-9e62-720d5c24ce8c",
   "metadata": {},
   "outputs": [],
   "source": [
    "a = input(\"Introduce un valor entero: \")\n",
    "# lo convertimos en entero\n",
    "a = int(a) #usando la funcion int"
   ]
  },
  {
   "cell_type": "code",
   "execution_count": null,
   "id": "5f9a32d6-dfff-40ad-a0a3-357e38f353ca",
   "metadata": {},
   "outputs": [],
   "source": [
    "a = float(a)"
   ]
  },
  {
   "cell_type": "code",
   "execution_count": null,
   "id": "1c230ed4-ccea-4ebb-bfda-71c68b8efce2",
   "metadata": {},
   "outputs": [],
   "source": [
    "a"
   ]
  },
  {
   "cell_type": "code",
   "execution_count": null,
   "id": "f2638ddc-9018-430d-b31d-c578848f3385",
   "metadata": {},
   "outputs": [],
   "source": [
    "a  = str(a)\n",
    "a"
   ]
  },
  {
   "cell_type": "code",
   "execution_count": null,
   "id": "e130240a-a28c-4e0e-8eb9-daa2492aa3ea",
   "metadata": {},
   "outputs": [],
   "source": [
    "a = float(input(\"Introduce un valor entero: \"))\n",
    "b = float(input(\"Otro valor: \"))\n",
    "\n",
    "c = (a+b)/2\n",
    "d = (a-b)/2\n",
    "\n",
    "print(\"El resultado es \",c)\n",
    "print(\"El resultado es {:.1f}\".format(d))\n",
    "print(f\"El resultado es {c:.4f}\")"
   ]
  },
  {
   "cell_type": "code",
   "execution_count": null,
   "id": "56b478f9-62ed-4702-914b-c21a70f02c5e",
   "metadata": {},
   "outputs": [],
   "source": [
    "b = 3"
   ]
  },
  {
   "cell_type": "code",
   "execution_count": null,
   "id": "56baf5e9-df03-4ea8-b579-99caf85c1d42",
   "metadata": {},
   "outputs": [],
   "source": [
    "for i in range(10):\n",
    "    print(i)"
   ]
  },
  {
   "cell_type": "code",
   "execution_count": null,
   "id": "2d33ffca-e099-4d30-b59b-d063ac16298a",
   "metadata": {},
   "outputs": [],
   "source": [
    "for i in range(2,10,2):\n",
    "    print(i)"
   ]
  },
  {
   "cell_type": "code",
   "execution_count": null,
   "id": "53ea192c-ecaa-4518-8fa5-f36c43110e9f",
   "metadata": {},
   "outputs": [],
   "source": [
    "s = 0.0\n",
    "for i in range(5):\n",
    "    a = float(input(\"Introduce un valor entero: \"))\n",
    "    s =     s   +     a  #acumulador \n",
    "    print(s)"
   ]
  },
  {
   "cell_type": "code",
   "execution_count": null,
   "id": "c1207672-cfdc-4a9e-b623-6ffdb6fa29ee",
   "metadata": {},
   "outputs": [],
   "source": [
    "nval = int(input(\"Cuántos valores vas a promediar? \"))\n",
    "s = 0.0\n",
    "\n",
    "for i in range(nval):\n",
    "    a = float(input(\"Introduce un valor entero: \"))\n",
    "    s =     s   +     a  #acumulador\n",
    "    \n",
    "print(s/nval)\n",
    "print(\"Final del código!\")"
   ]
  },
  {
   "cell_type": "code",
   "execution_count": null,
   "id": "797f0179-9ee2-4fe0-8d2d-be7e7a2f806b",
   "metadata": {},
   "outputs": [],
   "source": [
    "a = float(input(\"Introduce un valor: \"))\n",
    "if a > 3:\n",
    "    print(\"Es mayor que 3!\")\n",
    "else:\n",
    "    print(\"No es mayor que 3\")\n",
    "    \n",
    "print(\"Final del código!\")"
   ]
  },
  {
   "cell_type": "code",
   "execution_count": null,
   "id": "08955937-c0c6-4d42-a014-a372c47bbb80",
   "metadata": {},
   "outputs": [],
   "source": [
    "a = float(input(\"Introduce un valor: \"))\n",
    "if a == 3:\n",
    "    print(\"Es igual a 3!\")\n",
    "else:\n",
    "    print(\"No es igual a 3\")\n",
    "    \n",
    "print(\"Final del código!\")"
   ]
  },
  {
   "cell_type": "code",
   "execution_count": null,
   "id": "453809ae-e2f5-4a06-a5e6-4b65bbd293da",
   "metadata": {},
   "outputs": [],
   "source": [
    "a = float(input(\"Introduce un valor: \"))\n",
    "if a != 3:\n",
    "    print(\"Es distinto a 3!\")\n",
    "else:\n",
    "    print(\"No es distinto a 3\")\n",
    "    \n",
    "print(\"Final del código!\")"
   ]
  },
  {
   "cell_type": "code",
   "execution_count": null,
   "id": "bc13f883-6370-43d8-8ddc-88063ed8e022",
   "metadata": {},
   "outputs": [],
   "source": [
    "p = float(input(\"Introduce valor de la probabilidad: \"))\n",
    "if (p < 0) or (p>1):\n",
    "    print(\"Valor inválido!\")\n",
    "else:\n",
    "    print(\"Valor ok\")\n",
    "    \n",
    "print(\"Final del código!\")"
   ]
  },
  {
   "cell_type": "code",
   "execution_count": null,
   "id": "2d0c741c-5e49-4d66-9aa0-5b0f8ce5f664",
   "metadata": {},
   "outputs": [],
   "source": [
    "p = float(input(\"Introduce valor de la probabilidad: \"))\n",
    "if 0 < p > 1:\n",
    "    print(\"Valor inválido!\")\n",
    "else:\n",
    "    print(\"Valor ok\")\n",
    "    \n",
    "print(\"Final del código!\")"
   ]
  },
  {
   "cell_type": "code",
   "execution_count": null,
   "id": "e47e23e2-928b-4079-ac25-c7acf6ce4c55",
   "metadata": {
    "tags": []
   },
   "outputs": [],
   "source": [
    "p = float(input(\"Introduce valor de la probabilidad: \"))\n",
    "if 0 < p < 1:\n",
    "    print(\"Valor válido!\")\n",
    "    \n",
    "print(\"Final del código!\")"
   ]
  },
  {
   "cell_type": "code",
   "execution_count": null,
   "id": "89e596f0-c219-4435-911f-9914cf60c932",
   "metadata": {},
   "outputs": [],
   "source": [
    "nval = int(input(\"Cuántos valores vas a promediar? \"))\n",
    "s = 0.0\n",
    "\n",
    "for i in range(nval):\n",
    "    a = float(input(\"Introduce un valor entero: \"))\n",
    "    if a > 0: \n",
    "        s = s + a  #acumulador\n",
    "    \n",
    "print(s/nval)\n",
    "print(\"Final del código!\")"
   ]
  },
  {
   "cell_type": "code",
   "execution_count": null,
   "id": "a0bda598-922e-4b43-840c-731874df0489",
   "metadata": {},
   "outputs": [],
   "source": [
    "a = int (input(\"Valor? \"))\n",
    "\n",
    "if a < 0:\n",
    "    print(\"Es negativo\")\n",
    "elif a < 4:\n",
    "    print(\"menor que 4\")\n",
    "elif a < 2:\n",
    "    print(\"menor que 2\")\n",
    "else:\n",
    "    print(\"Superior\")\n",
    "    \n",
    "print(\"Final\")\n",
    "               "
   ]
  },
  {
   "cell_type": "code",
   "execution_count": null,
   "id": "5d9de849-e9bc-4d97-88cd-bf25d02f126b",
   "metadata": {},
   "outputs": [],
   "source": [
    "print(\"dfdf\")"
   ]
  },
  {
   "cell_type": "code",
   "execution_count": null,
   "id": "1a2e3b4e-dcd2-4339-bc72-3e5791b4af4d",
   "metadata": {},
   "outputs": [],
   "source": [
    "a = int (input(\"Valor? \"))\n",
    "if not (a > 0):\n",
    "    print (\"Negativo\")"
   ]
  },
  {
   "cell_type": "code",
   "execution_count": null,
   "id": "9658c0e8-7d40-49c0-b978-73ea9c3f16d8",
   "metadata": {},
   "outputs": [],
   "source": [
    "import math as m\n",
    "x = float(input(\"Valor de x? \"))\n",
    "n = int(input(\"Límite superior de la serie? \"))\n",
    "\n",
    "s = 0.0\n",
    "for i  in range(n+1):\n",
    "    #FACTORIAL\n",
    "    f = 1\n",
    "    for j in range(1,i+1):\n",
    "        f = f*j\n",
    "\n",
    "    termino = x**i / f\n",
    "    \n",
    "    s = s + termino\n",
    "\n",
    "y = m.exp(x)\n",
    "print(f\"Exp({x:.3f}) = {s:.3f} aprox\") \n",
    "print(f\"Exp({x:.3f}) = {y:.3f} \") "
   ]
  },
  {
   "cell_type": "code",
   "execution_count": null,
   "id": "22456a15-14e5-4023-bfda-75e00cbcef2e",
   "metadata": {},
   "outputs": [],
   "source": [
    "x = float(input(\"Valor de x? \"))\n",
    "n = int(input(\"Límite superior de la serie? \"))\n",
    "#Variante de Carla \n",
    "s = 1\n",
    "f = 1.0\n",
    "for i  in range(1,n+1):\n",
    "    #FACTORIAL\n",
    "    f = f*i\n",
    "\n",
    "    termino = x**i / f\n",
    "    if termino < 1E-2:\n",
    "        print(\"Paro en \",i)\n",
    "        break\n",
    "    s = s + termino\n",
    "\n",
    "print(f\"Exp({x:.3f}) = {s:.3f} aprox\") "
   ]
  },
  {
   "cell_type": "code",
   "execution_count": 3,
   "id": "60e7d4a0-5181-4a2a-b368-c1a92e557eaa",
   "metadata": {},
   "outputs": [
    {
     "data": {
      "text/plain": [
       "1.7320508075688772"
      ]
     },
     "execution_count": 3,
     "metadata": {},
     "output_type": "execute_result"
    }
   ],
   "source": [
    "import math\n",
    "math.sqrt(3)"
   ]
  },
  {
   "cell_type": "code",
   "execution_count": null,
   "id": "7961226a-7cf8-4302-bd95-61cff481e5b2",
   "metadata": {},
   "outputs": [],
   "source": [
    "math.sqrt(2)"
   ]
  },
  {
   "cell_type": "code",
   "execution_count": null,
   "id": "b08016e2-94d7-4c7f-93e3-3408d38169da",
   "metadata": {},
   "outputs": [],
   "source": [
    "dir(math)"
   ]
  },
  {
   "cell_type": "code",
   "execution_count": null,
   "id": "8fe7bfe9-e007-48cf-a9bc-f56849dbdfc6",
   "metadata": {},
   "outputs": [],
   "source": [
    "math.sqrt?"
   ]
  },
  {
   "cell_type": "code",
   "execution_count": null,
   "id": "9ca276e9-1fc2-4640-b44c-d70be219a2b6",
   "metadata": {},
   "outputs": [],
   "source": [
    "from math import sqrt\n",
    "sqrt(3)"
   ]
  },
  {
   "cell_type": "code",
   "execution_count": null,
   "id": "1be45054-258f-43e2-8ee8-46fc5b2bfc5d",
   "metadata": {},
   "outputs": [],
   "source": [
    "from math import *"
   ]
  },
  {
   "cell_type": "code",
   "execution_count": null,
   "id": "d3531507-081a-499e-a6b1-c665f298affb",
   "metadata": {},
   "outputs": [],
   "source": [
    "import math as m\n",
    "import cmath as cm"
   ]
  },
  {
   "cell_type": "code",
   "execution_count": null,
   "id": "833a6289-d647-4938-acd5-20fdc378aed7",
   "metadata": {},
   "outputs": [],
   "source": [
    "m.sqrt(3), cm.sqrt(-3)"
   ]
  },
  {
   "cell_type": "code",
   "execution_count": null,
   "id": "c7e4b453-59bd-4223-91c2-4793cd0e5c29",
   "metadata": {},
   "outputs": [],
   "source": [
    "import math as m\n",
    "x = float(input(\"Valor de x? \"))\n",
    "n = int(input(\"Límite superior de la serie? \"))\n",
    "\n",
    "s = 0.0\n",
    "for i  in range(n+1):\n",
    "    #FACTORIAL\n",
    "    f = 1\n",
    "    for j in range(1,i+1):\n",
    "        f = f*j\n",
    "\n",
    "    termino = x**i / f\n",
    "    \n",
    "    s = s + termino\n",
    "\n",
    "y = m.exp(x)\n",
    "print(f\"Exp({x:.3f}) = {s:.3f} aprox\") \n",
    "print(f\"Exp({x:.3f}) = {y:.3f} \") "
   ]
  },
  {
   "cell_type": "code",
   "execution_count": 2,
   "id": "07cd5158-d961-41ba-b34a-823b3852af42",
   "metadata": {},
   "outputs": [
    {
     "ename": "NameError",
     "evalue": "name 'math' is not defined",
     "output_type": "error",
     "traceback": [
      "\u001b[0;31m---------------------------------------------------------------------------\u001b[0m",
      "\u001b[0;31mNameError\u001b[0m                                 Traceback (most recent call last)",
      "\u001b[0;32m<ipython-input-2-51c8bcbe0ecf>\u001b[0m in \u001b[0;36m<module>\u001b[0;34m\u001b[0m\n\u001b[0;32m----> 1\u001b[0;31m \u001b[0mmath\u001b[0m\u001b[0;34m.\u001b[0m\u001b[0msqrt\u001b[0m\u001b[0;34m(\u001b[0m\u001b[0;36m3\u001b[0m\u001b[0;34m)\u001b[0m\u001b[0;34m\u001b[0m\u001b[0;34m\u001b[0m\u001b[0m\n\u001b[0m",
      "\u001b[0;31mNameError\u001b[0m: name 'math' is not defined"
     ]
    }
   ],
   "source": []
  },
  {
   "cell_type": "code",
   "execution_count": 4,
   "id": "c572af82-92c1-498b-ac04-20f1e24bf266",
   "metadata": {},
   "outputs": [
    {
     "name": "stdin",
     "output_type": "stream",
     "text": [
      "Valor?  -2\n"
     ]
    },
    {
     "name": "stdout",
     "output_type": "stream",
     "text": [
      "Valor negativo, inválido!\n"
     ]
    },
    {
     "name": "stdin",
     "output_type": "stream",
     "text": [
      "Otro valor:  -3\n"
     ]
    },
    {
     "name": "stdout",
     "output_type": "stream",
     "text": [
      "Valor negativo, inválido!\n"
     ]
    },
    {
     "name": "stdin",
     "output_type": "stream",
     "text": [
      "Otro valor:  3\n"
     ]
    },
    {
     "name": "stdout",
     "output_type": "stream",
     "text": [
      "Ok, seguimos\n"
     ]
    }
   ],
   "source": [
    "a = int(input(\"Valor? \"))\n",
    "while a < 0:\n",
    "    print(\"Valor negativo, inválido!\")\n",
    "    a = int(input(\"Otro valor: \"))\n",
    "    \n",
    "print(\"Ok, seguimos\")"
   ]
  },
  {
   "cell_type": "code",
   "execution_count": null,
   "id": "d27fbfc0-93a4-4267-9dee-e49557e0757d",
   "metadata": {},
   "outputs": [],
   "source": [
    "import math as m\n",
    "x = float(input(\"Valor de x? \"))\n",
    "err = float(input(\"Término menor en la serie? \"))\n",
    "\n",
    "s = 1\n",
    "termino = x\n",
    "i = 2\n",
    "while termino > err:\n",
    "    s = s + termino\n",
    "    termino = x**i / m.factorial(i)\n",
    "    i = i + 1\n",
    "    \n",
    "\n",
    "y = m.exp(x)\n",
    "print(f\"Exp({x:.3f}) = {s:.3f} aprox\") \n",
    "print(f\"Exp({x:.3f}) = {y:.3f} \") "
   ]
  },
  {
   "cell_type": "code",
   "execution_count": null,
   "id": "658bae9a-6d11-4583-bbc3-78b213bab3d5",
   "metadata": {},
   "outputs": [],
   "source": [
    "import math as m\n",
    "x = float(input(\"Valor de x? \"))\n",
    "err = float(input(\"Término menor en la serie? \"))\n",
    "\n",
    "s = 1\n",
    "i = 1\n",
    "while True:\n",
    "    termino = x**i / m.factorial(i)\n",
    "    s = s + termino\n",
    "    i = i + 1\n",
    "    if termino < err: \n",
    "        break\n",
    "\n",
    "y = m.exp(x)\n",
    "print(f\"Exp({x:.3f}) = {s:.3f} aprox\") \n",
    "print(f\"Exp({x:.3f}) = {y:.3f} \") "
   ]
  },
  {
   "cell_type": "code",
   "execution_count": 5,
   "id": "c0c00ef3-1993-439e-aa07-ce9ee5a294cc",
   "metadata": {
    "collapsed": true,
    "jupyter": {
     "outputs_hidden": true
    },
    "tags": []
   },
   "outputs": [
    {
     "ename": "KeyboardInterrupt",
     "evalue": "",
     "output_type": "error",
     "traceback": [
      "\u001b[0;31m---------------------------------------------------------------------------\u001b[0m",
      "\u001b[0;31mKeyboardInterrupt\u001b[0m                         Traceback (most recent call last)",
      "\u001b[0;32m<ipython-input-5-b7133701d76c>\u001b[0m in \u001b[0;36m<module>\u001b[0;34m\u001b[0m\n\u001b[1;32m      1\u001b[0m \u001b[0;32mwhile\u001b[0m \u001b[0;32mTrue\u001b[0m\u001b[0;34m:\u001b[0m\u001b[0;34m\u001b[0m\u001b[0;34m\u001b[0m\u001b[0m\n\u001b[0;32m----> 2\u001b[0;31m     \u001b[0;32mpass\u001b[0m\u001b[0;34m\u001b[0m\u001b[0;34m\u001b[0m\u001b[0m\n\u001b[0m",
      "\u001b[0;31mKeyboardInterrupt\u001b[0m: "
     ]
    }
   ],
   "source": [
    "while True:\n",
    "    pass"
   ]
  },
  {
   "cell_type": "markdown",
   "id": "4af698c4-cc3c-4a05-be3c-f47abaf87e39",
   "metadata": {},
   "source": [
    "## Strings"
   ]
  },
  {
   "cell_type": "code",
   "execution_count": 6,
   "id": "f51254d9-7396-4ad7-9705-695d5118c48a",
   "metadata": {},
   "outputs": [],
   "source": [
    "a = \"Esto es un string\""
   ]
  },
  {
   "cell_type": "code",
   "execution_count": 7,
   "id": "391a70b9-eb73-4bf7-8b00-007c6660f589",
   "metadata": {},
   "outputs": [
    {
     "data": {
      "text/plain": [
       "'Esto es un string'"
      ]
     },
     "execution_count": 7,
     "metadata": {},
     "output_type": "execute_result"
    }
   ],
   "source": [
    "a"
   ]
  },
  {
   "cell_type": "code",
   "execution_count": 8,
   "id": "49af8562-2f4b-4e3e-9ec3-fd57cd4e17c9",
   "metadata": {},
   "outputs": [
    {
     "data": {
      "text/plain": [
       "17"
      ]
     },
     "execution_count": 8,
     "metadata": {},
     "output_type": "execute_result"
    }
   ],
   "source": [
    "len(a)"
   ]
  },
  {
   "cell_type": "code",
   "execution_count": 9,
   "id": "e7d402df-85bb-4966-8c30-de09b1f6724a",
   "metadata": {},
   "outputs": [],
   "source": [
    "b = \"3.1415\""
   ]
  },
  {
   "cell_type": "code",
   "execution_count": 10,
   "id": "a9164733-d5f8-4048-aae1-af8ca271c6ef",
   "metadata": {},
   "outputs": [
    {
     "data": {
      "text/plain": [
       "3.1415"
      ]
     },
     "execution_count": 10,
     "metadata": {},
     "output_type": "execute_result"
    }
   ],
   "source": [
    "float(b)"
   ]
  },
  {
   "cell_type": "code",
   "execution_count": 12,
   "id": "d4ab797c-ebbd-40fa-afcb-32b26ea7077b",
   "metadata": {},
   "outputs": [
    {
     "ename": "ValueError",
     "evalue": "could not convert string to float: 'Esto es un string'",
     "output_type": "error",
     "traceback": [
      "\u001b[0;31m---------------------------------------------------------------------------\u001b[0m",
      "\u001b[0;31mValueError\u001b[0m                                Traceback (most recent call last)",
      "\u001b[0;32m<ipython-input-12-6c8cade3f87c>\u001b[0m in \u001b[0;36m<module>\u001b[0;34m\u001b[0m\n\u001b[0;32m----> 1\u001b[0;31m \u001b[0mfloat\u001b[0m\u001b[0;34m(\u001b[0m\u001b[0ma\u001b[0m\u001b[0;34m)\u001b[0m\u001b[0;34m\u001b[0m\u001b[0;34m\u001b[0m\u001b[0m\n\u001b[0m",
      "\u001b[0;31mValueError\u001b[0m: could not convert string to float: 'Esto es un string'"
     ]
    }
   ],
   "source": [
    "float(a)"
   ]
  },
  {
   "cell_type": "code",
   "execution_count": 13,
   "id": "47201e83-3d21-4216-bf42-e596c0a5d5b9",
   "metadata": {},
   "outputs": [
    {
     "data": {
      "text/plain": [
       "True"
      ]
     },
     "execution_count": 13,
     "metadata": {},
     "output_type": "execute_result"
    }
   ],
   "source": [
    "\"e\" in a"
   ]
  },
  {
   "cell_type": "code",
   "execution_count": 14,
   "id": "09fde883-230d-42a4-bdb9-00e86703f9ca",
   "metadata": {},
   "outputs": [
    {
     "data": {
      "text/plain": [
       "False"
      ]
     },
     "execution_count": 14,
     "metadata": {},
     "output_type": "execute_result"
    }
   ],
   "source": [
    "\"Esta\" in a"
   ]
  },
  {
   "cell_type": "code",
   "execution_count": 15,
   "id": "ad399a02-7c7b-43ca-a4d8-b29280c4b508",
   "metadata": {},
   "outputs": [
    {
     "name": "stdout",
     "output_type": "stream",
     "text": [
      "Pues no\n"
     ]
    }
   ],
   "source": [
    "if \"Esta\" in a:\n",
    "    print (\"La palabra está \")\n",
    "else:\n",
    "    print(\"Pues no\")\n"
   ]
  },
  {
   "cell_type": "code",
   "execution_count": 16,
   "id": "6cbdc5d6-6fc2-406f-b651-2361f788bcb8",
   "metadata": {},
   "outputs": [
    {
     "data": {
      "text/plain": [
       "'Esto es un string'"
      ]
     },
     "execution_count": 16,
     "metadata": {},
     "output_type": "execute_result"
    }
   ],
   "source": [
    "a"
   ]
  },
  {
   "cell_type": "code",
   "execution_count": 17,
   "id": "97b98b33-8d40-42f3-be3c-dfbbe0988ab5",
   "metadata": {},
   "outputs": [],
   "source": [
    "t = \"la temp de fusion del hierro es 1538 grados\""
   ]
  },
  {
   "cell_type": "code",
   "execution_count": 20,
   "id": "34079240-5c58-4c2a-ac8e-c1c7926f9fe3",
   "metadata": {},
   "outputs": [
    {
     "data": {
      "text/plain": [
       "'la te'"
      ]
     },
     "execution_count": 20,
     "metadata": {},
     "output_type": "execute_result"
    }
   ],
   "source": [
    "t[0:5]"
   ]
  },
  {
   "cell_type": "code",
   "execution_count": 21,
   "id": "41d20baf-981e-4cd7-bdf1-ba05315080f0",
   "metadata": {},
   "outputs": [],
   "source": [
    "s1 = \"fry\"\n",
    "s2 = \"bender\""
   ]
  },
  {
   "cell_type": "code",
   "execution_count": 22,
   "id": "d75b0120-aaf1-460b-b426-950f4cac3991",
   "metadata": {},
   "outputs": [
    {
     "data": {
      "text/plain": [
       "'frybender'"
      ]
     },
     "execution_count": 22,
     "metadata": {},
     "output_type": "execute_result"
    }
   ],
   "source": [
    "s1 + s2"
   ]
  },
  {
   "cell_type": "code",
   "execution_count": 23,
   "id": "dc39b3fb-e16d-4679-8a3c-cbe926da3921",
   "metadata": {},
   "outputs": [
    {
     "data": {
      "text/plain": [
       "'fryfryfry'"
      ]
     },
     "execution_count": 23,
     "metadata": {},
     "output_type": "execute_result"
    }
   ],
   "source": [
    "3*s1"
   ]
  },
  {
   "cell_type": "code",
   "execution_count": 24,
   "id": "8deee032-7cec-4c71-9562-5bc7d35af654",
   "metadata": {},
   "outputs": [
    {
     "data": {
      "text/plain": [
       "'la temp de fusi'"
      ]
     },
     "execution_count": 24,
     "metadata": {},
     "output_type": "execute_result"
    }
   ],
   "source": [
    "t[0:5] + t[5:10] + t[10:15]"
   ]
  },
  {
   "cell_type": "code",
   "execution_count": 25,
   "id": "b387656c-5200-4302-bad4-64180136ac63",
   "metadata": {},
   "outputs": [
    {
     "data": {
      "text/plain": [
       "'FRY'"
      ]
     },
     "execution_count": 25,
     "metadata": {},
     "output_type": "execute_result"
    }
   ],
   "source": [
    "s1.upper()"
   ]
  },
  {
   "cell_type": "code",
   "execution_count": 31,
   "id": "f14f7ca3-6eb7-4473-988b-aa59633dc9bb",
   "metadata": {},
   "outputs": [
    {
     "data": {
      "text/plain": [
       "'actgactg'"
      ]
     },
     "execution_count": 31,
     "metadata": {},
     "output_type": "execute_result"
    }
   ],
   "source": [
    "s3 = \"ACTGACTG\"\n",
    "s3.lower()"
   ]
  },
  {
   "cell_type": "code",
   "execution_count": 33,
   "id": "ba205b87-d90c-4b55-82c5-12e4cca7b82e",
   "metadata": {},
   "outputs": [
    {
     "data": {
      "text/plain": [
       "'accgaccg'"
      ]
     },
     "execution_count": 33,
     "metadata": {},
     "output_type": "execute_result"
    }
   ],
   "source": [
    "s3.lower().replace(\"t\",\"c\")"
   ]
  },
  {
   "cell_type": "code",
   "execution_count": 29,
   "id": "f722be8e-9155-4077-8806-317f302452bd",
   "metadata": {},
   "outputs": [
    {
     "data": {
      "text/plain": [
       "'ACTGACTG'"
      ]
     },
     "execution_count": 29,
     "metadata": {},
     "output_type": "execute_result"
    }
   ],
   "source": [
    "s3"
   ]
  },
  {
   "cell_type": "code",
   "execution_count": 30,
   "id": "10c25520-6433-4921-b6e0-4ecf5e8e9f79",
   "metadata": {},
   "outputs": [
    {
     "ename": "TypeError",
     "evalue": "'str' object does not support item assignment",
     "output_type": "error",
     "traceback": [
      "\u001b[0;31m---------------------------------------------------------------------------\u001b[0m",
      "\u001b[0;31mTypeError\u001b[0m                                 Traceback (most recent call last)",
      "\u001b[0;32m<ipython-input-30-232a9d1641db>\u001b[0m in \u001b[0;36m<module>\u001b[0;34m\u001b[0m\n\u001b[0;32m----> 1\u001b[0;31m \u001b[0ms3\u001b[0m\u001b[0;34m[\u001b[0m\u001b[0;36m3\u001b[0m\u001b[0;34m]\u001b[0m\u001b[0;34m=\u001b[0m\u001b[0;34m\"E\"\u001b[0m\u001b[0;34m\u001b[0m\u001b[0;34m\u001b[0m\u001b[0m\n\u001b[0m",
      "\u001b[0;31mTypeError\u001b[0m: 'str' object does not support item assignment"
     ]
    }
   ],
   "source": [
    "s3[3]=\"E\""
   ]
  },
  {
   "cell_type": "code",
   "execution_count": 37,
   "id": "83f0e850-9769-4d5b-b69d-d12adff2966e",
   "metadata": {},
   "outputs": [
    {
     "data": {
      "text/plain": [
       "['la', 'temp', 'de', 'fusion', 'del', 'hierro', 'es', '1538', 'grados']"
      ]
     },
     "execution_count": 37,
     "metadata": {},
     "output_type": "execute_result"
    }
   ],
   "source": [
    "t.split()"
   ]
  },
  {
   "cell_type": "code",
   "execution_count": 38,
   "id": "716d0c66-51eb-420a-a6f2-4b72bb2a3935",
   "metadata": {},
   "outputs": [
    {
     "data": {
      "text/plain": [
       "'1538'"
      ]
     },
     "execution_count": 38,
     "metadata": {},
     "output_type": "execute_result"
    }
   ],
   "source": [
    "t.split()[7]"
   ]
  },
  {
   "cell_type": "code",
   "execution_count": 39,
   "id": "a76befc5-ecee-40ec-afbc-c72c1bdb52f7",
   "metadata": {},
   "outputs": [
    {
     "data": {
      "text/plain": [
       "1811.15"
      ]
     },
     "execution_count": 39,
     "metadata": {},
     "output_type": "execute_result"
    }
   ],
   "source": [
    "float(t.split()[7]) + 273.15"
   ]
  },
  {
   "cell_type": "code",
   "execution_count": 40,
   "id": "e16d3b8d-8a71-440e-ab0f-194824b93a0d",
   "metadata": {},
   "outputs": [
    {
     "data": {
      "text/plain": [
       "'la temp de fusion del hierro es 1538 grados'"
      ]
     },
     "execution_count": 40,
     "metadata": {},
     "output_type": "execute_result"
    }
   ],
   "source": [
    "t"
   ]
  },
  {
   "cell_type": "code",
   "execution_count": 41,
   "id": "6c37afa8-74ed-40f2-a6c8-1de7dbebb5f0",
   "metadata": {},
   "outputs": [
    {
     "data": {
      "text/plain": [
       "32"
      ]
     },
     "execution_count": 41,
     "metadata": {},
     "output_type": "execute_result"
    }
   ],
   "source": [
    "t.find(\"1\")"
   ]
  },
  {
   "cell_type": "code",
   "execution_count": 42,
   "id": "c62047f6-961f-4276-8242-3234a225ea42",
   "metadata": {},
   "outputs": [
    {
     "data": {
      "text/plain": [
       "['la t', 'mp d', ' fusion d', 'l hi', 'rro ', 's 1538 grados']"
      ]
     },
     "execution_count": 42,
     "metadata": {},
     "output_type": "execute_result"
    }
   ],
   "source": [
    "t.split(\"e\")"
   ]
  },
  {
   "cell_type": "code",
   "execution_count": 43,
   "id": "403ecf0c-40d7-4ebb-918e-7f19a243384a",
   "metadata": {},
   "outputs": [],
   "source": [
    "tt = \"\"\"Esto es un ejemplo con \n",
    "dos lineas o \n",
    "más\"\"\""
   ]
  },
  {
   "cell_type": "code",
   "execution_count": 46,
   "id": "dece1862-a0fb-4362-8382-8c8bb721d838",
   "metadata": {},
   "outputs": [
    {
     "data": {
      "text/plain": [
       "['Esto es un ejemplo con ', 'dos lineas o ', 'más']"
      ]
     },
     "execution_count": 46,
     "metadata": {},
     "output_type": "execute_result"
    }
   ],
   "source": [
    "tt.split(\"\\n\")"
   ]
  },
  {
   "cell_type": "markdown",
   "id": "1873750f-d5f2-45f0-8098-4b28cce3619e",
   "metadata": {},
   "source": [
    "** Password**"
   ]
  },
  {
   "cell_type": "code",
   "execution_count": 50,
   "id": "f00f993d-9201-43ae-922c-de125bd338e3",
   "metadata": {},
   "outputs": [
    {
     "name": "stdin",
     "output_type": "stream",
     "text": [
      "Introduce tu contraseña  FS34&.90\n"
     ]
    },
    {
     "name": "stdout",
     "output_type": "stream",
     "text": [
      "Al menos 5 dígitos\n"
     ]
    }
   ],
   "source": [
    "contra = input(\"Introduce tu contraseña \")\n",
    "chars = \"&$.*\"\n",
    "numbers = \"0123456789\"\n",
    "if len(contra) >= 8:\n",
    "    no_chars = True\n",
    "    for c in chars:\n",
    "        if c in contra:\n",
    "            no_chars = False\n",
    "            break\n",
    "    if no_chars:\n",
    "        print(\"Falta: \",chars)\n",
    "    else:\n",
    "        tot_num = 0\n",
    "        for n in numbers:\n",
    "            tot_num = tot_num + contra.count(n)\n",
    "        if tot_num >= 5:\n",
    "            print(\"Password ok!\")\n",
    "        else:\n",
    "            print(\"Al menos 5 dígitos\")\n",
    "else:\n",
    "    print(\"Número incorrecto de caractéres!\")\n",
    "            "
   ]
  },
  {
   "cell_type": "markdown",
   "id": "cf382979-bdd7-460e-9fe9-c98182ad5085",
   "metadata": {},
   "source": [
    "## Collective Data Types"
   ]
  },
  {
   "cell_type": "markdown",
   "id": "857fa196-7545-4d80-8770-0b0faf5dcb6d",
   "metadata": {},
   "source": [
    "### Lists"
   ]
  },
  {
   "cell_type": "code",
   "execution_count": 51,
   "id": "7e027190-2121-42c3-80a8-ee76cb285ac7",
   "metadata": {},
   "outputs": [],
   "source": [
    "lista = [34, \"Ramon\", 5.6, [4,5,6, [5,6]], 56]"
   ]
  },
  {
   "cell_type": "code",
   "execution_count": 52,
   "id": "7014bac2-e6c3-490c-b053-18d2d238dac9",
   "metadata": {},
   "outputs": [
    {
     "data": {
      "text/plain": [
       "5"
      ]
     },
     "execution_count": 52,
     "metadata": {},
     "output_type": "execute_result"
    }
   ],
   "source": [
    "len(lista)"
   ]
  },
  {
   "cell_type": "code",
   "execution_count": 53,
   "id": "b07a9453-ce44-4c49-84a2-94b137b9bd13",
   "metadata": {},
   "outputs": [
    {
     "data": {
      "text/plain": [
       "'Ramon'"
      ]
     },
     "execution_count": 53,
     "metadata": {},
     "output_type": "execute_result"
    }
   ],
   "source": [
    "lista[1]"
   ]
  },
  {
   "cell_type": "code",
   "execution_count": 57,
   "id": "ac92150c-da48-4163-ac3f-efebb312ae02",
   "metadata": {},
   "outputs": [],
   "source": [
    "lista[2]=\"Fermin\""
   ]
  },
  {
   "cell_type": "code",
   "execution_count": 58,
   "id": "1943adc3-6be6-4529-af15-5275d81783a7",
   "metadata": {},
   "outputs": [
    {
     "data": {
      "text/plain": [
       "[34, 'Ramon', 'Fermin', [4, 5, 6, [5, 6]], 56]"
      ]
     },
     "execution_count": 58,
     "metadata": {},
     "output_type": "execute_result"
    }
   ],
   "source": [
    "lista"
   ]
  },
  {
   "cell_type": "code",
   "execution_count": 59,
   "id": "0f0152b2-8094-4bae-a0cd-64ad8f32553c",
   "metadata": {},
   "outputs": [
    {
     "data": {
      "text/plain": [
       "[1, 2, 2, 3]"
      ]
     },
     "execution_count": 59,
     "metadata": {},
     "output_type": "execute_result"
    }
   ],
   "source": [
    "lista1 = [1,2]\n",
    "lista2 = [2,3]\n",
    "lista1+lista2"
   ]
  },
  {
   "cell_type": "code",
   "execution_count": 63,
   "id": "f63a72c1-f807-4961-9d5f-b2afc09f8afb",
   "metadata": {},
   "outputs": [],
   "source": [
    "for elemento in lista1:\n",
    "    elemento = elemento*5"
   ]
  },
  {
   "cell_type": "code",
   "execution_count": 64,
   "id": "622f13f6-8571-44c6-8680-88e99f66a550",
   "metadata": {},
   "outputs": [
    {
     "data": {
      "text/plain": [
       "[1, 2]"
      ]
     },
     "execution_count": 64,
     "metadata": {},
     "output_type": "execute_result"
    }
   ],
   "source": [
    "lista1"
   ]
  },
  {
   "cell_type": "code",
   "execution_count": 65,
   "id": "291bb934-6bb5-4037-a6d0-500642abdf62",
   "metadata": {},
   "outputs": [
    {
     "name": "stdout",
     "output_type": "stream",
     "text": [
      "1\n",
      "2\n"
     ]
    }
   ],
   "source": [
    "for elemento in lista1:\n",
    "    print(elemento)"
   ]
  },
  {
   "cell_type": "code",
   "execution_count": 68,
   "id": "7577affa-7f85-440e-b040-35a9ae704dbc",
   "metadata": {},
   "outputs": [
    {
     "name": "stdout",
     "output_type": "stream",
     "text": [
      "1\n",
      "2\n"
     ]
    }
   ],
   "source": [
    "for i in range(len(lista1)):\n",
    "    print(lista1[i])"
   ]
  },
  {
   "cell_type": "code",
   "execution_count": 71,
   "id": "dcd5933d-b648-4b42-80e1-af8edb5e5a63",
   "metadata": {},
   "outputs": [
    {
     "data": {
      "text/plain": [
       "[25, 50]"
      ]
     },
     "execution_count": 71,
     "metadata": {},
     "output_type": "execute_result"
    }
   ],
   "source": [
    "for i in range(len(lista1)):\n",
    "    lista1[i]=lista1[i]*5\n",
    "lista1"
   ]
  },
  {
   "cell_type": "code",
   "execution_count": 74,
   "id": "9d4a0449-0d90-4b87-9d53-40af7671e722",
   "metadata": {},
   "outputs": [],
   "source": [
    "lista = [4,5,23,3,4,5,1]"
   ]
  },
  {
   "cell_type": "code",
   "execution_count": 75,
   "id": "33c88f15-0e91-4d5a-9f79-d88428f807c7",
   "metadata": {},
   "outputs": [
    {
     "data": {
      "text/plain": [
       "[23, 3]"
      ]
     },
     "execution_count": 75,
     "metadata": {},
     "output_type": "execute_result"
    }
   ],
   "source": [
    "lista[2:4]"
   ]
  },
  {
   "cell_type": "code",
   "execution_count": 76,
   "id": "09d63820-3ef0-41ee-b4bd-b7269a7eb9e5",
   "metadata": {},
   "outputs": [
    {
     "data": {
      "text/plain": [
       "[4, 5, 23, 3]"
      ]
     },
     "execution_count": 76,
     "metadata": {},
     "output_type": "execute_result"
    }
   ],
   "source": [
    "lista[:4]"
   ]
  },
  {
   "cell_type": "code",
   "execution_count": 77,
   "id": "4b95c888-8aa6-4d36-8769-a7e14d734f60",
   "metadata": {},
   "outputs": [
    {
     "data": {
      "text/plain": [
       "[23, 3, 4, 5, 1]"
      ]
     },
     "execution_count": 77,
     "metadata": {},
     "output_type": "execute_result"
    }
   ],
   "source": [
    "lista[2:]"
   ]
  },
  {
   "cell_type": "code",
   "execution_count": 78,
   "id": "30a789ba-d9a1-4458-bb55-cec15b9389b8",
   "metadata": {},
   "outputs": [
    {
     "data": {
      "text/plain": [
       "[23, 4]"
      ]
     },
     "execution_count": 78,
     "metadata": {},
     "output_type": "execute_result"
    }
   ],
   "source": [
    "lista[2:5:2]"
   ]
  },
  {
   "cell_type": "code",
   "execution_count": 80,
   "id": "88f34af0-e2e9-4b97-a5fc-bc43cb7c32f1",
   "metadata": {},
   "outputs": [
    {
     "data": {
      "text/plain": [
       "5"
      ]
     },
     "execution_count": 80,
     "metadata": {},
     "output_type": "execute_result"
    }
   ],
   "source": [
    "lista[-2]"
   ]
  },
  {
   "cell_type": "code",
   "execution_count": 81,
   "id": "cfa06f38-33a1-4338-adaf-d3936c8b7adf",
   "metadata": {},
   "outputs": [
    {
     "data": {
      "text/plain": [
       "[1, 5, 4, 3, 23, 5, 4]"
      ]
     },
     "execution_count": 81,
     "metadata": {},
     "output_type": "execute_result"
    }
   ],
   "source": [
    "lista[::-1]"
   ]
  },
  {
   "cell_type": "code",
   "execution_count": 83,
   "id": "e44b5959-895b-49e6-9def-fe3917e6de46",
   "metadata": {},
   "outputs": [
    {
     "data": {
      "text/plain": [
       "[]"
      ]
     },
     "execution_count": 83,
     "metadata": {},
     "output_type": "execute_result"
    }
   ],
   "source": [
    "lista[2:4:-1]"
   ]
  },
  {
   "cell_type": "code",
   "execution_count": 85,
   "id": "43369393-4c4b-4685-b397-25c19f9cf141",
   "metadata": {},
   "outputs": [],
   "source": [
    "lista.append(99)"
   ]
  },
  {
   "cell_type": "code",
   "execution_count": 86,
   "id": "73c7f3c2-2d8d-44b6-8af5-c68d868f115f",
   "metadata": {},
   "outputs": [
    {
     "data": {
      "text/plain": [
       "[4, 5, 23, 3, 4, 5, 1, 99]"
      ]
     },
     "execution_count": 86,
     "metadata": {},
     "output_type": "execute_result"
    }
   ],
   "source": [
    "lista"
   ]
  },
  {
   "cell_type": "code",
   "execution_count": 89,
   "id": "37ba6c72-c5ce-4fec-8fd0-9e3a384bac39",
   "metadata": {},
   "outputs": [],
   "source": [
    "lista.insert(2, 100)"
   ]
  },
  {
   "cell_type": "code",
   "execution_count": 90,
   "id": "f6b4c19d-c5d0-40f4-8e61-90b9d5e0cea0",
   "metadata": {},
   "outputs": [
    {
     "data": {
      "text/plain": [
       "[4, 5, 100, 23, 3, 4, 5, 1, 99, 2]"
      ]
     },
     "execution_count": 90,
     "metadata": {},
     "output_type": "execute_result"
    }
   ],
   "source": [
    "lista"
   ]
  },
  {
   "cell_type": "code",
   "execution_count": 92,
   "id": "dfc5629e-028a-4eda-92f5-0bf58086a490",
   "metadata": {},
   "outputs": [
    {
     "data": {
      "text/plain": [
       "2"
      ]
     },
     "execution_count": 92,
     "metadata": {},
     "output_type": "execute_result"
    }
   ],
   "source": [
    "lista.pop()"
   ]
  },
  {
   "cell_type": "code",
   "execution_count": 93,
   "id": "742ac192-926f-4e46-9cd8-c02cdbf60610",
   "metadata": {},
   "outputs": [
    {
     "data": {
      "text/plain": [
       "[4, 5, 100, 23, 3, 4, 5, 1, 99]"
      ]
     },
     "execution_count": 93,
     "metadata": {},
     "output_type": "execute_result"
    }
   ],
   "source": [
    "lista"
   ]
  },
  {
   "cell_type": "code",
   "execution_count": 94,
   "id": "caf46108-e322-4f30-a349-0d4532ee5a89",
   "metadata": {},
   "outputs": [
    {
     "data": {
      "text/plain": [
       "100"
      ]
     },
     "execution_count": 94,
     "metadata": {},
     "output_type": "execute_result"
    }
   ],
   "source": [
    "lista.pop(2)"
   ]
  },
  {
   "cell_type": "code",
   "execution_count": 95,
   "id": "bb194c00-b3e0-4fbb-a8ce-82901039ef08",
   "metadata": {},
   "outputs": [
    {
     "data": {
      "text/plain": [
       "23"
      ]
     },
     "execution_count": 95,
     "metadata": {},
     "output_type": "execute_result"
    }
   ],
   "source": [
    "a = lista.pop(2)\n",
    "a"
   ]
  },
  {
   "cell_type": "code",
   "execution_count": 96,
   "id": "3dc8e6eb-4d95-43c3-8072-61b91b287086",
   "metadata": {},
   "outputs": [
    {
     "data": {
      "text/plain": [
       "[5, 3, 4, 5, 1, 99]"
      ]
     },
     "execution_count": 96,
     "metadata": {},
     "output_type": "execute_result"
    }
   ],
   "source": [
    "lista.remove(4)\n",
    "lista"
   ]
  },
  {
   "cell_type": "code",
   "execution_count": 97,
   "id": "5cce27c8-f6c1-42c3-a841-c9e17c4295d6",
   "metadata": {},
   "outputs": [
    {
     "ename": "ValueError",
     "evalue": "list.remove(x): x not in list",
     "output_type": "error",
     "traceback": [
      "\u001b[0;31m---------------------------------------------------------------------------\u001b[0m",
      "\u001b[0;31mValueError\u001b[0m                                Traceback (most recent call last)",
      "\u001b[0;32m<ipython-input-97-34b9edaf5ba1>\u001b[0m in \u001b[0;36m<module>\u001b[0;34m\u001b[0m\n\u001b[0;32m----> 1\u001b[0;31m \u001b[0mlista\u001b[0m\u001b[0;34m.\u001b[0m\u001b[0mremove\u001b[0m\u001b[0;34m(\u001b[0m\u001b[0;36m8888\u001b[0m\u001b[0;34m)\u001b[0m\u001b[0;34m\u001b[0m\u001b[0;34m\u001b[0m\u001b[0m\n\u001b[0m",
      "\u001b[0;31mValueError\u001b[0m: list.remove(x): x not in list"
     ]
    }
   ],
   "source": [
    "lista.remove(8888)"
   ]
  },
  {
   "cell_type": "code",
   "execution_count": null,
   "id": "23ee53f8-63b9-4947-99fd-2c31c044b3d3",
   "metadata": {},
   "outputs": [],
   "source": [
    "tC = []\n",
    "t = float(input(\"Valor de T (Celsius): \"))\n",
    "\n",
    "while t > -273.15:\n",
    "    tC.append(t)\n",
    "    t = float(input(\"Valor de T (Celsius): \"))\n",
    "\n",
    "print(\"Lista de temps en Celsius:\")\n",
    "print(tC)\n",
    "          "
   ]
  },
  {
   "cell_type": "code",
   "execution_count": 101,
   "id": "87d04b75-7cb5-4b4f-953c-29814e7354a2",
   "metadata": {},
   "outputs": [
    {
     "name": "stdin",
     "output_type": "stream",
     "text": [
      "Valor de T (Celsius):  25\n",
      "Valor de T (Celsius):  50\n",
      "Valor de T (Celsius):  75\n",
      "Valor de T (Celsius):  100\n",
      "Valor de T (Celsius):  125\n"
     ]
    },
    {
     "name": "stdout",
     "output_type": "stream",
     "text": [
      "Lista de temps en Celsius:\n",
      "[25.0, 50.0, 75.0, 100.0, 125.0]\n",
      "Lista de temps en Kelvin:\n",
      "[298.15, 323.15, 348.15, 373.15, 398.15]\n"
     ]
    }
   ],
   "source": [
    "tC = []\n",
    "for k in range(5):\n",
    "    t = float(input(\"Valor de T (Celsius): \"))\n",
    "    tC.append(t)\n",
    "    \n",
    "tK = []\n",
    "for t in tC:\n",
    "    tK.append(t + 273.15)\n",
    "\n",
    "print(\"Lista de temps en Celsius:\")\n",
    "print(tC)\n",
    "print(\"Lista de temps en Kelvin:\")\n",
    "print(tK)"
   ]
  },
  {
   "cell_type": "code",
   "execution_count": null,
   "id": "342e7193-445b-4a6f-aa42-19fd6dc656ad",
   "metadata": {},
   "outputs": [],
   "source": [
    "ans = input(\"Valores de T: \")\n",
    "ans_list = ans.split()\n",
    "tC = []\n",
    "\n",
    "for c in ans_list:\n",
    "    t = float(c)\n",
    "    tC.appen(t)"
   ]
  },
  {
   "cell_type": "code",
   "execution_count": 100,
   "id": "c78fc877-ed95-4a67-9f3e-2f0964c4a8a5",
   "metadata": {},
   "outputs": [
    {
     "name": "stdin",
     "output_type": "stream",
     "text": [
      "Valores de T:  25 50 75 100\n"
     ]
    }
   ],
   "source": [
    "tC = []\n",
    "for c in input(\"Valores de T: \").split():\n",
    "    t = float(c)\n",
    "    tC.appen(t)"
   ]
  },
  {
   "cell_type": "code",
   "execution_count": 102,
   "id": "ec3afa95-97d0-4261-a437-c59262b32504",
   "metadata": {},
   "outputs": [
    {
     "data": {
      "text/plain": [
       "[25.0, 50.0, 75.0, 100.0, 125.0]"
      ]
     },
     "execution_count": 102,
     "metadata": {},
     "output_type": "execute_result"
    }
   ],
   "source": [
    "tC"
   ]
  },
  {
   "cell_type": "code",
   "execution_count": 103,
   "id": "ad19b379-77c3-42bf-b848-a9a31b7b181d",
   "metadata": {},
   "outputs": [
    {
     "data": {
      "text/plain": [
       "[298.15, 323.15, 348.15, 373.15, 398.15]"
      ]
     },
     "execution_count": 103,
     "metadata": {},
     "output_type": "execute_result"
    }
   ],
   "source": [
    "tK"
   ]
  },
  {
   "cell_type": "code",
   "execution_count": 104,
   "id": "88e5812a-442d-4e14-b9aa-cca15db83145",
   "metadata": {},
   "outputs": [
    {
     "name": "stdout",
     "output_type": "stream",
     "text": [
      "25.0 298.15\n",
      "50.0 323.15\n",
      "75.0 348.15\n",
      "100.0 373.15\n",
      "125.0 398.15\n"
     ]
    }
   ],
   "source": [
    "for i in range(len(tC)):\n",
    "    print(tC[i],tK[i])"
   ]
  },
  {
   "cell_type": "code",
   "execution_count": 105,
   "id": "0c5e2493-3ae9-48ac-ab74-ee719c5f51a6",
   "metadata": {},
   "outputs": [
    {
     "name": "stdout",
     "output_type": "stream",
     "text": [
      "25.0 298.15\n",
      "50.0 323.15\n",
      "75.0 348.15\n",
      "100.0 373.15\n",
      "125.0 398.15\n"
     ]
    }
   ],
   "source": [
    "for x,y in zip(tC,tK):\n",
    "    print(x,y)"
   ]
  },
  {
   "cell_type": "markdown",
   "id": "a98d55e2-7e57-4ed1-9fa7-327da57fc69e",
   "metadata": {},
   "source": [
    "**List comprehensions!**"
   ]
  },
  {
   "cell_type": "code",
   "execution_count": 107,
   "id": "b52c26b0-8a04-4076-89f6-b2136de6ec29",
   "metadata": {},
   "outputs": [
    {
     "data": {
      "text/plain": [
       "[0, 1, 4]"
      ]
     },
     "execution_count": 107,
     "metadata": {},
     "output_type": "execute_result"
    }
   ],
   "source": [
    "[x**2 for x in range(3)]"
   ]
  },
  {
   "cell_type": "code",
   "execution_count": 108,
   "id": "08943442-8946-404b-80f9-3b0aafe1f8cd",
   "metadata": {},
   "outputs": [
    {
     "name": "stdin",
     "output_type": "stream",
     "text": [
      "Valores de T:  25 50 75\n"
     ]
    },
    {
     "name": "stdout",
     "output_type": "stream",
     "text": [
      "25.0 298.15\n",
      "50.0 323.15\n",
      "75.0 348.15\n"
     ]
    }
   ],
   "source": [
    "tC = [float(t) for t in input(\"Valores de T: \").split()]\n",
    "tK = [t+273.15 for t in tC]\n",
    "for x,y in zip(tC,tK):\n",
    "    print(x,y)"
   ]
  },
  {
   "cell_type": "markdown",
   "id": "5c8fbcca-ab71-452b-b9be-0af5ca8bdd45",
   "metadata": {},
   "source": [
    "### Dictionaries"
   ]
  },
  {
   "cell_type": "code",
   "execution_count": 111,
   "id": "64c752ad-2594-410e-b1c8-170ee542b7ed",
   "metadata": {},
   "outputs": [],
   "source": [
    "t = (5,6,7)"
   ]
  },
  {
   "cell_type": "code",
   "execution_count": 112,
   "id": "f4438150-e2ea-4dae-b1d6-56c505527a6c",
   "metadata": {},
   "outputs": [],
   "source": [
    "d = {}"
   ]
  },
  {
   "cell_type": "code",
   "execution_count": 117,
   "id": "27f4142e-a342-4879-afd1-fa0805fa6d78",
   "metadata": {},
   "outputs": [],
   "source": [
    "d[\"H\"] = 1.0\n",
    "d[\"He\"] = 2.0\n",
    "d[\"O\"] = 16.0\n",
    "d[\"C\"] = 12.0\n",
    "d[\"Na\"] = 23.0"
   ]
  },
  {
   "cell_type": "code",
   "execution_count": 120,
   "id": "690cb12a-22b7-431b-a26f-0174416a44d9",
   "metadata": {},
   "outputs": [
    {
     "data": {
      "text/plain": [
       "{'C': 6, 'O': 1, 'H': 12}"
      ]
     },
     "execution_count": 120,
     "metadata": {},
     "output_type": "execute_result"
    }
   ],
   "source": [
    "formula = {\"C\":6, \"O\":1, \"H\":12}\n",
    "formula"
   ]
  },
  {
   "cell_type": "code",
   "execution_count": 126,
   "id": "12ff5a86-d712-474a-9da7-241228f72443",
   "metadata": {},
   "outputs": [
    {
     "name": "stdout",
     "output_type": "stream",
     "text": [
      "Molecular mass: 100.0\n"
     ]
    }
   ],
   "source": [
    "mass = 0.0\n",
    "for elem in formula:\n",
    "    #print(elem, formula[elem], d[elem])\n",
    "    mass = mass + formula[elem]*d[elem]\n",
    "print(f\"Molecular mass: {mass:.1f}\")"
   ]
  },
  {
   "cell_type": "code",
   "execution_count": 128,
   "id": "26c5e0e3-8a02-425c-80d8-37317a4b24fd",
   "metadata": {},
   "outputs": [
    {
     "name": "stdout",
     "output_type": "stream",
     "text": [
      "Missing element: N\n"
     ]
    },
    {
     "name": "stdin",
     "output_type": "stream",
     "text": [
      "Mass of N? 14.0\n"
     ]
    },
    {
     "name": "stdout",
     "output_type": "stream",
     "text": [
      "Molecular mass: 128.0\n"
     ]
    }
   ],
   "source": [
    "formula = {\"C\":6, \"O\":1, \"H\":12, \"N\":2}\n",
    "\n",
    "mass = 0.0\n",
    "for elem in formula:\n",
    "    #print(elem, formula[elem], d[elem])\n",
    "    if not elem in d:\n",
    "        print(f\"Missing element: {elem}\")\n",
    "        at_mass = input(f\"Mass of {elem}?\")\n",
    "        at_mass = float(at_mass)\n",
    "        d[elem] = at_mass\n",
    "    mass = mass + formula[elem]*d[elem]\n",
    "print(f\"Molecular mass: {mass:.1f}\")\n"
   ]
  },
  {
   "cell_type": "code",
   "execution_count": 130,
   "id": "250968b5-7061-4b30-9a8f-c3702ed394c3",
   "metadata": {},
   "outputs": [
    {
     "data": {
      "text/plain": [
       "14.0"
      ]
     },
     "execution_count": 130,
     "metadata": {},
     "output_type": "execute_result"
    }
   ],
   "source": [
    "d.get(\"N\")"
   ]
  },
  {
   "cell_type": "code",
   "execution_count": 139,
   "id": "2cf5e5c0-61f4-43c4-b8b1-0889e80b58da",
   "metadata": {},
   "outputs": [
    {
     "data": {
      "text/plain": [
       "('Not defined', 12.0)"
      ]
     },
     "execution_count": 139,
     "metadata": {},
     "output_type": "execute_result"
    }
   ],
   "source": [
    "d.get(\"Fe\", \"Not defined\"),d.get(\"C\", \"Not defined\") "
   ]
  },
  {
   "cell_type": "code",
   "execution_count": 133,
   "id": "a9abe62d-4979-412f-b7f0-deecfafa5642",
   "metadata": {},
   "outputs": [
    {
     "data": {
      "text/plain": [
       "65.0"
      ]
     },
     "execution_count": 133,
     "metadata": {},
     "output_type": "execute_result"
    }
   ],
   "source": [
    "d.setdefault(\"Zn\", 65.0)"
   ]
  },
  {
   "cell_type": "code",
   "execution_count": 135,
   "id": "9b963c7c-d8c0-4146-9435-be0f4bfca1aa",
   "metadata": {},
   "outputs": [
    {
     "data": {
      "text/plain": [
       "{'H': 1.0, 'He': 2.0, 'C': 12.0, 'Na': 23.0, 'O': 16.0, 'N': 14.0, 'Zn': 65.0}"
      ]
     },
     "execution_count": 135,
     "metadata": {},
     "output_type": "execute_result"
    }
   ],
   "source": [
    "d"
   ]
  },
  {
   "cell_type": "code",
   "execution_count": 142,
   "id": "8add87a7-6115-4e2f-bafd-8423fd9e265c",
   "metadata": {},
   "outputs": [],
   "source": [
    "tel = {}"
   ]
  },
  {
   "cell_type": "code",
   "execution_count": 143,
   "id": "6eb972da-c385-4c78-9251-4c5b1bdc48ad",
   "metadata": {},
   "outputs": [],
   "source": [
    "tel[\"Jose Luis\"] = 1234"
   ]
  },
  {
   "cell_type": "code",
   "execution_count": 144,
   "id": "1cf5abc9-aed6-4562-97b7-efacd486b0c7",
   "metadata": {},
   "outputs": [],
   "source": [
    "tel[\"Jose Luis\"] = 3453"
   ]
  },
  {
   "cell_type": "code",
   "execution_count": 145,
   "id": "b5c40312-8069-4681-8474-b4b7b2968fa5",
   "metadata": {},
   "outputs": [
    {
     "data": {
      "text/plain": [
       "{'Jose Luis': 3453}"
      ]
     },
     "execution_count": 145,
     "metadata": {},
     "output_type": "execute_result"
    }
   ],
   "source": [
    "tel"
   ]
  },
  {
   "cell_type": "code",
   "execution_count": 146,
   "id": "27790b96-a29f-4848-bdde-e0e41b526c4e",
   "metadata": {},
   "outputs": [],
   "source": [
    "nombre = [\"Ramon\", \"Crehuet\"]"
   ]
  },
  {
   "cell_type": "code",
   "execution_count": 147,
   "id": "7d2d907d-48c4-428e-bc49-25a1c8d6a1f0",
   "metadata": {},
   "outputs": [
    {
     "ename": "TypeError",
     "evalue": "unhashable type: 'list'",
     "output_type": "error",
     "traceback": [
      "\u001b[0;31m---------------------------------------------------------------------------\u001b[0m",
      "\u001b[0;31mTypeError\u001b[0m                                 Traceback (most recent call last)",
      "\u001b[0;32m<ipython-input-147-9ec9e30f26f7>\u001b[0m in \u001b[0;36m<module>\u001b[0;34m\u001b[0m\n\u001b[0;32m----> 1\u001b[0;31m \u001b[0mtel\u001b[0m\u001b[0;34m[\u001b[0m\u001b[0mnombre\u001b[0m\u001b[0;34m]\u001b[0m \u001b[0;34m=\u001b[0m \u001b[0;36m4545343\u001b[0m\u001b[0;34m\u001b[0m\u001b[0;34m\u001b[0m\u001b[0m\n\u001b[0m",
      "\u001b[0;31mTypeError\u001b[0m: unhashable type: 'list'"
     ]
    }
   ],
   "source": [
    "tel[nombre] = 4545343"
   ]
  },
  {
   "cell_type": "code",
   "execution_count": 148,
   "id": "b947802b-6023-4faf-9635-dfe246744b6d",
   "metadata": {},
   "outputs": [],
   "source": [
    "lista1 = [3,4,3,2]\n",
    "lista2 = lista1\n",
    "lista1.append(8)"
   ]
  },
  {
   "cell_type": "code",
   "execution_count": 149,
   "id": "934afad2-6f99-44c5-89b4-7cc67044a6a1",
   "metadata": {},
   "outputs": [
    {
     "data": {
      "text/plain": [
       "[3, 4, 3, 2, 8]"
      ]
     },
     "execution_count": 149,
     "metadata": {},
     "output_type": "execute_result"
    }
   ],
   "source": [
    "lista1"
   ]
  },
  {
   "cell_type": "code",
   "execution_count": 150,
   "id": "5485ff61-0dc7-4ae6-8b9a-3654c03a0274",
   "metadata": {},
   "outputs": [
    {
     "data": {
      "text/plain": [
       "[3, 4, 3, 2, 8]"
      ]
     },
     "execution_count": 150,
     "metadata": {},
     "output_type": "execute_result"
    }
   ],
   "source": [
    "lista2"
   ]
  },
  {
   "cell_type": "code",
   "execution_count": null,
   "id": "5dd2ac48-db15-4064-a4df-f9a7bf5e5964",
   "metadata": {},
   "outputs": [],
   "source": []
  }
 ],
 "metadata": {
  "kernelspec": {
   "display_name": "Python 3",
   "language": "python",
   "name": "python3"
  },
  "language_info": {
   "codemirror_mode": {
    "name": "ipython",
    "version": 3
   },
   "file_extension": ".py",
   "mimetype": "text/x-python",
   "name": "python",
   "nbconvert_exporter": "python",
   "pygments_lexer": "ipython3",
   "version": "3.7.11"
  }
 },
 "nbformat": 4,
 "nbformat_minor": 5
}
