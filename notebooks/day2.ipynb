{
 "cells": [
  {
   "cell_type": "code",
   "execution_count": 1,
   "id": "05ba610f-ea3c-4dcd-96d3-13600ab35508",
   "metadata": {
    "tags": []
   },
   "outputs": [],
   "source": [
    "lista1 = [\"M1\", \"M3\", \"M5\", \"A4\", \"A5\", \"B1\", \"B2\"]"
   ]
  },
  {
   "cell_type": "code",
   "execution_count": 2,
   "id": "c15b33e0-d33e-4669-95f1-6a04b4a078be",
   "metadata": {
    "tags": []
   },
   "outputs": [],
   "source": [
    "lista2 = [\"M2\", \"M5\", \"A4\", \"A7\", \"B2\"]"
   ]
  },
  {
   "cell_type": "code",
   "execution_count": 4,
   "id": "cc237b4d-5d37-486e-9078-d0519c0fd896",
   "metadata": {
    "tags": []
   },
   "outputs": [],
   "source": [
    "lista_tot = lista1+lista2"
   ]
  },
  {
   "cell_type": "code",
   "execution_count": 5,
   "id": "c5172154-3234-4ab0-9ef3-e5d55ad1af97",
   "metadata": {
    "tags": []
   },
   "outputs": [
    {
     "data": {
      "text/plain": [
       "12"
      ]
     },
     "execution_count": 5,
     "metadata": {},
     "output_type": "execute_result"
    }
   ],
   "source": [
    "len(lista_tot)"
   ]
  },
  {
   "cell_type": "code",
   "execution_count": 6,
   "id": "66ff4748-40bd-48b3-b924-685496850f95",
   "metadata": {
    "tags": []
   },
   "outputs": [],
   "source": [
    "lista_tot = []\n",
    "for est in lista1:\n",
    "    if est in lista2:\n",
    "        lista_tot.append(est)"
   ]
  },
  {
   "cell_type": "code",
   "execution_count": 7,
   "id": "86fae403-c4fa-42bf-b25a-b5b42b4d53c2",
   "metadata": {
    "tags": []
   },
   "outputs": [
    {
     "data": {
      "text/plain": [
       "['M5', 'A4', 'B2']"
      ]
     },
     "execution_count": 7,
     "metadata": {},
     "output_type": "execute_result"
    }
   ],
   "source": [
    "lista_tot"
   ]
  },
  {
   "cell_type": "code",
   "execution_count": 8,
   "id": "8dd59322-3247-4226-9450-6fb791dcd6fc",
   "metadata": {
    "tags": []
   },
   "outputs": [],
   "source": [
    "set1 = set(lista1)\n",
    "set2 =set(lista2)"
   ]
  },
  {
   "cell_type": "code",
   "execution_count": 9,
   "id": "7b0cdae7-0035-4e75-a4c0-864c92241c0a",
   "metadata": {
    "tags": []
   },
   "outputs": [
    {
     "data": {
      "text/plain": [
       "{'A4', 'A5', 'B1', 'B2', 'M1', 'M3', 'M5'}"
      ]
     },
     "execution_count": 9,
     "metadata": {},
     "output_type": "execute_result"
    }
   ],
   "source": [
    "set1"
   ]
  },
  {
   "cell_type": "code",
   "execution_count": 10,
   "id": "84412641-0d36-4288-869a-a2eaf2ddcba9",
   "metadata": {
    "tags": []
   },
   "outputs": [
    {
     "data": {
      "text/plain": [
       "{'A4', 'B2', 'M5'}"
      ]
     },
     "execution_count": 10,
     "metadata": {},
     "output_type": "execute_result"
    }
   ],
   "source": [
    "set1.intersection(set2)"
   ]
  },
  {
   "cell_type": "code",
   "execution_count": 12,
   "id": "9fda04a9-4e24-47a6-a2bb-51755a76e424",
   "metadata": {
    "tags": []
   },
   "outputs": [
    {
     "data": {
      "text/plain": [
       "9"
      ]
     },
     "execution_count": 12,
     "metadata": {},
     "output_type": "execute_result"
    }
   ],
   "source": [
    "len(set1.union(set2))"
   ]
  },
  {
   "cell_type": "code",
   "execution_count": 15,
   "id": "0d594ef5-871e-4d05-9eb5-c69c2be5c1b1",
   "metadata": {
    "tags": []
   },
   "outputs": [
    {
     "data": {
      "text/plain": [
       "{'A4', 'A5', 'B1', 'B2', 'M1', 'M3', 'M5'}"
      ]
     },
     "execution_count": 15,
     "metadata": {},
     "output_type": "execute_result"
    }
   ],
   "source": [
    "set1"
   ]
  },
  {
   "cell_type": "code",
   "execution_count": 16,
   "id": "1c7cf72f-d96b-421e-adc5-f896143a1cef",
   "metadata": {
    "tags": []
   },
   "outputs": [],
   "source": [
    "set1.add(\"B6\")"
   ]
  },
  {
   "cell_type": "code",
   "execution_count": 17,
   "id": "fd3eb7b8-1e45-4b67-b642-9385a946d440",
   "metadata": {
    "tags": []
   },
   "outputs": [
    {
     "data": {
      "text/plain": [
       "{'A4', 'A5', 'B1', 'B2', 'B6', 'M1', 'M3', 'M5'}"
      ]
     },
     "execution_count": 17,
     "metadata": {},
     "output_type": "execute_result"
    }
   ],
   "source": [
    "set1."
   ]
  },
  {
   "cell_type": "code",
   "execution_count": 18,
   "id": "302404c5-96b9-4392-a5b6-3faa9e442ac9",
   "metadata": {
    "tags": []
   },
   "outputs": [
    {
     "data": {
      "text/plain": [
       "True"
      ]
     },
     "execution_count": 18,
     "metadata": {},
     "output_type": "execute_result"
    }
   ],
   "source": [
    "\"A4\" in set1"
   ]
  },
  {
   "cell_type": "code",
   "execution_count": 19,
   "id": "e190fbcc-bea6-4d35-bdc6-dd42109b5287",
   "metadata": {
    "tags": []
   },
   "outputs": [
    {
     "name": "stdout",
     "output_type": "stream",
     "text": [
      "M1\n",
      "M5\n",
      "B1\n",
      "B6\n",
      "M3\n",
      "B2\n",
      "A5\n",
      "A4\n"
     ]
    }
   ],
   "source": [
    "for elem in set1:\n",
    "    print(elem)"
   ]
  },
  {
   "cell_type": "code",
   "execution_count": 20,
   "id": "bc69c490-d9bf-45e5-b15a-d13e5b1906aa",
   "metadata": {
    "tags": []
   },
   "outputs": [
    {
     "data": {
      "text/plain": [
       "['M1', 'M3', 'M5', 'A4', 'A5', 'B1', 'B2']"
      ]
     },
     "execution_count": 20,
     "metadata": {},
     "output_type": "execute_result"
    }
   ],
   "source": [
    "lista1"
   ]
  },
  {
   "cell_type": "code",
   "execution_count": 21,
   "id": "c7943025-d3e9-40f5-bc31-ed97d3d73148",
   "metadata": {
    "tags": []
   },
   "outputs": [
    {
     "data": {
      "text/plain": [
       "'M1unidorM3unidorM5unidorA4unidorA5unidorB1unidorB2'"
      ]
     },
     "execution_count": 21,
     "metadata": {},
     "output_type": "execute_result"
    }
   ],
   "source": [
    "\"unidor\".join(lista1)"
   ]
  },
  {
   "cell_type": "code",
   "execution_count": 22,
   "id": "861afa62-898c-4cff-bab5-1c0ba231ad4c",
   "metadata": {
    "tags": []
   },
   "outputs": [
    {
     "data": {
      "text/plain": [
       "'M1,M3,M5,A4,A5,B1,B2'"
      ]
     },
     "execution_count": 22,
     "metadata": {},
     "output_type": "execute_result"
    }
   ],
   "source": [
    "\",\".join(lista1)"
   ]
  },
  {
   "cell_type": "code",
   "execution_count": 23,
   "id": "2d546242-cc53-4b6d-832d-06a40b732088",
   "metadata": {
    "tags": []
   },
   "outputs": [
    {
     "data": {
      "text/plain": [
       "'M1M3M5A4A5B1B2'"
      ]
     },
     "execution_count": 23,
     "metadata": {},
     "output_type": "execute_result"
    }
   ],
   "source": [
    "\"\".join(lista1)"
   ]
  },
  {
   "cell_type": "markdown",
   "id": "6db1ed9a-b78d-4e90-a209-69a5528f04ab",
   "metadata": {},
   "source": [
    "**Ejercicio**\n",
    "\n",
    "Hacer un programa que pida al usuario un texto en una única línea y determine el número de palabras, el número total de caracteres del texto y el número total de caracteres excluidos los espacios. En último lugar el programa debe escribir todas las palabras del texto, cada una de ellas en una línea aparte."
   ]
  },
  {
   "cell_type": "code",
   "execution_count": null,
   "id": "64f0c1cc-838d-466c-b024-2d753a520b22",
   "metadata": {},
   "outputs": [],
   "source": [
    "ans = input(\"Introduce un texto en una sola linea: \")\n",
    "nchar = len(ans)\n",
    "print(f\"La linea contiene {nchar} carácteres\")\n",
    "l_palabras = ans.split()\n",
    "nwords = len(l_palabras)\n",
    "print(f\"La linea contiene {nwords} palabras\")\n",
    "#Version sin join\n",
    "nchar_nospace = 0\n",
    "for w in l_palabras:\n",
    "    nchar_nospace = nchar_nospace + len(w)\n",
    "\n",
    "#Version con join (ojo! una u otra)\n",
    "nchar_nospace = len(\"\".join(l_palabras))\n",
    "\n",
    "\n",
    "for w in l_palabras:\n",
    "    print(w)\n",
    "print(\"Final\")"
   ]
  },
  {
   "cell_type": "code",
   "execution_count": 28,
   "id": "bf417847-32a1-4050-99b4-0f2b206a5594",
   "metadata": {
    "tags": []
   },
   "outputs": [
    {
     "data": {
      "text/plain": [
       "True"
      ]
     },
     "execution_count": 28,
     "metadata": {},
     "output_type": "execute_result"
    }
   ],
   "source": [
    "\" \".isspace()"
   ]
  },
  {
   "cell_type": "code",
   "execution_count": 30,
   "id": "14d1f10e-b551-4059-b2ac-b7398f1339b3",
   "metadata": {
    "tags": []
   },
   "outputs": [
    {
     "data": {
      "text/plain": [
       "False"
      ]
     },
     "execution_count": 30,
     "metadata": {},
     "output_type": "execute_result"
    }
   ],
   "source": [
    "\"a\".isspace()"
   ]
  },
  {
   "cell_type": "markdown",
   "id": "bb3456ab-d29b-4bbb-b220-f300045ecac1",
   "metadata": {},
   "source": [
    "Escribir un programa que evalue una función polinómica usando una lista para almacenar los valores de los coeficientes. El usuario debe introducir el valor de x y el de los coeficientes."
   ]
  },
  {
   "cell_type": "code",
   "execution_count": null,
   "id": "ca86f85a-5440-4666-954f-279a5478ebff",
   "metadata": {},
   "outputs": [],
   "source": [
    "#Leemos coeficientes del polinomio, de grado 0 a n\n",
    "n = int(input(\"Grado del polinomio?\"))\n",
    "coefs = []\n",
    "for i in range(n+1): #Ojo! Range excluye el final!\n",
    "    c = float(input(f\"Coeficiente de orden {i} ?\"))\n",
    "    coefs.append(c)\n",
    "\n",
    "#Punto donde calculamos el valor del polinomio\n",
    "x = float(input(\"Valor de x? \"))\n",
    "#Evaluamos la funcion\n",
    "fx = 0.0\n",
    "for i in range(n+1):\n",
    "    fx = fx + coef[i]*x**i\n",
    "print(fx)"
   ]
  },
  {
   "cell_type": "code",
   "execution_count": 32,
   "id": "69cfe45a-0724-44f6-9a3f-6c4abf8c9c02",
   "metadata": {
    "tags": []
   },
   "outputs": [
    {
     "data": {
      "text/plain": [
       "6"
      ]
     },
     "execution_count": 32,
     "metadata": {},
     "output_type": "execute_result"
    }
   ],
   "source": [
    "sum([3,2,1])"
   ]
  },
  {
   "cell_type": "code",
   "execution_count": null,
   "id": "731b9f80-f8bc-40d2-a300-04d2898f9257",
   "metadata": {},
   "outputs": [],
   "source": [
    "#Leemos coeficientes del polinomio, de grado 0 a n\n",
    "n = int(input(\"Grado del polinomio?\"))\n",
    "coefs = []\n",
    "for i in range(n+1): #Ojo! Range excluye el final!\n",
    "    c = float(input(f\"Coeficiente de orden {i} ?\"))\n",
    "    coefs.append(c)\n",
    "\n",
    "#Punto donde calculamos el valor del polinomio\n",
    "x = float(input(\"Valor de x? \"))\n",
    "#Evaluamos la funcion\n",
    "fx = sum([coefs[i]*x**i for i in range(n+1)])"
   ]
  },
  {
   "cell_type": "code",
   "execution_count": 33,
   "id": "c53848fb-8d90-4723-a773-b121d60ae56d",
   "metadata": {
    "tags": []
   },
   "outputs": [
    {
     "data": {
      "text/plain": [
       "{4, 5, 7, 22, 23}"
      ]
     },
     "execution_count": 33,
     "metadata": {},
     "output_type": "execute_result"
    }
   ],
   "source": [
    "set1 = {23,4,5,7}\n",
    "set2 = set1\n",
    "set1.add(22)\n",
    "set1"
   ]
  },
  {
   "cell_type": "code",
   "execution_count": 34,
   "id": "ef3bfdbe-9fb5-46db-893a-0323f9123c09",
   "metadata": {
    "tags": []
   },
   "outputs": [
    {
     "data": {
      "text/plain": [
       "{4, 5, 7, 22, 23}"
      ]
     },
     "execution_count": 34,
     "metadata": {},
     "output_type": "execute_result"
    }
   ],
   "source": [
    "set2"
   ]
  },
  {
   "cell_type": "markdown",
   "id": "11921ca3-c85d-4c06-97eb-767a22599413",
   "metadata": {},
   "source": [
    "# Numpy"
   ]
  },
  {
   "cell_type": "code",
   "execution_count": 37,
   "id": "f397f70d-b9c1-41bc-8b77-cb12e1c5ca50",
   "metadata": {
    "tags": []
   },
   "outputs": [],
   "source": [
    "an = [0, 20, 30, 40, 70]\n",
    "import math as m\n",
    "for a in an:\n",
    "    a = a*m.pi/180.\n",
    "    y = m.sin(a)"
   ]
  },
  {
   "cell_type": "code",
   "execution_count": 35,
   "id": "083b8c0b-f4b4-490b-8f02-22eeb59dce07",
   "metadata": {
    "tags": []
   },
   "outputs": [],
   "source": [
    "import numpy as np"
   ]
  },
  {
   "cell_type": "code",
   "execution_count": 38,
   "id": "19ab0f65-ab3b-49ef-b18e-fcf27c81e14b",
   "metadata": {
    "tags": []
   },
   "outputs": [
    {
     "data": {
      "text/plain": [
       "list"
      ]
     },
     "execution_count": 38,
     "metadata": {},
     "output_type": "execute_result"
    }
   ],
   "source": [
    "type(an)"
   ]
  },
  {
   "cell_type": "code",
   "execution_count": 39,
   "id": "ce23e1e2-d9b9-40cb-b835-bd370f9bff29",
   "metadata": {
    "tags": []
   },
   "outputs": [],
   "source": [
    "an = np.array(an)"
   ]
  },
  {
   "cell_type": "code",
   "execution_count": 40,
   "id": "1bd11758-ab89-44a4-a8b5-e267e44afa5b",
   "metadata": {
    "tags": []
   },
   "outputs": [
    {
     "data": {
      "text/plain": [
       "numpy.ndarray"
      ]
     },
     "execution_count": 40,
     "metadata": {},
     "output_type": "execute_result"
    }
   ],
   "source": [
    "type(an)"
   ]
  },
  {
   "cell_type": "code",
   "execution_count": 41,
   "id": "ef48b2d8-5c6f-475f-b3ca-bce0afc0cabb",
   "metadata": {
    "tags": []
   },
   "outputs": [],
   "source": [
    "an = an*180/np.pi\n",
    "y = np.sin(an)"
   ]
  },
  {
   "cell_type": "code",
   "execution_count": 42,
   "id": "0cbae177-b2af-4252-a936-0e49529de883",
   "metadata": {
    "tags": []
   },
   "outputs": [
    {
     "data": {
      "text/plain": [
       "numpy.ndarray"
      ]
     },
     "execution_count": 42,
     "metadata": {},
     "output_type": "execute_result"
    }
   ],
   "source": [
    "type(y)"
   ]
  },
  {
   "cell_type": "code",
   "execution_count": 43,
   "id": "de7c9db4-fed0-4e1c-acf9-a8d27eabf74c",
   "metadata": {
    "tags": []
   },
   "outputs": [
    {
     "data": {
      "text/plain": [
       "array([ 0.        ,  0.6930622 , -0.4097718 , -0.99922629,  0.89536615])"
      ]
     },
     "execution_count": 43,
     "metadata": {},
     "output_type": "execute_result"
    }
   ],
   "source": [
    "y"
   ]
  },
  {
   "cell_type": "code",
   "execution_count": 45,
   "id": "49f206fb-0349-4484-a488-464d659ea205",
   "metadata": {
    "collapsed": true,
    "jupyter": {
     "outputs_hidden": true
    },
    "tags": []
   },
   "outputs": [
    {
     "data": {
      "text/plain": [
       "['ALLOW_THREADS',\n",
       " 'AxisError',\n",
       " 'BUFSIZE',\n",
       " 'CLIP',\n",
       " 'ComplexWarning',\n",
       " 'DataSource',\n",
       " 'ERR_CALL',\n",
       " 'ERR_DEFAULT',\n",
       " 'ERR_IGNORE',\n",
       " 'ERR_LOG',\n",
       " 'ERR_PRINT',\n",
       " 'ERR_RAISE',\n",
       " 'ERR_WARN',\n",
       " 'FLOATING_POINT_SUPPORT',\n",
       " 'FPE_DIVIDEBYZERO',\n",
       " 'FPE_INVALID',\n",
       " 'FPE_OVERFLOW',\n",
       " 'FPE_UNDERFLOW',\n",
       " 'False_',\n",
       " 'Inf',\n",
       " 'Infinity',\n",
       " 'MAXDIMS',\n",
       " 'MAY_SHARE_BOUNDS',\n",
       " 'MAY_SHARE_EXACT',\n",
       " 'ModuleDeprecationWarning',\n",
       " 'NAN',\n",
       " 'NINF',\n",
       " 'NZERO',\n",
       " 'NaN',\n",
       " 'PINF',\n",
       " 'PZERO',\n",
       " 'RAISE',\n",
       " 'RankWarning',\n",
       " 'SHIFT_DIVIDEBYZERO',\n",
       " 'SHIFT_INVALID',\n",
       " 'SHIFT_OVERFLOW',\n",
       " 'SHIFT_UNDERFLOW',\n",
       " 'ScalarType',\n",
       " 'Tester',\n",
       " 'TooHardError',\n",
       " 'True_',\n",
       " 'UFUNC_BUFSIZE_DEFAULT',\n",
       " 'UFUNC_PYVALS_NAME',\n",
       " 'VisibleDeprecationWarning',\n",
       " 'WRAP',\n",
       " '_CopyMode',\n",
       " '_NoValue',\n",
       " '_UFUNC_API',\n",
       " '__NUMPY_SETUP__',\n",
       " '__all__',\n",
       " '__builtins__',\n",
       " '__cached__',\n",
       " '__config__',\n",
       " '__deprecated_attrs__',\n",
       " '__dir__',\n",
       " '__doc__',\n",
       " '__expired_functions__',\n",
       " '__file__',\n",
       " '__former_attrs__',\n",
       " '__future_scalars__',\n",
       " '__getattr__',\n",
       " '__git_version__',\n",
       " '__loader__',\n",
       " '__mkl_version__',\n",
       " '__name__',\n",
       " '__package__',\n",
       " '__path__',\n",
       " '__spec__',\n",
       " '__version__',\n",
       " '_add_newdoc_ufunc',\n",
       " '_builtins',\n",
       " '_distributor_init',\n",
       " '_financial_names',\n",
       " '_get_promotion_state',\n",
       " '_globals',\n",
       " '_int_extended_msg',\n",
       " '_mat',\n",
       " '_no_nep50_warning',\n",
       " '_pyinstaller_hooks_dir',\n",
       " '_pytesttester',\n",
       " '_set_promotion_state',\n",
       " '_specific_msg',\n",
       " '_version',\n",
       " 'abs',\n",
       " 'absolute',\n",
       " 'add',\n",
       " 'add_docstring',\n",
       " 'add_newdoc',\n",
       " 'add_newdoc_ufunc',\n",
       " 'all',\n",
       " 'allclose',\n",
       " 'alltrue',\n",
       " 'amax',\n",
       " 'amin',\n",
       " 'angle',\n",
       " 'any',\n",
       " 'append',\n",
       " 'apply_along_axis',\n",
       " 'apply_over_axes',\n",
       " 'arange',\n",
       " 'arccos',\n",
       " 'arccosh',\n",
       " 'arcsin',\n",
       " 'arcsinh',\n",
       " 'arctan',\n",
       " 'arctan2',\n",
       " 'arctanh',\n",
       " 'argmax',\n",
       " 'argmin',\n",
       " 'argpartition',\n",
       " 'argsort',\n",
       " 'argwhere',\n",
       " 'around',\n",
       " 'array',\n",
       " 'array2string',\n",
       " 'array_equal',\n",
       " 'array_equiv',\n",
       " 'array_repr',\n",
       " 'array_split',\n",
       " 'array_str',\n",
       " 'asanyarray',\n",
       " 'asarray',\n",
       " 'asarray_chkfinite',\n",
       " 'ascontiguousarray',\n",
       " 'asfarray',\n",
       " 'asfortranarray',\n",
       " 'asmatrix',\n",
       " 'atleast_1d',\n",
       " 'atleast_2d',\n",
       " 'atleast_3d',\n",
       " 'average',\n",
       " 'bartlett',\n",
       " 'base_repr',\n",
       " 'binary_repr',\n",
       " 'bincount',\n",
       " 'bitwise_and',\n",
       " 'bitwise_not',\n",
       " 'bitwise_or',\n",
       " 'bitwise_xor',\n",
       " 'blackman',\n",
       " 'block',\n",
       " 'bmat',\n",
       " 'bool_',\n",
       " 'broadcast',\n",
       " 'broadcast_arrays',\n",
       " 'broadcast_shapes',\n",
       " 'broadcast_to',\n",
       " 'busday_count',\n",
       " 'busday_offset',\n",
       " 'busdaycalendar',\n",
       " 'byte',\n",
       " 'byte_bounds',\n",
       " 'bytes_',\n",
       " 'c_',\n",
       " 'can_cast',\n",
       " 'cast',\n",
       " 'cbrt',\n",
       " 'cdouble',\n",
       " 'ceil',\n",
       " 'cfloat',\n",
       " 'char',\n",
       " 'character',\n",
       " 'chararray',\n",
       " 'choose',\n",
       " 'clip',\n",
       " 'clongdouble',\n",
       " 'clongfloat',\n",
       " 'column_stack',\n",
       " 'common_type',\n",
       " 'compare_chararrays',\n",
       " 'compat',\n",
       " 'complex128',\n",
       " 'complex256',\n",
       " 'complex64',\n",
       " 'complex_',\n",
       " 'complexfloating',\n",
       " 'compress',\n",
       " 'concatenate',\n",
       " 'conj',\n",
       " 'conjugate',\n",
       " 'convolve',\n",
       " 'copy',\n",
       " 'copysign',\n",
       " 'copyto',\n",
       " 'corrcoef',\n",
       " 'correlate',\n",
       " 'cos',\n",
       " 'cosh',\n",
       " 'count_nonzero',\n",
       " 'cov',\n",
       " 'cross',\n",
       " 'csingle',\n",
       " 'ctypeslib',\n",
       " 'cumprod',\n",
       " 'cumproduct',\n",
       " 'cumsum',\n",
       " 'datetime64',\n",
       " 'datetime_as_string',\n",
       " 'datetime_data',\n",
       " 'deg2rad',\n",
       " 'degrees',\n",
       " 'delete',\n",
       " 'deprecate',\n",
       " 'deprecate_with_doc',\n",
       " 'diag',\n",
       " 'diag_indices',\n",
       " 'diag_indices_from',\n",
       " 'diagflat',\n",
       " 'diagonal',\n",
       " 'diff',\n",
       " 'digitize',\n",
       " 'disp',\n",
       " 'divide',\n",
       " 'divmod',\n",
       " 'dot',\n",
       " 'double',\n",
       " 'dsplit',\n",
       " 'dstack',\n",
       " 'dtype',\n",
       " 'e',\n",
       " 'ediff1d',\n",
       " 'einsum',\n",
       " 'einsum_path',\n",
       " 'emath',\n",
       " 'empty',\n",
       " 'empty_like',\n",
       " 'equal',\n",
       " 'errstate',\n",
       " 'euler_gamma',\n",
       " 'exp',\n",
       " 'exp2',\n",
       " 'expand_dims',\n",
       " 'expm1',\n",
       " 'extract',\n",
       " 'eye',\n",
       " 'fabs',\n",
       " 'fastCopyAndTranspose',\n",
       " 'fft',\n",
       " 'fill_diagonal',\n",
       " 'find_common_type',\n",
       " 'finfo',\n",
       " 'fix',\n",
       " 'flatiter',\n",
       " 'flatnonzero',\n",
       " 'flexible',\n",
       " 'flip',\n",
       " 'fliplr',\n",
       " 'flipud',\n",
       " 'float128',\n",
       " 'float16',\n",
       " 'float32',\n",
       " 'float64',\n",
       " 'float_',\n",
       " 'float_power',\n",
       " 'floating',\n",
       " 'floor',\n",
       " 'floor_divide',\n",
       " 'fmax',\n",
       " 'fmin',\n",
       " 'fmod',\n",
       " 'format_float_positional',\n",
       " 'format_float_scientific',\n",
       " 'format_parser',\n",
       " 'frexp',\n",
       " 'from_dlpack',\n",
       " 'frombuffer',\n",
       " 'fromfile',\n",
       " 'fromfunction',\n",
       " 'fromiter',\n",
       " 'frompyfunc',\n",
       " 'fromregex',\n",
       " 'fromstring',\n",
       " 'full',\n",
       " 'full_like',\n",
       " 'gcd',\n",
       " 'generic',\n",
       " 'genfromtxt',\n",
       " 'geomspace',\n",
       " 'get_array_wrap',\n",
       " 'get_include',\n",
       " 'get_printoptions',\n",
       " 'getbufsize',\n",
       " 'geterr',\n",
       " 'geterrcall',\n",
       " 'geterrobj',\n",
       " 'gradient',\n",
       " 'greater',\n",
       " 'greater_equal',\n",
       " 'half',\n",
       " 'hamming',\n",
       " 'hanning',\n",
       " 'heaviside',\n",
       " 'histogram',\n",
       " 'histogram2d',\n",
       " 'histogram_bin_edges',\n",
       " 'histogramdd',\n",
       " 'hsplit',\n",
       " 'hstack',\n",
       " 'hypot',\n",
       " 'i0',\n",
       " 'identity',\n",
       " 'iinfo',\n",
       " 'imag',\n",
       " 'in1d',\n",
       " 'index_exp',\n",
       " 'indices',\n",
       " 'inexact',\n",
       " 'inf',\n",
       " 'info',\n",
       " 'infty',\n",
       " 'inner',\n",
       " 'insert',\n",
       " 'int16',\n",
       " 'int32',\n",
       " 'int64',\n",
       " 'int8',\n",
       " 'int_',\n",
       " 'intc',\n",
       " 'integer',\n",
       " 'interp',\n",
       " 'intersect1d',\n",
       " 'intp',\n",
       " 'invert',\n",
       " 'is_busday',\n",
       " 'isclose',\n",
       " 'iscomplex',\n",
       " 'iscomplexobj',\n",
       " 'isfinite',\n",
       " 'isfortran',\n",
       " 'isin',\n",
       " 'isinf',\n",
       " 'isnan',\n",
       " 'isnat',\n",
       " 'isneginf',\n",
       " 'isposinf',\n",
       " 'isreal',\n",
       " 'isrealobj',\n",
       " 'isscalar',\n",
       " 'issctype',\n",
       " 'issubclass_',\n",
       " 'issubdtype',\n",
       " 'issubsctype',\n",
       " 'iterable',\n",
       " 'ix_',\n",
       " 'kaiser',\n",
       " 'kernel_version',\n",
       " 'kron',\n",
       " 'lcm',\n",
       " 'ldexp',\n",
       " 'left_shift',\n",
       " 'less',\n",
       " 'less_equal',\n",
       " 'lexsort',\n",
       " 'lib',\n",
       " 'linalg',\n",
       " 'linspace',\n",
       " 'little_endian',\n",
       " 'load',\n",
       " 'loadtxt',\n",
       " 'log',\n",
       " 'log10',\n",
       " 'log1p',\n",
       " 'log2',\n",
       " 'logaddexp',\n",
       " 'logaddexp2',\n",
       " 'logical_and',\n",
       " 'logical_not',\n",
       " 'logical_or',\n",
       " 'logical_xor',\n",
       " 'logspace',\n",
       " 'longcomplex',\n",
       " 'longdouble',\n",
       " 'longfloat',\n",
       " 'longlong',\n",
       " 'lookfor',\n",
       " 'ma',\n",
       " 'mask_indices',\n",
       " 'mat',\n",
       " 'math',\n",
       " 'matmul',\n",
       " 'matrix',\n",
       " 'max',\n",
       " 'maximum',\n",
       " 'maximum_sctype',\n",
       " 'may_share_memory',\n",
       " 'mean',\n",
       " 'median',\n",
       " 'memmap',\n",
       " 'meshgrid',\n",
       " 'mgrid',\n",
       " 'min',\n",
       " 'min_scalar_type',\n",
       " 'minimum',\n",
       " 'mintypecode',\n",
       " 'mkl',\n",
       " 'mod',\n",
       " 'modf',\n",
       " 'moveaxis',\n",
       " 'msort',\n",
       " 'multiply',\n",
       " 'nan',\n",
       " 'nan_to_num',\n",
       " 'nanargmax',\n",
       " 'nanargmin',\n",
       " 'nancumprod',\n",
       " 'nancumsum',\n",
       " 'nanmax',\n",
       " 'nanmean',\n",
       " 'nanmedian',\n",
       " 'nanmin',\n",
       " 'nanpercentile',\n",
       " 'nanprod',\n",
       " 'nanquantile',\n",
       " 'nanstd',\n",
       " 'nansum',\n",
       " 'nanvar',\n",
       " 'nbytes',\n",
       " 'ndarray',\n",
       " 'ndenumerate',\n",
       " 'ndim',\n",
       " 'ndindex',\n",
       " 'nditer',\n",
       " 'negative',\n",
       " 'nested_iters',\n",
       " 'newaxis',\n",
       " 'nextafter',\n",
       " 'nonzero',\n",
       " 'not_equal',\n",
       " 'numarray',\n",
       " 'number',\n",
       " 'obj2sctype',\n",
       " 'object_',\n",
       " 'ogrid',\n",
       " 'oldnumeric',\n",
       " 'ones',\n",
       " 'ones_like',\n",
       " 'outer',\n",
       " 'packbits',\n",
       " 'pad',\n",
       " 'partition',\n",
       " 'percentile',\n",
       " 'pi',\n",
       " 'piecewise',\n",
       " 'place',\n",
       " 'poly',\n",
       " 'poly1d',\n",
       " 'polyadd',\n",
       " 'polyder',\n",
       " 'polydiv',\n",
       " 'polyfit',\n",
       " 'polyint',\n",
       " 'polymul',\n",
       " 'polynomial',\n",
       " 'polysub',\n",
       " 'polyval',\n",
       " 'positive',\n",
       " 'power',\n",
       " 'printoptions',\n",
       " 'prod',\n",
       " 'product',\n",
       " 'promote_types',\n",
       " 'ptp',\n",
       " 'put',\n",
       " 'put_along_axis',\n",
       " 'putmask',\n",
       " 'quantile',\n",
       " 'r_',\n",
       " 'rad2deg',\n",
       " 'radians',\n",
       " 'random',\n",
       " 'ravel',\n",
       " 'ravel_multi_index',\n",
       " 'real',\n",
       " 'real_if_close',\n",
       " 'rec',\n",
       " 'recarray',\n",
       " 'recfromcsv',\n",
       " 'recfromtxt',\n",
       " 'reciprocal',\n",
       " 'record',\n",
       " 'remainder',\n",
       " 'repeat',\n",
       " 'require',\n",
       " 'reshape',\n",
       " 'resize',\n",
       " 'result_type',\n",
       " 'right_shift',\n",
       " 'rint',\n",
       " 'roll',\n",
       " 'rollaxis',\n",
       " 'roots',\n",
       " 'rot90',\n",
       " 'round',\n",
       " 'round_',\n",
       " 'row_stack',\n",
       " 's_',\n",
       " 'safe_eval',\n",
       " 'save',\n",
       " 'savetxt',\n",
       " 'savez',\n",
       " 'savez_compressed',\n",
       " 'sctype2char',\n",
       " 'sctypeDict',\n",
       " 'sctypes',\n",
       " 'searchsorted',\n",
       " 'select',\n",
       " 'set_numeric_ops',\n",
       " 'set_printoptions',\n",
       " 'set_string_function',\n",
       " 'setbufsize',\n",
       " 'setdiff1d',\n",
       " 'seterr',\n",
       " 'seterrcall',\n",
       " 'seterrobj',\n",
       " 'setxor1d',\n",
       " 'shape',\n",
       " 'shares_memory',\n",
       " 'short',\n",
       " 'show_config',\n",
       " 'show_runtime',\n",
       " 'sign',\n",
       " 'signbit',\n",
       " 'signedinteger',\n",
       " 'sin',\n",
       " 'sinc',\n",
       " 'single',\n",
       " 'singlecomplex',\n",
       " 'sinh',\n",
       " 'size',\n",
       " 'sometrue',\n",
       " 'sort',\n",
       " 'sort_complex',\n",
       " 'source',\n",
       " 'spacing',\n",
       " 'split',\n",
       " 'sqrt',\n",
       " 'square',\n",
       " 'squeeze',\n",
       " 'stack',\n",
       " 'std',\n",
       " 'str_',\n",
       " 'string_',\n",
       " 'subtract',\n",
       " 'sum',\n",
       " 'swapaxes',\n",
       " 'take',\n",
       " 'take_along_axis',\n",
       " 'tan',\n",
       " 'tanh',\n",
       " 'tensordot',\n",
       " 'test',\n",
       " 'testing',\n",
       " 'tile',\n",
       " 'timedelta64',\n",
       " 'trace',\n",
       " 'tracemalloc_domain',\n",
       " 'transpose',\n",
       " 'trapz',\n",
       " 'tri',\n",
       " 'tril',\n",
       " 'tril_indices',\n",
       " 'tril_indices_from',\n",
       " 'trim_zeros',\n",
       " 'triu',\n",
       " 'triu_indices',\n",
       " 'triu_indices_from',\n",
       " 'true_divide',\n",
       " 'trunc',\n",
       " 'typecodes',\n",
       " 'typename',\n",
       " 'ubyte',\n",
       " 'ufunc',\n",
       " 'uint',\n",
       " 'uint16',\n",
       " 'uint32',\n",
       " 'uint64',\n",
       " 'uint8',\n",
       " 'uintc',\n",
       " 'uintp',\n",
       " 'ulonglong',\n",
       " 'unicode_',\n",
       " 'union1d',\n",
       " 'unique',\n",
       " 'unpackbits',\n",
       " 'unravel_index',\n",
       " 'unsignedinteger',\n",
       " 'unwrap',\n",
       " 'use_hugepage',\n",
       " 'ushort',\n",
       " 'vander',\n",
       " 'var',\n",
       " 'vdot',\n",
       " 'vectorize',\n",
       " 'version',\n",
       " 'void',\n",
       " 'vsplit',\n",
       " 'vstack',\n",
       " 'where',\n",
       " 'who',\n",
       " 'zeros',\n",
       " 'zeros_like']"
      ]
     },
     "execution_count": 45,
     "metadata": {},
     "output_type": "execute_result"
    }
   ],
   "source": [
    "dir(np)"
   ]
  },
  {
   "cell_type": "code",
   "execution_count": 48,
   "id": "e1b93152-85d2-43b6-8c8f-7bbd57a1776f",
   "metadata": {
    "tags": []
   },
   "outputs": [],
   "source": [
    "from numpy import cos"
   ]
  },
  {
   "cell_type": "code",
   "execution_count": 49,
   "id": "a5e51320-9be9-4548-800d-46d26626ec0e",
   "metadata": {
    "tags": []
   },
   "outputs": [
    {
     "data": {
      "text/plain": [
       "array([ 1.        , -0.72087779, -0.91218807,  0.03932958, -0.44533073])"
      ]
     },
     "execution_count": 49,
     "metadata": {},
     "output_type": "execute_result"
    }
   ],
   "source": [
    "cos(an)"
   ]
  },
  {
   "cell_type": "code",
   "execution_count": 53,
   "id": "a38c610e-9ded-47cc-9672-4f20d43635ec",
   "metadata": {
    "tags": []
   },
   "outputs": [],
   "source": [
    "a = np.array([3,4,5])\n",
    "b = np.array([7,8,9,10])"
   ]
  },
  {
   "cell_type": "code",
   "execution_count": 54,
   "id": "b21c52e2-1963-49ad-b0d5-262b09e11192",
   "metadata": {
    "tags": []
   },
   "outputs": [
    {
     "ename": "ValueError",
     "evalue": "operands could not be broadcast together with shapes (3,) (4,) ",
     "output_type": "error",
     "traceback": [
      "\u001b[0;31m---------------------------------------------------------------------------\u001b[0m",
      "\u001b[0;31mValueError\u001b[0m                                Traceback (most recent call last)",
      "Cell \u001b[0;32mIn[54], line 1\u001b[0m\n\u001b[0;32m----> 1\u001b[0m a \u001b[38;5;241m+\u001b[39m b\n",
      "\u001b[0;31mValueError\u001b[0m: operands could not be broadcast together with shapes (3,) (4,) "
     ]
    }
   ],
   "source": [
    "a + b"
   ]
  },
  {
   "cell_type": "markdown",
   "id": "d84f79c7-d530-437f-a1de-38d93ec4873a",
   "metadata": {},
   "source": [
    "Atributos"
   ]
  },
  {
   "cell_type": "code",
   "execution_count": 55,
   "id": "4cc92ce7-78c0-49c6-a4a9-75418ee9e1e6",
   "metadata": {
    "tags": []
   },
   "outputs": [
    {
     "data": {
      "text/plain": [
       "1"
      ]
     },
     "execution_count": 55,
     "metadata": {},
     "output_type": "execute_result"
    }
   ],
   "source": [
    "an.ndim"
   ]
  },
  {
   "cell_type": "code",
   "execution_count": 56,
   "id": "34a83941-e6e0-4b0c-9870-dad68bdfa8bd",
   "metadata": {
    "tags": []
   },
   "outputs": [
    {
     "data": {
      "text/plain": [
       "(5,)"
      ]
     },
     "execution_count": 56,
     "metadata": {},
     "output_type": "execute_result"
    }
   ],
   "source": [
    "an.shape"
   ]
  },
  {
   "cell_type": "code",
   "execution_count": 57,
   "id": "dacf42b4-98d3-47dd-9415-6553859bf40c",
   "metadata": {
    "tags": []
   },
   "outputs": [
    {
     "data": {
      "text/plain": [
       "5"
      ]
     },
     "execution_count": 57,
     "metadata": {},
     "output_type": "execute_result"
    }
   ],
   "source": [
    "an.size"
   ]
  },
  {
   "cell_type": "markdown",
   "id": "9c24b680-dda4-430c-a557-03eabdd0b9f4",
   "metadata": {},
   "source": [
    "### Funciones para generar array"
   ]
  },
  {
   "cell_type": "code",
   "execution_count": 60,
   "id": "91eb23fd-90ef-4a77-ade6-4d5cd40f6d9e",
   "metadata": {
    "tags": []
   },
   "outputs": [],
   "source": [
    "unos = np.ones(10)"
   ]
  },
  {
   "cell_type": "code",
   "execution_count": 66,
   "id": "6c13cec3-e187-4a68-9e95-5b4117e65105",
   "metadata": {
    "tags": []
   },
   "outputs": [
    {
     "data": {
      "text/plain": [
       "array([1, 1, 1, 1, 1, 1, 1, 1, 1, 1])"
      ]
     },
     "execution_count": 66,
     "metadata": {},
     "output_type": "execute_result"
    }
   ],
   "source": [
    "np.ones(10, dtype=int)"
   ]
  },
  {
   "cell_type": "code",
   "execution_count": 61,
   "id": "5c36d1ab-9ada-42ae-aeb9-1ac8e6215b88",
   "metadata": {
    "tags": []
   },
   "outputs": [
    {
     "data": {
      "text/plain": [
       "array([1., 1., 1., 1., 1., 1., 1., 1., 1., 1.])"
      ]
     },
     "execution_count": 61,
     "metadata": {},
     "output_type": "execute_result"
    }
   ],
   "source": [
    "unos"
   ]
  },
  {
   "cell_type": "code",
   "execution_count": 62,
   "id": "52413e72-7690-491d-a78b-76ba31bdad3e",
   "metadata": {
    "tags": []
   },
   "outputs": [],
   "source": [
    "zeros = np.zeros(10)"
   ]
  },
  {
   "cell_type": "code",
   "execution_count": 63,
   "id": "6ce3cc6f-3489-4e90-a8bb-41906b8894bb",
   "metadata": {
    "tags": []
   },
   "outputs": [],
   "source": [
    "zeros = np.zeros((3,4))"
   ]
  },
  {
   "cell_type": "code",
   "execution_count": 71,
   "id": "a8813590-f140-4229-8934-46dc35a5375a",
   "metadata": {
    "tags": []
   },
   "outputs": [],
   "source": [
    "Amat = np.identity(4)"
   ]
  },
  {
   "cell_type": "code",
   "execution_count": 72,
   "id": "76eeb613-c259-48dd-8073-b4c63056b822",
   "metadata": {
    "tags": []
   },
   "outputs": [
    {
     "data": {
      "text/plain": [
       "2"
      ]
     },
     "execution_count": 72,
     "metadata": {},
     "output_type": "execute_result"
    }
   ],
   "source": [
    "Amat.ndim"
   ]
  },
  {
   "cell_type": "code",
   "execution_count": 76,
   "id": "fb1bfbc7-4311-4ca7-9ab6-155cb928b6f9",
   "metadata": {
    "tags": []
   },
   "outputs": [
    {
     "data": {
      "text/plain": [
       "((4, 4), (3, 4))"
      ]
     },
     "execution_count": 76,
     "metadata": {},
     "output_type": "execute_result"
    }
   ],
   "source": [
    "Amat.shape, zeros.shape"
   ]
  },
  {
   "cell_type": "code",
   "execution_count": 74,
   "id": "1d4cc99d-bfc6-45f9-8bab-5492431db24b",
   "metadata": {
    "tags": []
   },
   "outputs": [
    {
     "data": {
      "text/plain": [
       "(3, 4)"
      ]
     },
     "execution_count": 74,
     "metadata": {},
     "output_type": "execute_result"
    }
   ],
   "source": [
    "zeros.shape"
   ]
  },
  {
   "cell_type": "code",
   "execution_count": 75,
   "id": "1d1ac78d-3b72-4d09-ba45-55ed8ffa5ef9",
   "metadata": {
    "tags": []
   },
   "outputs": [
    {
     "data": {
      "text/plain": [
       "False"
      ]
     },
     "execution_count": 75,
     "metadata": {},
     "output_type": "execute_result"
    }
   ],
   "source": [
    "Amat.shape == zeros.shape"
   ]
  },
  {
   "cell_type": "code",
   "execution_count": 83,
   "id": "34add6a4-9705-47b3-acfa-d8eae4c1b355",
   "metadata": {
    "tags": []
   },
   "outputs": [
    {
     "data": {
      "text/plain": [
       "array([2. , 2.2, 2.4, 2.6, 2.8, 3. , 3.2, 3.4, 3.6, 3.8, 4. , 4.2, 4.4,\n",
       "       4.6, 4.8, 5. , 5.2, 5.4, 5.6, 5.8, 6. , 6.2, 6.4, 6.6, 6.8, 7. ,\n",
       "       7.2, 7.4, 7.6, 7.8, 8. , 8.2, 8.4, 8.6, 8.8, 9. , 9.2, 9.4, 9.6,\n",
       "       9.8])"
      ]
     },
     "execution_count": 83,
     "metadata": {},
     "output_type": "execute_result"
    }
   ],
   "source": [
    "y = np.arange(2,10,.2)"
   ]
  },
  {
   "cell_type": "code",
   "execution_count": 84,
   "id": "0a53d310-4c17-4881-a9a7-dca411e55982",
   "metadata": {
    "tags": []
   },
   "outputs": [],
   "source": [
    "z = np.linspace(-1, 1, 21)"
   ]
  },
  {
   "cell_type": "code",
   "execution_count": 85,
   "id": "fe415331-6ae5-4596-b679-39f823daed38",
   "metadata": {
    "collapsed": true,
    "jupyter": {
     "outputs_hidden": true
    },
    "tags": []
   },
   "outputs": [
    {
     "data": {
      "text/plain": [
       "\u001b[0;31mSignature:\u001b[0m\n",
       "\u001b[0mnp\u001b[0m\u001b[0;34m.\u001b[0m\u001b[0mlinspace\u001b[0m\u001b[0;34m(\u001b[0m\u001b[0;34m\u001b[0m\n",
       "\u001b[0;34m\u001b[0m    \u001b[0mstart\u001b[0m\u001b[0;34m,\u001b[0m\u001b[0;34m\u001b[0m\n",
       "\u001b[0;34m\u001b[0m    \u001b[0mstop\u001b[0m\u001b[0;34m,\u001b[0m\u001b[0;34m\u001b[0m\n",
       "\u001b[0;34m\u001b[0m    \u001b[0mnum\u001b[0m\u001b[0;34m=\u001b[0m\u001b[0;36m50\u001b[0m\u001b[0;34m,\u001b[0m\u001b[0;34m\u001b[0m\n",
       "\u001b[0;34m\u001b[0m    \u001b[0mendpoint\u001b[0m\u001b[0;34m=\u001b[0m\u001b[0;32mTrue\u001b[0m\u001b[0;34m,\u001b[0m\u001b[0;34m\u001b[0m\n",
       "\u001b[0;34m\u001b[0m    \u001b[0mretstep\u001b[0m\u001b[0;34m=\u001b[0m\u001b[0;32mFalse\u001b[0m\u001b[0;34m,\u001b[0m\u001b[0;34m\u001b[0m\n",
       "\u001b[0;34m\u001b[0m    \u001b[0mdtype\u001b[0m\u001b[0;34m=\u001b[0m\u001b[0;32mNone\u001b[0m\u001b[0;34m,\u001b[0m\u001b[0;34m\u001b[0m\n",
       "\u001b[0;34m\u001b[0m    \u001b[0maxis\u001b[0m\u001b[0;34m=\u001b[0m\u001b[0;36m0\u001b[0m\u001b[0;34m,\u001b[0m\u001b[0;34m\u001b[0m\n",
       "\u001b[0;34m\u001b[0m\u001b[0;34m)\u001b[0m\u001b[0;34m\u001b[0m\u001b[0;34m\u001b[0m\u001b[0m\n",
       "\u001b[0;31mDocstring:\u001b[0m\n",
       "Return evenly spaced numbers over a specified interval.\n",
       "\n",
       "Returns `num` evenly spaced samples, calculated over the\n",
       "interval [`start`, `stop`].\n",
       "\n",
       "The endpoint of the interval can optionally be excluded.\n",
       "\n",
       ".. versionchanged:: 1.16.0\n",
       "    Non-scalar `start` and `stop` are now supported.\n",
       "\n",
       ".. versionchanged:: 1.20.0\n",
       "    Values are rounded towards ``-inf`` instead of ``0`` when an\n",
       "    integer ``dtype`` is specified. The old behavior can\n",
       "    still be obtained with ``np.linspace(start, stop, num).astype(int)``\n",
       "\n",
       "Parameters\n",
       "----------\n",
       "start : array_like\n",
       "    The starting value of the sequence.\n",
       "stop : array_like\n",
       "    The end value of the sequence, unless `endpoint` is set to False.\n",
       "    In that case, the sequence consists of all but the last of ``num + 1``\n",
       "    evenly spaced samples, so that `stop` is excluded.  Note that the step\n",
       "    size changes when `endpoint` is False.\n",
       "num : int, optional\n",
       "    Number of samples to generate. Default is 50. Must be non-negative.\n",
       "endpoint : bool, optional\n",
       "    If True, `stop` is the last sample. Otherwise, it is not included.\n",
       "    Default is True.\n",
       "retstep : bool, optional\n",
       "    If True, return (`samples`, `step`), where `step` is the spacing\n",
       "    between samples.\n",
       "dtype : dtype, optional\n",
       "    The type of the output array.  If `dtype` is not given, the data type\n",
       "    is inferred from `start` and `stop`. The inferred dtype will never be\n",
       "    an integer; `float` is chosen even if the arguments would produce an\n",
       "    array of integers.\n",
       "\n",
       "    .. versionadded:: 1.9.0\n",
       "\n",
       "axis : int, optional\n",
       "    The axis in the result to store the samples.  Relevant only if start\n",
       "    or stop are array-like.  By default (0), the samples will be along a\n",
       "    new axis inserted at the beginning. Use -1 to get an axis at the end.\n",
       "\n",
       "    .. versionadded:: 1.16.0\n",
       "\n",
       "Returns\n",
       "-------\n",
       "samples : ndarray\n",
       "    There are `num` equally spaced samples in the closed interval\n",
       "    ``[start, stop]`` or the half-open interval ``[start, stop)``\n",
       "    (depending on whether `endpoint` is True or False).\n",
       "step : float, optional\n",
       "    Only returned if `retstep` is True\n",
       "\n",
       "    Size of spacing between samples.\n",
       "\n",
       "\n",
       "See Also\n",
       "--------\n",
       "arange : Similar to `linspace`, but uses a step size (instead of the\n",
       "         number of samples).\n",
       "geomspace : Similar to `linspace`, but with numbers spaced evenly on a log\n",
       "            scale (a geometric progression).\n",
       "logspace : Similar to `geomspace`, but with the end points specified as\n",
       "           logarithms.\n",
       ":ref:`how-to-partition`\n",
       "\n",
       "Examples\n",
       "--------\n",
       ">>> np.linspace(2.0, 3.0, num=5)\n",
       "array([2.  , 2.25, 2.5 , 2.75, 3.  ])\n",
       ">>> np.linspace(2.0, 3.0, num=5, endpoint=False)\n",
       "array([2. ,  2.2,  2.4,  2.6,  2.8])\n",
       ">>> np.linspace(2.0, 3.0, num=5, retstep=True)\n",
       "(array([2.  ,  2.25,  2.5 ,  2.75,  3.  ]), 0.25)\n",
       "\n",
       "Graphical illustration:\n",
       "\n",
       ">>> import matplotlib.pyplot as plt\n",
       ">>> N = 8\n",
       ">>> y = np.zeros(N)\n",
       ">>> x1 = np.linspace(0, 10, N, endpoint=True)\n",
       ">>> x2 = np.linspace(0, 10, N, endpoint=False)\n",
       ">>> plt.plot(x1, y, 'o')\n",
       "[<matplotlib.lines.Line2D object at 0x...>]\n",
       ">>> plt.plot(x2, y + 0.5, 'o')\n",
       "[<matplotlib.lines.Line2D object at 0x...>]\n",
       ">>> plt.ylim([-0.5, 1])\n",
       "(-0.5, 1)\n",
       ">>> plt.show()\n",
       "\u001b[0;31mFile:\u001b[0m      ~/anaconda3/lib/python3.11/site-packages/numpy/core/function_base.py\n",
       "\u001b[0;31mType:\u001b[0m      function"
      ]
     },
     "metadata": {},
     "output_type": "display_data"
    }
   ],
   "source": [
    "np.linspace?"
   ]
  },
  {
   "cell_type": "code",
   "execution_count": 86,
   "id": "f08be16a-4a87-4ec8-b6ad-3d98c40f798c",
   "metadata": {
    "tags": []
   },
   "outputs": [],
   "source": [
    "x = np.linspace(0,2)\n",
    "y = np.exp(x)"
   ]
  },
  {
   "cell_type": "code",
   "execution_count": 87,
   "id": "78539f0e-aad1-46be-8193-c9ade44b93c5",
   "metadata": {
    "tags": []
   },
   "outputs": [
    {
     "data": {
      "text/plain": [
       "array([1.        , 1.04166076, 1.08505714, 1.13026145, 1.17734901,\n",
       "       1.22639826, 1.27749095, 1.3307122 , 1.38615068, 1.44389878,\n",
       "       1.5040527 , 1.56671268, 1.63198313, 1.69997279, 1.77079495,\n",
       "       1.84456762, 1.92141371, 2.00146127, 2.08484368, 2.17169985,\n",
       "       2.26217453, 2.35641844, 2.45458863, 2.55684867, 2.66336893,\n",
       "       2.77432691, 2.88990749, 3.01030324, 3.13571476, 3.26635103,\n",
       "       3.40242971, 3.54417752, 3.69183066, 3.84563514, 4.00584723,\n",
       "       4.17273388, 4.34657316, 4.52765471, 4.71628026, 4.91276409,\n",
       "       5.11743359, 5.33062977, 5.55270788, 5.78403792, 6.02500535,\n",
       "       6.27601167, 6.5374751 , 6.8098313 , 7.09353406, 7.3890561 ])"
      ]
     },
     "execution_count": 87,
     "metadata": {},
     "output_type": "execute_result"
    }
   ],
   "source": [
    "y"
   ]
  },
  {
   "cell_type": "code",
   "execution_count": 88,
   "id": "5ea413f9-f898-4d4a-873a-7f3f1d8e41f0",
   "metadata": {
    "tags": []
   },
   "outputs": [
    {
     "data": {
      "text/plain": [
       "(50,)"
      ]
     },
     "execution_count": 88,
     "metadata": {},
     "output_type": "execute_result"
    }
   ],
   "source": [
    "y.shape"
   ]
  },
  {
   "cell_type": "code",
   "execution_count": 89,
   "id": "9aacc2a5-afc0-4c2f-9a7a-f7e08588e66d",
   "metadata": {
    "tags": []
   },
   "outputs": [
    {
     "data": {
      "text/plain": [
       "array([[1.        , 1.04166076, 1.08505714, 1.13026145, 1.17734901,\n",
       "        1.22639826, 1.27749095, 1.3307122 , 1.38615068, 1.44389878],\n",
       "       [1.5040527 , 1.56671268, 1.63198313, 1.69997279, 1.77079495,\n",
       "        1.84456762, 1.92141371, 2.00146127, 2.08484368, 2.17169985],\n",
       "       [2.26217453, 2.35641844, 2.45458863, 2.55684867, 2.66336893,\n",
       "        2.77432691, 2.88990749, 3.01030324, 3.13571476, 3.26635103],\n",
       "       [3.40242971, 3.54417752, 3.69183066, 3.84563514, 4.00584723,\n",
       "        4.17273388, 4.34657316, 4.52765471, 4.71628026, 4.91276409],\n",
       "       [5.11743359, 5.33062977, 5.55270788, 5.78403792, 6.02500535,\n",
       "        6.27601167, 6.5374751 , 6.8098313 , 7.09353406, 7.3890561 ]])"
      ]
     },
     "execution_count": 89,
     "metadata": {},
     "output_type": "execute_result"
    }
   ],
   "source": [
    "y.reshape((5,10))"
   ]
  },
  {
   "cell_type": "code",
   "execution_count": 94,
   "id": "5b8f55ea-a3ba-4cf2-a860-b2d06a2320c7",
   "metadata": {
    "tags": []
   },
   "outputs": [],
   "source": [
    "y = y.reshape((5,10))"
   ]
  },
  {
   "cell_type": "code",
   "execution_count": 103,
   "id": "c2fda75d-153f-4198-b9ef-42da2a1641de",
   "metadata": {
    "collapsed": true,
    "jupyter": {
     "outputs_hidden": true,
     "source_hidden": true
    },
    "tags": []
   },
   "outputs": [
    {
     "ename": "ValueError",
     "evalue": "the number of columns changed from 21 to 22 at row 2; use `usecols` to select a subset and avoid this error",
     "output_type": "error",
     "traceback": [
      "\u001b[0;31m---------------------------------------------------------------------------\u001b[0m",
      "\u001b[0;31mValueError\u001b[0m                                Traceback (most recent call last)",
      "Cell \u001b[0;32mIn[103], line 1\u001b[0m\n\u001b[0;32m----> 1\u001b[0m np\u001b[38;5;241m.\u001b[39mloadtxt(\u001b[38;5;124m\"\u001b[39m\u001b[38;5;124msaco_csic/Documents_xoriguer/cursos/Python_CSIC/2023/material/data/DATA3DABC.txt\u001b[39m\u001b[38;5;124m\"\u001b[39m)\n",
      "File \u001b[0;32m~/anaconda3/lib/python3.11/site-packages/numpy/lib/npyio.py:1356\u001b[0m, in \u001b[0;36mloadtxt\u001b[0;34m(fname, dtype, comments, delimiter, converters, skiprows, usecols, unpack, ndmin, encoding, max_rows, quotechar, like)\u001b[0m\n\u001b[1;32m   1353\u001b[0m \u001b[38;5;28;01mif\u001b[39;00m \u001b[38;5;28misinstance\u001b[39m(delimiter, \u001b[38;5;28mbytes\u001b[39m):\n\u001b[1;32m   1354\u001b[0m     delimiter \u001b[38;5;241m=\u001b[39m delimiter\u001b[38;5;241m.\u001b[39mdecode(\u001b[38;5;124m'\u001b[39m\u001b[38;5;124mlatin1\u001b[39m\u001b[38;5;124m'\u001b[39m)\n\u001b[0;32m-> 1356\u001b[0m arr \u001b[38;5;241m=\u001b[39m _read(fname, dtype\u001b[38;5;241m=\u001b[39mdtype, comment\u001b[38;5;241m=\u001b[39mcomment, delimiter\u001b[38;5;241m=\u001b[39mdelimiter,\n\u001b[1;32m   1357\u001b[0m             converters\u001b[38;5;241m=\u001b[39mconverters, skiplines\u001b[38;5;241m=\u001b[39mskiprows, usecols\u001b[38;5;241m=\u001b[39musecols,\n\u001b[1;32m   1358\u001b[0m             unpack\u001b[38;5;241m=\u001b[39munpack, ndmin\u001b[38;5;241m=\u001b[39mndmin, encoding\u001b[38;5;241m=\u001b[39mencoding,\n\u001b[1;32m   1359\u001b[0m             max_rows\u001b[38;5;241m=\u001b[39mmax_rows, quote\u001b[38;5;241m=\u001b[39mquotechar)\n\u001b[1;32m   1361\u001b[0m \u001b[38;5;28;01mreturn\u001b[39;00m arr\n",
      "File \u001b[0;32m~/anaconda3/lib/python3.11/site-packages/numpy/lib/npyio.py:999\u001b[0m, in \u001b[0;36m_read\u001b[0;34m(fname, delimiter, comment, quote, imaginary_unit, usecols, skiplines, max_rows, converters, ndmin, unpack, dtype, encoding)\u001b[0m\n\u001b[1;32m    996\u001b[0m     data \u001b[38;5;241m=\u001b[39m _preprocess_comments(data, comments, encoding)\n\u001b[1;32m    998\u001b[0m \u001b[38;5;28;01mif\u001b[39;00m read_dtype_via_object_chunks \u001b[38;5;129;01mis\u001b[39;00m \u001b[38;5;28;01mNone\u001b[39;00m:\n\u001b[0;32m--> 999\u001b[0m     arr \u001b[38;5;241m=\u001b[39m _load_from_filelike(\n\u001b[1;32m   1000\u001b[0m         data, delimiter\u001b[38;5;241m=\u001b[39mdelimiter, comment\u001b[38;5;241m=\u001b[39mcomment, quote\u001b[38;5;241m=\u001b[39mquote,\n\u001b[1;32m   1001\u001b[0m         imaginary_unit\u001b[38;5;241m=\u001b[39mimaginary_unit,\n\u001b[1;32m   1002\u001b[0m         usecols\u001b[38;5;241m=\u001b[39musecols, skiplines\u001b[38;5;241m=\u001b[39mskiplines, max_rows\u001b[38;5;241m=\u001b[39mmax_rows,\n\u001b[1;32m   1003\u001b[0m         converters\u001b[38;5;241m=\u001b[39mconverters, dtype\u001b[38;5;241m=\u001b[39mdtype,\n\u001b[1;32m   1004\u001b[0m         encoding\u001b[38;5;241m=\u001b[39mencoding, filelike\u001b[38;5;241m=\u001b[39mfilelike,\n\u001b[1;32m   1005\u001b[0m         byte_converters\u001b[38;5;241m=\u001b[39mbyte_converters)\n\u001b[1;32m   1007\u001b[0m \u001b[38;5;28;01melse\u001b[39;00m:\n\u001b[1;32m   1008\u001b[0m     \u001b[38;5;66;03m# This branch reads the file into chunks of object arrays and then\u001b[39;00m\n\u001b[1;32m   1009\u001b[0m     \u001b[38;5;66;03m# casts them to the desired actual dtype.  This ensures correct\u001b[39;00m\n\u001b[1;32m   1010\u001b[0m     \u001b[38;5;66;03m# string-length and datetime-unit discovery (like `arr.astype()`).\u001b[39;00m\n\u001b[1;32m   1011\u001b[0m     \u001b[38;5;66;03m# Due to chunking, certain error reports are less clear, currently.\u001b[39;00m\n\u001b[1;32m   1012\u001b[0m     \u001b[38;5;28;01mif\u001b[39;00m filelike:\n",
      "\u001b[0;31mValueError\u001b[0m: the number of columns changed from 21 to 22 at row 2; use `usecols` to select a subset and avoid this error"
     ]
    }
   ],
   "source": [
    "np.loadtxt(\"saco_csic/Documents_xoriguer/cursos/Python_CSIC/2023/material/data/DATA3DABC.txt\")"
   ]
  },
  {
   "cell_type": "markdown",
   "id": "51820905-09cd-4290-954d-cf6ad05cefb6",
   "metadata": {},
   "source": [
    "### Operaciones sobre todo el array"
   ]
  },
  {
   "cell_type": "code",
   "execution_count": 106,
   "id": "3e3499ef-d705-4c8d-a0ce-090d2dbdab98",
   "metadata": {
    "tags": []
   },
   "outputs": [],
   "source": [
    "import numpy.random as npr"
   ]
  },
  {
   "cell_type": "code",
   "execution_count": 108,
   "id": "eb381d1d-0ccb-40b9-b06c-b1f19ddd19c7",
   "metadata": {
    "tags": []
   },
   "outputs": [
    {
     "data": {
      "text/plain": [
       "\u001b[0;31mDocstring:\u001b[0m\n",
       "random(size=None)\n",
       "\n",
       "Return random floats in the half-open interval [0.0, 1.0). Alias for\n",
       "`random_sample` to ease forward-porting to the new random API.\n",
       "\u001b[0;31mType:\u001b[0m      builtin_function_or_method"
      ]
     },
     "metadata": {},
     "output_type": "display_data"
    }
   ],
   "source": [
    "npr.random?"
   ]
  },
  {
   "cell_type": "code",
   "execution_count": 109,
   "id": "a9c7f6f3-f9b1-4a5b-b9cb-357158bb4792",
   "metadata": {
    "tags": []
   },
   "outputs": [],
   "source": [
    "y = npr.random(10000)"
   ]
  },
  {
   "cell_type": "code",
   "execution_count": 111,
   "id": "33a5da14-6bd2-441e-a305-d50c392b2697",
   "metadata": {
    "tags": []
   },
   "outputs": [
    {
     "data": {
      "text/plain": [
       "(10000,)"
      ]
     },
     "execution_count": 111,
     "metadata": {},
     "output_type": "execute_result"
    }
   ],
   "source": [
    "y.shape"
   ]
  },
  {
   "cell_type": "code",
   "execution_count": 112,
   "id": "74ba4f13-da31-4d45-9cb1-d5e13637fc86",
   "metadata": {
    "tags": []
   },
   "outputs": [
    {
     "data": {
      "text/plain": [
       "5000.80457661939"
      ]
     },
     "execution_count": 112,
     "metadata": {},
     "output_type": "execute_result"
    }
   ],
   "source": [
    "np.sum(y)"
   ]
  },
  {
   "cell_type": "code",
   "execution_count": 113,
   "id": "1c3265bc-1964-4431-a8b4-004531b16c3b",
   "metadata": {
    "tags": []
   },
   "outputs": [
    {
     "data": {
      "text/plain": [
       "5000.80457661939"
      ]
     },
     "execution_count": 113,
     "metadata": {},
     "output_type": "execute_result"
    }
   ],
   "source": [
    "y.sum()"
   ]
  },
  {
   "cell_type": "code",
   "execution_count": 114,
   "id": "8d25c9d5-9b09-419b-a15e-83742d4a7cd7",
   "metadata": {
    "tags": []
   },
   "outputs": [
    {
     "data": {
      "text/plain": [
       "0.500080457661939"
      ]
     },
     "execution_count": 114,
     "metadata": {},
     "output_type": "execute_result"
    }
   ],
   "source": [
    "y.mean()"
   ]
  },
  {
   "cell_type": "code",
   "execution_count": 115,
   "id": "ff8b4b27-9bb8-49fc-b036-3687e93f0c5d",
   "metadata": {
    "tags": []
   },
   "outputs": [
    {
     "data": {
      "text/plain": [
       "0.2879758977308613"
      ]
     },
     "execution_count": 115,
     "metadata": {},
     "output_type": "execute_result"
    }
   ],
   "source": [
    "y.std()"
   ]
  },
  {
   "cell_type": "code",
   "execution_count": 116,
   "id": "055ad63c-4578-47b2-bc98-0dfe09ba305d",
   "metadata": {
    "tags": []
   },
   "outputs": [
    {
     "data": {
      "text/plain": [
       "0.9998562606900447"
      ]
     },
     "execution_count": 116,
     "metadata": {},
     "output_type": "execute_result"
    }
   ],
   "source": [
    "y.max()"
   ]
  },
  {
   "cell_type": "code",
   "execution_count": 117,
   "id": "9d15f6b7-9b45-42d8-a6ac-99d6a52aead0",
   "metadata": {
    "tags": []
   },
   "outputs": [
    {
     "data": {
      "text/plain": [
       "4627"
      ]
     },
     "execution_count": 117,
     "metadata": {},
     "output_type": "execute_result"
    }
   ],
   "source": [
    "y.argmax()"
   ]
  },
  {
   "cell_type": "code",
   "execution_count": 118,
   "id": "31d26a27-7381-4211-bd88-6b4d7e49376d",
   "metadata": {
    "tags": []
   },
   "outputs": [],
   "source": [
    "yy = y.reshape((100,100))"
   ]
  },
  {
   "cell_type": "code",
   "execution_count": 125,
   "id": "322f8118-1d6f-440b-82df-4d3151d81f7e",
   "metadata": {
    "tags": []
   },
   "outputs": [
    {
     "data": {
      "text/plain": [
       "(46, 27)"
      ]
     },
     "execution_count": 125,
     "metadata": {},
     "output_type": "execute_result"
    }
   ],
   "source": [
    "np.unravel_index(yy.argmax(),yy.shape)"
   ]
  },
  {
   "cell_type": "code",
   "execution_count": 124,
   "id": "7c0e94d9-824e-4862-aa54-e8af8f4b5e87",
   "metadata": {
    "tags": []
   },
   "outputs": [
    {
     "data": {
      "text/plain": [
       "(0, 1)"
      ]
     },
     "execution_count": 124,
     "metadata": {},
     "output_type": "execute_result"
    }
   ],
   "source": [
    "np.unravel_index(1,(2,2))"
   ]
  },
  {
   "cell_type": "code",
   "execution_count": 126,
   "id": "c4898f51-45a2-4bb7-9c34-424495c09e41",
   "metadata": {
    "tags": []
   },
   "outputs": [
    {
     "data": {
      "text/plain": [
       "array([4.87740733e-01, 1.26987578e+00, 1.42980577e+00, ...,\n",
       "       5.00013193e+03, 5.00049437e+03, 5.00080458e+03])"
      ]
     },
     "execution_count": 126,
     "metadata": {},
     "output_type": "execute_result"
    }
   ],
   "source": [
    "yy.cumsum()"
   ]
  },
  {
   "cell_type": "code",
   "execution_count": 127,
   "id": "081c204e-0dae-4b1d-af9a-cb97261b1f0a",
   "metadata": {
    "tags": []
   },
   "outputs": [
    {
     "data": {
      "text/plain": [
       "array([4.87740733e-01, 1.26987578e+00, 1.42980577e+00, ...,\n",
       "       5.00013193e+03, 5.00049437e+03, 5.00080458e+03])"
      ]
     },
     "execution_count": 127,
     "metadata": {},
     "output_type": "execute_result"
    }
   ],
   "source": [
    "np.cumsum(yy)"
   ]
  },
  {
   "cell_type": "code",
   "execution_count": 128,
   "id": "ca0ed1d6-b72d-428e-8af4-dcb9e6d23f83",
   "metadata": {
    "tags": []
   },
   "outputs": [
    {
     "data": {
      "text/plain": [
       "10000"
      ]
     },
     "execution_count": 128,
     "metadata": {},
     "output_type": "execute_result"
    }
   ],
   "source": [
    "y.size"
   ]
  },
  {
   "cell_type": "code",
   "execution_count": 130,
   "id": "cdc407ab-c6e4-468c-b3cc-a6dfe7cf4273",
   "metadata": {
    "tags": []
   },
   "outputs": [
    {
     "data": {
      "text/plain": [
       "0.19462354620065447"
      ]
     },
     "execution_count": 130,
     "metadata": {},
     "output_type": "execute_result"
    }
   ],
   "source": [
    "y[1534]"
   ]
  },
  {
   "cell_type": "code",
   "execution_count": 132,
   "id": "b70434d5-8a56-4cce-b145-7f691d835f6f",
   "metadata": {
    "tags": []
   },
   "outputs": [
    {
     "data": {
      "text/plain": [
       "array([0.85191558, 0.98927131, 0.92925584, 0.97997073, 0.16621845,\n",
       "       0.54461806, 0.59960307, 0.46437476, 0.63039898, 0.36233869,\n",
       "       0.30604266, 0.88230301, 0.08810968, 0.74444352, 0.7786334 ,\n",
       "       0.10794761, 0.9076608 , 0.05435708, 0.62626335, 0.86387126,\n",
       "       0.72715677, 0.00138858, 0.90892603, 0.7548051 , 0.07819461,\n",
       "       0.24379647, 0.915853  , 0.97534713, 0.8648447 , 0.16442774,\n",
       "       0.50266356, 0.59253792, 0.22131362, 0.70679446, 0.20266205,\n",
       "       0.50557511, 0.26044248, 0.41822375, 0.56317012, 0.735778  ,\n",
       "       0.18134875, 0.3246622 , 0.13566984, 0.95103964, 0.65046229,\n",
       "       0.34606005, 0.94000623, 0.35658626, 0.47207956, 0.97984911,\n",
       "       0.45204967, 0.64180181, 0.75539113, 0.88317753, 0.02942351,\n",
       "       0.04068509, 0.67470019, 0.52534819, 0.07681912, 0.16799875,\n",
       "       0.85541983, 0.79702548, 0.95043492, 0.48170524, 0.74442286,\n",
       "       0.99080275, 0.42224128, 0.5678659 , 0.09293211, 0.87100183,\n",
       "       0.12003909, 0.24203783, 0.77703516, 0.51300824, 0.27260889,\n",
       "       0.41384502, 0.62945753, 0.08864196, 0.120403  , 0.01580961,\n",
       "       0.20187287, 0.62319556, 0.05303716, 0.53430017, 0.67197859,\n",
       "       0.75514462, 0.6300821 , 0.84237064, 0.16399491, 0.28190441,\n",
       "       0.08305934, 0.11039917, 0.47940764, 0.31304619, 0.63097361,\n",
       "       0.03228632])"
      ]
     },
     "execution_count": 132,
     "metadata": {},
     "output_type": "execute_result"
    }
   ],
   "source": [
    "y[12:300:3]"
   ]
  },
  {
   "cell_type": "code",
   "execution_count": 133,
   "id": "1c7790c8-55be-4453-8b47-0a7349fb03f6",
   "metadata": {
    "tags": []
   },
   "outputs": [
    {
     "data": {
      "text/plain": [
       "(100, 100)"
      ]
     },
     "execution_count": 133,
     "metadata": {},
     "output_type": "execute_result"
    }
   ],
   "source": [
    "yy.shape"
   ]
  },
  {
   "cell_type": "code",
   "execution_count": 134,
   "id": "8479b50c-2134-43f6-8d27-4b57968533fb",
   "metadata": {
    "tags": []
   },
   "outputs": [
    {
     "data": {
      "text/plain": [
       "0.5026635566202509"
      ]
     },
     "execution_count": 134,
     "metadata": {},
     "output_type": "execute_result"
    }
   ],
   "source": [
    "yy[1,2]"
   ]
  },
  {
   "cell_type": "code",
   "execution_count": 136,
   "id": "34886f1d-b748-4718-b744-b7fe3f49f66a",
   "metadata": {
    "tags": []
   },
   "outputs": [
    {
     "data": {
      "text/plain": [
       "array([0.15992999, 0.50266356, 0.32428192, 0.99076146, 0.13512641,\n",
       "       0.99613209, 0.80369356, 0.62021683, 0.61495556, 0.87109382,\n",
       "       0.29120709, 0.5660381 , 0.78417679, 0.7539798 , 0.88126061,\n",
       "       0.03985658, 0.05035863, 0.37394035, 0.87654881, 0.13075105,\n",
       "       0.22847298, 0.74963284, 0.40278775, 0.34654478, 0.34637645,\n",
       "       0.48885204, 0.03730633, 0.29522711, 0.59081754, 0.62873493,\n",
       "       0.62003594, 0.54179804, 0.39296717, 0.8214546 , 0.4477681 ,\n",
       "       0.93823702, 0.34860054, 0.41288199, 0.98591536, 0.33490866,\n",
       "       0.70750954, 0.35900022, 0.69472819, 0.54892894, 0.46401526,\n",
       "       0.82042943, 0.61321733, 0.29455847, 0.24879632, 0.85509878,\n",
       "       0.1576475 , 0.74823751, 0.14048938, 0.28596195, 0.76492199,\n",
       "       0.25128404, 0.86017818, 0.46868822, 0.57056657, 0.12997209,\n",
       "       0.48846067, 0.93837619, 0.09526402, 0.02575524, 0.95298711,\n",
       "       0.28471053, 0.78454798, 0.50587279, 0.22770032, 0.03900364,\n",
       "       0.01620161, 0.70074527, 0.24732529, 0.24681488, 0.76388289,\n",
       "       0.72663552, 0.24701465, 0.41730229, 0.41206109, 0.32096296,\n",
       "       0.96888168, 0.42590035, 0.71326734, 0.03462915, 0.54724169,\n",
       "       0.16418327, 0.39397621, 0.11382545, 0.56626591, 0.8712132 ,\n",
       "       0.51089528, 0.45991234, 0.08195572, 0.78550576, 0.50940087,\n",
       "       0.17502653, 0.99776286, 0.89728485, 0.88695524, 0.50051523])"
      ]
     },
     "execution_count": 136,
     "metadata": {},
     "output_type": "execute_result"
    }
   ],
   "source": [
    "yy[:,2]"
   ]
  },
  {
   "cell_type": "code",
   "execution_count": 137,
   "id": "c1e26917-a74d-48c2-9922-5e7d77bb60bc",
   "metadata": {
    "tags": []
   },
   "outputs": [
    {
     "data": {
      "text/plain": [
       "array([4.92002512e-01, 5.24418972e-01, 5.00515226e-01, 5.39893568e-02,\n",
       "       5.83733478e-01, 4.88258276e-01, 4.84461088e-01, 7.01448706e-01,\n",
       "       3.78070427e-01, 1.12021256e-01, 2.43088842e-01, 3.01962389e-01,\n",
       "       5.20680736e-02, 8.26545526e-01, 2.39177835e-01, 6.37771655e-01,\n",
       "       3.12758547e-02, 5.33862884e-01, 1.15431463e-01, 3.88319920e-01,\n",
       "       9.83435337e-01, 5.82810762e-01, 3.62676787e-01, 4.42444119e-01,\n",
       "       2.07910699e-01, 2.58527062e-01, 5.03830022e-01, 3.85960214e-01,\n",
       "       7.11741731e-01, 6.68450492e-01, 4.34215183e-03, 8.34515679e-01,\n",
       "       8.97497657e-01, 9.89248959e-01, 7.94905038e-01, 2.34930663e-01,\n",
       "       2.45288561e-01, 2.10100544e-01, 9.07592023e-02, 9.59136195e-01,\n",
       "       3.93652253e-01, 5.00553487e-01, 9.92519716e-01, 2.88281921e-01,\n",
       "       1.74309830e-01, 4.69774810e-01, 3.57826143e-01, 1.07397033e-01,\n",
       "       9.80702837e-04, 4.69642767e-01, 9.48294291e-01, 1.06367423e-02,\n",
       "       3.45560844e-01, 6.38567201e-01, 5.53020521e-01, 9.55791103e-01,\n",
       "       3.83860408e-01, 6.25816193e-02, 3.80687752e-01, 6.04504495e-01,\n",
       "       3.34048174e-01, 4.29826751e-01, 5.85961315e-01, 7.87248698e-01,\n",
       "       7.20207302e-01, 9.19228176e-01, 5.25986793e-01, 9.83178709e-01,\n",
       "       5.76300784e-01, 2.09438764e-01, 9.88464379e-01, 8.94981027e-01,\n",
       "       1.14986938e-01, 4.13759358e-01, 6.59625041e-02, 1.79044493e-01,\n",
       "       5.15495533e-01, 9.01032569e-01, 2.60540632e-01, 6.15792884e-01,\n",
       "       2.10750669e-01, 5.46448211e-01, 8.18112478e-01, 9.82365810e-01,\n",
       "       9.80573155e-02, 5.06135353e-01, 4.05302431e-01, 9.75008795e-01,\n",
       "       7.52198006e-01, 9.31106057e-01, 9.02607372e-01, 8.65265931e-01,\n",
       "       2.13249501e-02, 3.19072774e-01, 3.06242207e-01, 8.30575464e-01,\n",
       "       8.04854064e-01, 1.01267261e-01, 3.62440844e-01, 3.10204633e-01])"
      ]
     },
     "execution_count": 137,
     "metadata": {},
     "output_type": "execute_result"
    }
   ],
   "source": [
    "yy[-1,]"
   ]
  },
  {
   "cell_type": "code",
   "execution_count": 139,
   "id": "969d6776-b94d-4e04-b75a-83ef10f319f1",
   "metadata": {
    "tags": []
   },
   "outputs": [
    {
     "data": {
      "text/plain": [
       "array([[0.43601833, 0.48170524, 0.32428192],\n",
       "       [0.36542164, 0.40443798, 0.62021683],\n",
       "       [0.39669622, 0.42946976, 0.61495556]])"
      ]
     },
     "execution_count": 139,
     "metadata": {},
     "output_type": "execute_result"
    }
   ],
   "source": [
    "yy[[2,7,8],0:3]"
   ]
  },
  {
   "cell_type": "code",
   "execution_count": 140,
   "id": "86b3fe7a-80e1-4841-83cd-d07091ffd0b6",
   "metadata": {
    "tags": []
   },
   "outputs": [
    {
     "data": {
      "text/plain": [
       "array([ True, False,  True, ...,  True,  True,  True])"
      ]
     },
     "execution_count": 140,
     "metadata": {},
     "output_type": "execute_result"
    }
   ],
   "source": [
    "y < 0.5"
   ]
  },
  {
   "cell_type": "code",
   "execution_count": 142,
   "id": "d0835348-118d-4ec9-9610-68cb6cb7e679",
   "metadata": {
    "tags": []
   },
   "outputs": [
    {
     "data": {
      "text/plain": [
       "array([0.48774073, 0.15992999, 0.3699419 , ..., 0.10126726, 0.36244084,\n",
       "       0.31020463])"
      ]
     },
     "execution_count": 142,
     "metadata": {},
     "output_type": "execute_result"
    }
   ],
   "source": [
    "y[y < 0.5]"
   ]
  },
  {
   "cell_type": "code",
   "execution_count": 146,
   "id": "182f13f1-609f-4b9f-a4be-05f897af438d",
   "metadata": {
    "tags": []
   },
   "outputs": [
    {
     "data": {
      "text/plain": [
       "True"
      ]
     },
     "execution_count": 146,
     "metadata": {},
     "output_type": "execute_result"
    }
   ],
   "source": [
    "np.all(y > -1.5)"
   ]
  },
  {
   "cell_type": "code",
   "execution_count": 147,
   "id": "4b974d24-c590-41e0-846e-dc5a15f50513",
   "metadata": {
    "tags": []
   },
   "outputs": [
    {
     "data": {
      "text/plain": [
       "True"
      ]
     },
     "execution_count": 147,
     "metadata": {},
     "output_type": "execute_result"
    }
   ],
   "source": [
    "np.any(y > 0.5)"
   ]
  },
  {
   "cell_type": "code",
   "execution_count": 143,
   "id": "b616fd49-4024-4d02-8938-9039139d61cf",
   "metadata": {
    "tags": []
   },
   "outputs": [],
   "source": [
    "z = yy**2"
   ]
  },
  {
   "cell_type": "code",
   "execution_count": 144,
   "id": "51fdb790-8378-4a86-ad02-4f1138b975d3",
   "metadata": {
    "tags": []
   },
   "outputs": [
    {
     "ename": "ValueError",
     "evalue": "The truth value of an array with more than one element is ambiguous. Use a.any() or a.all()",
     "output_type": "error",
     "traceback": [
      "\u001b[0;31m---------------------------------------------------------------------------\u001b[0m",
      "\u001b[0;31mValueError\u001b[0m                                Traceback (most recent call last)",
      "Cell \u001b[0;32mIn[144], line 1\u001b[0m\n\u001b[0;32m----> 1\u001b[0m \u001b[38;5;28;01mif\u001b[39;00m yy \u001b[38;5;241m>\u001b[39m \u001b[38;5;241m0.5\u001b[39m:\n\u001b[1;32m      2\u001b[0m     z \u001b[38;5;241m=\u001b[39m yy\u001b[38;5;241m*\u001b[39m\u001b[38;5;241m*\u001b[39m\u001b[38;5;241m2\u001b[39m\n\u001b[1;32m      3\u001b[0m \u001b[38;5;28;01melse\u001b[39;00m:\n",
      "\u001b[0;31mValueError\u001b[0m: The truth value of an array with more than one element is ambiguous. Use a.any() or a.all()"
     ]
    }
   ],
   "source": [
    "if yy > 0.5:\n",
    "    z = yy**2\n",
    "else:\n",
    "    z = yy"
   ]
  },
  {
   "cell_type": "code",
   "execution_count": 148,
   "id": "a272db1a-a1cb-4c80-bfda-8f2f626b56a1",
   "metadata": {
    "tags": []
   },
   "outputs": [
    {
     "data": {
      "text/plain": [
       "array([0.48774073, 0.61173523, 0.15992999, ..., 0.10126726, 0.36244084,\n",
       "       0.31020463])"
      ]
     },
     "execution_count": 148,
     "metadata": {},
     "output_type": "execute_result"
    }
   ],
   "source": [
    "np.where(y>0.5, y**2, y)"
   ]
  },
  {
   "cell_type": "code",
   "execution_count": 149,
   "id": "0691207e-34dc-4082-a947-3aa1af0ae43b",
   "metadata": {
    "tags": []
   },
   "outputs": [
    {
     "data": {
      "text/plain": [
       "(array([   1,    3,    4, ..., 9991, 9995, 9996]),)"
      ]
     },
     "execution_count": 149,
     "metadata": {},
     "output_type": "execute_result"
    }
   ],
   "source": [
    "np.where(y>0.5)"
   ]
  },
  {
   "cell_type": "code",
   "execution_count": 156,
   "id": "d685b34d-d969-4d6f-b943-331b33d6ddfe",
   "metadata": {
    "tags": []
   },
   "outputs": [
    {
     "data": {
      "text/plain": [
       "array([[ 0,  1,  2],\n",
       "       [ 3,  4,  5],\n",
       "       [ 6,  7,  8],\n",
       "       [ 9, 10, 11],\n",
       "       [12, 13, 14],\n",
       "       [15, 16, 17],\n",
       "       [18, 19, 20],\n",
       "       [21, 22, 23]])"
      ]
     },
     "execution_count": 156,
     "metadata": {},
     "output_type": "execute_result"
    }
   ],
   "source": [
    "z = np.arange(24).reshape(-1,3)\n",
    "z"
   ]
  },
  {
   "cell_type": "code",
   "execution_count": 161,
   "id": "6ded08db-4b31-4799-8dc5-b1216270871e",
   "metadata": {
    "tags": []
   },
   "outputs": [
    {
     "data": {
      "text/plain": [
       "(8, 3)"
      ]
     },
     "execution_count": 161,
     "metadata": {},
     "output_type": "execute_result"
    }
   ],
   "source": [
    "z.shape"
   ]
  },
  {
   "cell_type": "code",
   "execution_count": 159,
   "id": "cf198316-c894-4a02-9fa9-308bb7faa268",
   "metadata": {
    "tags": []
   },
   "outputs": [
    {
     "data": {
      "text/plain": [
       "array([10.5, 11.5, 12.5])"
      ]
     },
     "execution_count": 159,
     "metadata": {},
     "output_type": "execute_result"
    }
   ],
   "source": [
    "z.mean(axis=0)"
   ]
  },
  {
   "cell_type": "code",
   "execution_count": 160,
   "id": "9f920166-ad27-4202-b1d5-725ef1312cc0",
   "metadata": {
    "tags": []
   },
   "outputs": [
    {
     "data": {
      "text/plain": [
       "array([ 1.,  4.,  7., 10., 13., 16., 19., 22.])"
      ]
     },
     "execution_count": 160,
     "metadata": {},
     "output_type": "execute_result"
    }
   ],
   "source": [
    "z.mean(axis=1)"
   ]
  },
  {
   "cell_type": "code",
   "execution_count": 162,
   "id": "ad604df0-24c1-4678-af3e-42e38430fae3",
   "metadata": {
    "tags": []
   },
   "outputs": [],
   "source": [
    "pos_media = z.mean(axis=0)"
   ]
  },
  {
   "cell_type": "code",
   "execution_count": 164,
   "id": "9ebd0d84-037e-4fcc-92ee-a01f9cfcb043",
   "metadata": {
    "tags": []
   },
   "outputs": [
    {
     "data": {
      "text/plain": [
       "array([[-10.5, -10.5, -10.5],\n",
       "       [ -7.5,  -7.5,  -7.5],\n",
       "       [ -4.5,  -4.5,  -4.5],\n",
       "       [ -1.5,  -1.5,  -1.5],\n",
       "       [  1.5,   1.5,   1.5],\n",
       "       [  4.5,   4.5,   4.5],\n",
       "       [  7.5,   7.5,   7.5],\n",
       "       [ 10.5,  10.5,  10.5]])"
      ]
     },
     "execution_count": 164,
     "metadata": {},
     "output_type": "execute_result"
    }
   ],
   "source": [
    "z-pos_media"
   ]
  },
  {
   "cell_type": "code",
   "execution_count": 168,
   "id": "219a6927-a3ee-4b64-845f-44c115e6c4c7",
   "metadata": {
    "tags": []
   },
   "outputs": [],
   "source": [
    "z2 = z.mean(axis=1)"
   ]
  },
  {
   "cell_type": "code",
   "execution_count": 169,
   "id": "215c60e2-0b85-40ab-b202-62f748e48756",
   "metadata": {
    "tags": []
   },
   "outputs": [
    {
     "data": {
      "text/plain": [
       "array([ 1.,  4.,  7., 10., 13., 16., 19., 22.])"
      ]
     },
     "execution_count": 169,
     "metadata": {},
     "output_type": "execute_result"
    }
   ],
   "source": [
    "z2"
   ]
  },
  {
   "cell_type": "code",
   "execution_count": 171,
   "id": "9a57bd6e-36ce-40f3-87e1-176188faaf4b",
   "metadata": {
    "tags": []
   },
   "outputs": [
    {
     "data": {
      "text/plain": [
       "array([[-1.,  0.,  1.],\n",
       "       [-1.,  0.,  1.],\n",
       "       [-1.,  0.,  1.],\n",
       "       [-1.,  0.,  1.],\n",
       "       [-1.,  0.,  1.],\n",
       "       [-1.,  0.,  1.],\n",
       "       [-1.,  0.,  1.],\n",
       "       [-1.,  0.,  1.]])"
      ]
     },
     "execution_count": 171,
     "metadata": {},
     "output_type": "execute_result"
    }
   ],
   "source": [
    "z-z2.reshape((8,1))"
   ]
  },
  {
   "cell_type": "code",
   "execution_count": 175,
   "id": "a34e2b6c-db7f-4984-8724-6e804ae49db8",
   "metadata": {
    "tags": []
   },
   "outputs": [
    {
     "data": {
      "text/plain": [
       "(1, (8,))"
      ]
     },
     "execution_count": 175,
     "metadata": {},
     "output_type": "execute_result"
    }
   ],
   "source": [
    "z2.ndim,z2.shape"
   ]
  },
  {
   "cell_type": "code",
   "execution_count": 176,
   "id": "48c0b8de-ee14-45b3-9e2d-75bdcc650026",
   "metadata": {
    "tags": []
   },
   "outputs": [],
   "source": [
    "z2r = z2.reshape((8,1))"
   ]
  },
  {
   "cell_type": "code",
   "execution_count": 178,
   "id": "f538b064-f23b-4790-ab52-aa122c5609aa",
   "metadata": {
    "tags": []
   },
   "outputs": [
    {
     "data": {
      "text/plain": [
       "array([[ 1.],\n",
       "       [ 4.],\n",
       "       [ 7.],\n",
       "       [10.],\n",
       "       [13.],\n",
       "       [16.],\n",
       "       [19.],\n",
       "       [22.]])"
      ]
     },
     "execution_count": 178,
     "metadata": {},
     "output_type": "execute_result"
    }
   ],
   "source": [
    "z2r"
   ]
  },
  {
   "cell_type": "code",
   "execution_count": 179,
   "id": "2859de96-3b97-47d2-b689-3b7dcb3ebbd1",
   "metadata": {
    "tags": []
   },
   "outputs": [
    {
     "data": {
      "text/plain": [
       "(2, (8, 1))"
      ]
     },
     "execution_count": 179,
     "metadata": {},
     "output_type": "execute_result"
    }
   ],
   "source": [
    "z2r.ndim, z2r.shape"
   ]
  },
  {
   "cell_type": "code",
   "execution_count": 181,
   "id": "6b6874f3-c21e-4656-999b-b1b14affac51",
   "metadata": {
    "tags": []
   },
   "outputs": [
    {
     "data": {
      "text/plain": [
       "array([[ 1.],\n",
       "       [ 4.],\n",
       "       [ 7.],\n",
       "       [10.],\n",
       "       [13.],\n",
       "       [16.],\n",
       "       [19.],\n",
       "       [22.]])"
      ]
     },
     "execution_count": 181,
     "metadata": {},
     "output_type": "execute_result"
    }
   ],
   "source": [
    "z.mean(axis=1, keepdims=True)"
   ]
  },
  {
   "cell_type": "code",
   "execution_count": 182,
   "id": "6d1a9019-bdcb-4c85-8400-6ba540ec2728",
   "metadata": {
    "tags": []
   },
   "outputs": [
    {
     "data": {
      "text/plain": [
       "array([ 1.,  4.,  7., 10., 13., 16., 19., 22.])"
      ]
     },
     "execution_count": 182,
     "metadata": {},
     "output_type": "execute_result"
    }
   ],
   "source": [
    "z2"
   ]
  },
  {
   "cell_type": "code",
   "execution_count": 183,
   "id": "b6d6f3f9-24a0-4ecc-82e6-6a46461f8e2f",
   "metadata": {
    "tags": []
   },
   "outputs": [
    {
     "data": {
      "text/plain": [
       "array([[ 1.],\n",
       "       [ 4.],\n",
       "       [ 7.],\n",
       "       [10.],\n",
       "       [13.],\n",
       "       [16.],\n",
       "       [19.],\n",
       "       [22.]])"
      ]
     },
     "execution_count": 183,
     "metadata": {},
     "output_type": "execute_result"
    }
   ],
   "source": [
    "z2[:, np.newaxis]"
   ]
  },
  {
   "cell_type": "code",
   "execution_count": 184,
   "id": "57cdf5d6-8721-4c89-8886-9752b35a152a",
   "metadata": {
    "tags": []
   },
   "outputs": [
    {
     "data": {
      "text/plain": [
       "65.75712889109438"
      ]
     },
     "execution_count": 184,
     "metadata": {},
     "output_type": "execute_result"
    }
   ],
   "source": [
    "np.linalg.norm(z)"
   ]
  },
  {
   "cell_type": "code",
   "execution_count": 186,
   "id": "4fd20bea-97fd-4fe6-bdd2-6c31fd9a74cb",
   "metadata": {
    "tags": []
   },
   "outputs": [
    {
     "data": {
      "text/plain": [
       "array([[ 0,  3,  6,  9, 12, 15, 18, 21],\n",
       "       [ 1,  4,  7, 10, 13, 16, 19, 22],\n",
       "       [ 2,  5,  8, 11, 14, 17, 20, 23]])"
      ]
     },
     "execution_count": 186,
     "metadata": {},
     "output_type": "execute_result"
    }
   ],
   "source": [
    "z.T"
   ]
  },
  {
   "cell_type": "code",
   "execution_count": 187,
   "id": "9595306a-35d8-457d-90e3-3e5bd7e55ced",
   "metadata": {
    "tags": []
   },
   "outputs": [
    {
     "data": {
      "text/plain": [
       "array([[ 0,  3,  6,  9, 12, 15, 18, 21],\n",
       "       [ 1,  4,  7, 10, 13, 16, 19, 22],\n",
       "       [ 2,  5,  8, 11, 14, 17, 20, 23]])"
      ]
     },
     "execution_count": 187,
     "metadata": {},
     "output_type": "execute_result"
    }
   ],
   "source": [
    "np.transpose(z)"
   ]
  },
  {
   "cell_type": "code",
   "execution_count": 190,
   "id": "7864d61a-06a9-4df0-9809-cb1fb15e11bb",
   "metadata": {
    "tags": []
   },
   "outputs": [],
   "source": [
    "q = np.arange(16).reshape(4,4)"
   ]
  },
  {
   "cell_type": "code",
   "execution_count": 191,
   "id": "a7babd42-23b6-4203-ac15-5b941aab8406",
   "metadata": {
    "tags": []
   },
   "outputs": [
    {
     "data": {
      "text/plain": [
       "-2.9582283945787796e-30"
      ]
     },
     "execution_count": 191,
     "metadata": {},
     "output_type": "execute_result"
    }
   ],
   "source": [
    "np.linalg.det(q)"
   ]
  },
  {
   "cell_type": "code",
   "execution_count": 194,
   "id": "f2b2c614-6ab9-406e-a733-96f646def4da",
   "metadata": {
    "tags": []
   },
   "outputs": [
    {
     "data": {
      "text/plain": [
       "array([[ 0,  1,  2,  3],\n",
       "       [ 4,  5,  6,  7],\n",
       "       [ 8,  9, 10, 11],\n",
       "       [12, 13, 14, 15]])"
      ]
     },
     "execution_count": 194,
     "metadata": {},
     "output_type": "execute_result"
    }
   ],
   "source": [
    "q"
   ]
  },
  {
   "cell_type": "code",
   "execution_count": 195,
   "id": "3433d0a6-adfb-45b1-8667-b19e30965ff7",
   "metadata": {
    "tags": []
   },
   "outputs": [],
   "source": [
    "w = npr.random((4,4))"
   ]
  },
  {
   "cell_type": "code",
   "execution_count": 196,
   "id": "6bf44afa-cdee-43f4-8ddd-aa4b40b6494b",
   "metadata": {
    "tags": []
   },
   "outputs": [
    {
     "data": {
      "text/plain": [
       "array([[ 0.        ,  0.17638195,  0.46641894,  2.19462567],\n",
       "       [ 0.47645839,  3.92514448,  0.08369433,  4.53326362],\n",
       "       [ 4.0696078 ,  7.48417897,  6.20079306,  7.48734211],\n",
       "       [ 1.77843548,  2.3017941 , 10.3639355 ,  3.52286632]])"
      ]
     },
     "execution_count": 196,
     "metadata": {},
     "output_type": "execute_result"
    }
   ],
   "source": [
    "q*w"
   ]
  },
  {
   "cell_type": "code",
   "execution_count": 197,
   "id": "cc5ff1c0-8779-4f1c-89ba-442df31425f2",
   "metadata": {
    "tags": []
   },
   "outputs": [
    {
     "data": {
      "text/plain": [
       "array([[ 1.58112542,  2.97936303,  3.47495099,  2.71351728],\n",
       "       [ 6.76886458, 10.85955254,  9.90502674, 11.89222208],\n",
       "       [11.95660374, 18.73974204, 16.33510248, 21.07092687],\n",
       "       [17.1443429 , 26.61993154, 22.76517823, 30.24963167]])"
      ]
     },
     "execution_count": 197,
     "metadata": {},
     "output_type": "execute_result"
    }
   ],
   "source": [
    "np.dot(q,w)"
   ]
  },
  {
   "cell_type": "code",
   "execution_count": 198,
   "id": "d49e0c75-8a23-4a76-afaf-0627730711ed",
   "metadata": {
    "tags": []
   },
   "outputs": [
    {
     "data": {
      "text/plain": [
       "array([[ 1.58112542,  2.97936303,  3.47495099,  2.71351728],\n",
       "       [ 6.76886458, 10.85955254,  9.90502674, 11.89222208],\n",
       "       [11.95660374, 18.73974204, 16.33510248, 21.07092687],\n",
       "       [17.1443429 , 26.61993154, 22.76517823, 30.24963167]])"
      ]
     },
     "execution_count": 198,
     "metadata": {},
     "output_type": "execute_result"
    }
   ],
   "source": [
    "q.dot(w)"
   ]
  },
  {
   "cell_type": "markdown",
   "id": "55110a6e-540b-44a1-82d2-5c04d13567e6",
   "metadata": {},
   "source": [
    "1. Generar un array con valores enteros de 0 a 49.\n",
    "1. Cambiar el array de manera que los valores impares sean -1.\n",
    "1. Generar un **nuevo** array donde los elemetos pares sean 1.\n",
    "1. Generar un array de (100,100) de números aleatorios con distribución normal con media 0 y desviacion estándar 1. \n",
    "1. Reescalar los valores de manera que esten entre (-1,1). \n",
    "1. Comprobar que el producto de una matriz por su inversa es la matriz identidad."
   ]
  },
  {
   "cell_type": "code",
   "execution_count": 200,
   "id": "398ed553-cd7a-4e48-bb88-42fba1e18879",
   "metadata": {
    "tags": []
   },
   "outputs": [
    {
     "data": {
      "text/plain": [
       "array([0, 1, 0, 1])"
      ]
     },
     "execution_count": 200,
     "metadata": {},
     "output_type": "execute_result"
    }
   ],
   "source": [
    "np.mod([2,3,4, 5], 2)"
   ]
  },
  {
   "cell_type": "code",
   "execution_count": 203,
   "id": "9c028a16-3cce-496f-a929-c4440d27dd27",
   "metadata": {
    "tags": []
   },
   "outputs": [
    {
     "data": {
      "text/plain": [
       "False"
      ]
     },
     "execution_count": 203,
     "metadata": {},
     "output_type": "execute_result"
    }
   ],
   "source": [
    "5 % 2 == 0 #¿Es par?"
   ]
  },
  {
   "cell_type": "code",
   "execution_count": 202,
   "id": "068222ba-ca39-4d72-89f3-fc27d5348142",
   "metadata": {
    "tags": []
   },
   "outputs": [
    {
     "data": {
      "text/plain": [
       "1.5"
      ]
     },
     "execution_count": 202,
     "metadata": {},
     "output_type": "execute_result"
    }
   ],
   "source": [
    "3/2"
   ]
  },
  {
   "cell_type": "markdown",
   "id": "f9f36e60-2c89-4d21-ba75-c99773d25d20",
   "metadata": {
    "tags": []
   },
   "source": [
    "# Matplotlib"
   ]
  },
  {
   "cell_type": "markdown",
   "id": "f12b9b72-c5b0-4075-a0ad-559d536f1382",
   "metadata": {},
   "source": [
    "texto *cursiva* y **negrita** y formulas:\n",
    "\n",
    "$$\n",
    "f(x)=\\sum_i x_i^2\n",
    "$$"
   ]
  },
  {
   "cell_type": "code",
   "execution_count": 4,
   "id": "7fe851a1-8731-49cf-b696-28b060d10608",
   "metadata": {
    "tags": []
   },
   "outputs": [],
   "source": [
    "import matplotlib.pyplot as plt\n",
    "import numpy as np"
   ]
  },
  {
   "cell_type": "code",
   "execution_count": 233,
   "id": "1b9a9ab5-9daf-4391-9fd8-8fa1f18b5af9",
   "metadata": {
    "tags": []
   },
   "outputs": [
    {
     "data": {
      "text/plain": [
       "\u001b[0;31mSignature:\u001b[0m \u001b[0mplt\u001b[0m\u001b[0;34m.\u001b[0m\u001b[0mtitle\u001b[0m\u001b[0;34m(\u001b[0m\u001b[0mlabel\u001b[0m\u001b[0;34m,\u001b[0m \u001b[0mfontdict\u001b[0m\u001b[0;34m=\u001b[0m\u001b[0;32mNone\u001b[0m\u001b[0;34m,\u001b[0m \u001b[0mloc\u001b[0m\u001b[0;34m=\u001b[0m\u001b[0;32mNone\u001b[0m\u001b[0;34m,\u001b[0m \u001b[0mpad\u001b[0m\u001b[0;34m=\u001b[0m\u001b[0;32mNone\u001b[0m\u001b[0;34m,\u001b[0m \u001b[0;34m*\u001b[0m\u001b[0;34m,\u001b[0m \u001b[0my\u001b[0m\u001b[0;34m=\u001b[0m\u001b[0;32mNone\u001b[0m\u001b[0;34m,\u001b[0m \u001b[0;34m**\u001b[0m\u001b[0mkwargs\u001b[0m\u001b[0;34m)\u001b[0m\u001b[0;34m\u001b[0m\u001b[0;34m\u001b[0m\u001b[0m\n",
       "\u001b[0;31mDocstring:\u001b[0m\n",
       "Set a title for the Axes.\n",
       "\n",
       "Set one of the three available Axes titles. The available titles\n",
       "are positioned above the Axes in the center, flush with the left\n",
       "edge, and flush with the right edge.\n",
       "\n",
       "Parameters\n",
       "----------\n",
       "label : str\n",
       "    Text to use for the title\n",
       "\n",
       "fontdict : dict\n",
       "    A dictionary controlling the appearance of the title text,\n",
       "    the default *fontdict* is::\n",
       "\n",
       "       {'fontsize': rcParams['axes.titlesize'],\n",
       "        'fontweight': rcParams['axes.titleweight'],\n",
       "        'color': rcParams['axes.titlecolor'],\n",
       "        'verticalalignment': 'baseline',\n",
       "        'horizontalalignment': loc}\n",
       "\n",
       "loc : {'center', 'left', 'right'}, default: :rc:`axes.titlelocation`\n",
       "    Which title to set.\n",
       "\n",
       "y : float, default: :rc:`axes.titley`\n",
       "    Vertical Axes location for the title (1.0 is the top).  If\n",
       "    None (the default) and :rc:`axes.titley` is also None, y is\n",
       "    determined automatically to avoid decorators on the Axes.\n",
       "\n",
       "pad : float, default: :rc:`axes.titlepad`\n",
       "    The offset of the title from the top of the Axes, in points.\n",
       "\n",
       "Returns\n",
       "-------\n",
       "`.Text`\n",
       "    The matplotlib text instance representing the title\n",
       "\n",
       "Other Parameters\n",
       "----------------\n",
       "**kwargs : `.Text` properties\n",
       "    Other keyword arguments are text properties, see `.Text` for a list\n",
       "    of valid text properties.\n",
       "\u001b[0;31mFile:\u001b[0m      ~/anaconda3/lib/python3.11/site-packages/matplotlib/pyplot.py\n",
       "\u001b[0;31mType:\u001b[0m      function"
      ]
     },
     "metadata": {},
     "output_type": "display_data"
    }
   ],
   "source": [
    "plt.title?"
   ]
  },
  {
   "cell_type": "code",
   "execution_count": 236,
   "id": "82113b74-7bf3-4645-8d99-7bbf067af5cd",
   "metadata": {
    "tags": []
   },
   "outputs": [
    {
     "data": {
      "text/plain": [
       "Text(0.5, 1.0, 'Figure 1')"
      ]
     },
     "execution_count": 236,
     "metadata": {},
     "output_type": "execute_result"
    },
    {
     "data": {
      "image/png": "[encoded data removed]",
      "text/plain": [
       "<Figure size 400x300 with 1 Axes>"
      ]
     },
     "metadata": {},
     "output_type": "display_data"
    }
   ],
   "source": [
    "plt.figure(figsize=(4,3))\n",
    "plt.plot([1,2,3,6], [4,2,3,6], 'C0x--', label=\"Muestra 1\", markersize=4)\n",
    "plt.plot([1,3,6,5], [4,6,3,3], 'C0o-', label=\"Muestra 2\", lw=0.1)\n",
    "plt.legend()\n",
    "plt.xlabel(\"Temperatura (ºC)\")\n",
    "plt.ylabel(\"Clorofila $\\chi$\")\n",
    "plt.title(\"Figure 1\", size=30)"
   ]
  },
  {
   "cell_type": "code",
   "execution_count": 248,
   "id": "8968913a-f8d9-48eb-8506-99589a64e573",
   "metadata": {
    "collapsed": true,
    "jupyter": {
     "outputs_hidden": true
    },
    "tags": []
   },
   "outputs": [
    {
     "data": {
      "text/plain": [
       "\u001b[0;31mSignature:\u001b[0m \u001b[0mx\u001b[0m\u001b[0;34m.\u001b[0m\u001b[0msort\u001b[0m\u001b[0;34m(\u001b[0m\u001b[0;34m*\u001b[0m\u001b[0;34m,\u001b[0m \u001b[0mkey\u001b[0m\u001b[0;34m=\u001b[0m\u001b[0;32mNone\u001b[0m\u001b[0;34m,\u001b[0m \u001b[0mreverse\u001b[0m\u001b[0;34m=\u001b[0m\u001b[0;32mFalse\u001b[0m\u001b[0;34m)\u001b[0m\u001b[0;34m\u001b[0m\u001b[0;34m\u001b[0m\u001b[0m\n",
       "\u001b[0;31mDocstring:\u001b[0m\n",
       "Sort the list in ascending order and return None.\n",
       "\n",
       "The sort is in-place (i.e. the list itself is modified) and stable (i.e. the\n",
       "order of two equal elements is maintained).\n",
       "\n",
       "If a key function is given, apply it once to each list item and sort them,\n",
       "ascending or descending, according to their function values.\n",
       "\n",
       "The reverse flag can be set to sort in descending order.\n",
       "\u001b[0;31mType:\u001b[0m      builtin_function_or_method"
      ]
     },
     "metadata": {},
     "output_type": "display_data"
    }
   ],
   "source": [
    "x = [3,4,2,5]\n",
    "x.sort?"
   ]
  },
  {
   "cell_type": "code",
   "execution_count": 245,
   "id": "5ef2986b-2497-460e-b190-2dfa3a817c26",
   "metadata": {
    "tags": []
   },
   "outputs": [
    {
     "data": {
      "text/plain": [
       "[2, 3, 4, 5]"
      ]
     },
     "execution_count": 245,
     "metadata": {},
     "output_type": "execute_result"
    }
   ],
   "source": [
    "sorted(x)"
   ]
  },
  {
   "cell_type": "code",
   "execution_count": 249,
   "id": "48f6e22f-f976-42d8-a996-bf40d446c9fc",
   "metadata": {
    "tags": []
   },
   "outputs": [
    {
     "data": {
      "text/plain": [
       "\u001b[0;31mSignature:\u001b[0m \u001b[0msorted\u001b[0m\u001b[0;34m(\u001b[0m\u001b[0miterable\u001b[0m\u001b[0;34m,\u001b[0m \u001b[0;34m/\u001b[0m\u001b[0;34m,\u001b[0m \u001b[0;34m*\u001b[0m\u001b[0;34m,\u001b[0m \u001b[0mkey\u001b[0m\u001b[0;34m=\u001b[0m\u001b[0;32mNone\u001b[0m\u001b[0;34m,\u001b[0m \u001b[0mreverse\u001b[0m\u001b[0;34m=\u001b[0m\u001b[0;32mFalse\u001b[0m\u001b[0;34m)\u001b[0m\u001b[0;34m\u001b[0m\u001b[0;34m\u001b[0m\u001b[0m\n",
       "\u001b[0;31mDocstring:\u001b[0m\n",
       "Return a new list containing all items from the iterable in ascending order.\n",
       "\n",
       "A custom key function can be supplied to customize the sort order, and the\n",
       "reverse flag can be set to request the result in descending order.\n",
       "\u001b[0;31mType:\u001b[0m      builtin_function_or_method"
      ]
     },
     "metadata": {},
     "output_type": "display_data"
    }
   ],
   "source": [
    "sorted?"
   ]
  },
  {
   "cell_type": "code",
   "execution_count": 247,
   "id": "aefbe3fc-4e05-4aaa-b2fe-0d46bf231255",
   "metadata": {
    "tags": []
   },
   "outputs": [
    {
     "data": {
      "text/plain": [
       "(276, 276)"
      ]
     },
     "execution_count": 247,
     "metadata": {},
     "output_type": "execute_result"
    }
   ],
   "source": [
    "np.sum(z), z.sum()"
   ]
  },
  {
   "cell_type": "code",
   "execution_count": 5,
   "id": "ecb978be-af49-4f40-9bbb-0a6fb6c3c524",
   "metadata": {
    "tags": []
   },
   "outputs": [],
   "source": [
    "data= np.loadtxt(\"saco_csic/Documents_xoriguer/cursos/Python_CSIC/2023/material/data/DATA3DABC.txt\",\n",
    "          skiprows=1)\n",
    "lambdas = np.loadtxt(\"saco_csic/Documents_xoriguer/cursos/Python_CSIC/2023/material/data/DATA3DABC.txt\",\n",
    "          max_rows=1)"
   ]
  },
  {
   "cell_type": "code",
   "execution_count": 6,
   "id": "a089d2cc-3222-4e3a-a4d3-17cf51550f34",
   "metadata": {
    "tags": []
   },
   "outputs": [],
   "source": [
    "times = data[:, 0]\n",
    "absorb = data[:, 1:]"
   ]
  },
  {
   "cell_type": "code",
   "execution_count": 7,
   "id": "97c0924e-fc32-4780-a8f0-3ea82a2431b7",
   "metadata": {
    "tags": []
   },
   "outputs": [
    {
     "data": {
      "text/plain": [
       "[<matplotlib.lines.Line2D at 0x7f7a83635e50>]"
      ]
     },
     "execution_count": 7,
     "metadata": {},
     "output_type": "execute_result"
    },
    {
     "data": {
      "image/png": "[encoded data removed]",
      "text/plain": [
       "<Figure size 400x300 with 1 Axes>"
      ]
     },
     "metadata": {},
     "output_type": "display_data"
    }
   ],
   "source": [
    "plt.figure(figsize=(4,3))\n",
    "plt.plot(lambdas, absorb[0])"
   ]
  },
  {
   "cell_type": "code",
   "execution_count": 8,
   "id": "ec836afa-a3d9-40e0-bff0-fb9880037b13",
   "metadata": {
    "tags": []
   },
   "outputs": [],
   "source": [
    "import matplotlib as mpl"
   ]
  },
  {
   "cell_type": "code",
   "execution_count": 9,
   "id": "54009631-26a3-43a4-b506-29494946f04e",
   "metadata": {
    "tags": []
   },
   "outputs": [
    {
     "data": {
      "image/png": "[encoded data removed]",
      "text/plain": [
       "<Figure size 400x300 with 1 Axes>"
      ]
     },
     "metadata": {},
     "output_type": "display_data"
    }
   ],
   "source": [
    "plt.figure(figsize=(4,3))\n",
    "for a in absorb:\n",
    "    plt.plot(lambdas, a)"
   ]
  },
  {
   "cell_type": "code",
   "execution_count": 10,
   "id": "55bd6284-ee37-4c92-92c3-55901e1f9397",
   "metadata": {
    "tags": []
   },
   "outputs": [
    {
     "data": {
      "image/png": "[encoded data removed]",
      "text/plain": [
       "<Figure size 400x300 with 1 Axes>"
      ]
     },
     "metadata": {},
     "output_type": "display_data"
    }
   ],
   "source": [
    "plt.figure(figsize=(4,3))\n",
    "colors = mpl.cm.viridis(np.linspace(0,1,absorb.shape[0]))\n",
    "\n",
    "for i in range(absorb.shape[0]):\n",
    "    plt.plot(lambdas, absorb[i],  color=colors[i])"
   ]
  },
  {
   "cell_type": "code",
   "execution_count": 11,
   "id": "04401875-27da-4ccd-9599-930060ec4e8c",
   "metadata": {
    "tags": []
   },
   "outputs": [
    {
     "data": {
      "text/plain": [
       "(1.8007, 15)"
      ]
     },
     "execution_count": 11,
     "metadata": {},
     "output_type": "execute_result"
    }
   ],
   "source": [
    "np.max(absorb[-1]), np.argmax(absorb[-1])"
   ]
  },
  {
   "cell_type": "code",
   "execution_count": 12,
   "id": "2b9c1658-5c72-40bf-93d4-c47d0ea76af4",
   "metadata": {
    "tags": []
   },
   "outputs": [
    {
     "data": {
      "text/plain": [
       "550.0"
      ]
     },
     "execution_count": 12,
     "metadata": {},
     "output_type": "execute_result"
    }
   ],
   "source": [
    "lambdas[15]"
   ]
  },
  {
   "cell_type": "code",
   "execution_count": 13,
   "id": "b0ad7085-6558-41f8-879c-2fdc0467df26",
   "metadata": {
    "tags": []
   },
   "outputs": [
    {
     "data": {
      "text/plain": [
       "[<matplotlib.lines.Line2D at 0x7f7a81520dd0>]"
      ]
     },
     "execution_count": 13,
     "metadata": {},
     "output_type": "execute_result"
    },
    {
     "data": {
      "image/png": "[encoded data removed]",
      "text/plain": [
       "<Figure size 640x480 with 1 Axes>"
      ]
     },
     "metadata": {},
     "output_type": "display_data"
    }
   ],
   "source": [
    "plt.plot(times,absorb[:,np.argmax(absorb[-1])])"
   ]
  },
  {
   "cell_type": "code",
   "execution_count": 14,
   "id": "820f0e62-8791-4e74-8a9d-f60e786858db",
   "metadata": {
    "tags": []
   },
   "outputs": [
    {
     "name": "stderr",
     "output_type": "stream",
     "text": [
      "/tmp/ipykernel_40082/3302646937.py:1: RuntimeWarning: divide by zero encountered in divide\n",
      "  plt.plot(1/times,1/absorb[:,np.argmax(absorb[-1])], 'x-')\n"
     ]
    },
    {
     "data": {
      "text/plain": [
       "[<matplotlib.lines.Line2D at 0x7f7a98462050>]"
      ]
     },
     "execution_count": 14,
     "metadata": {},
     "output_type": "execute_result"
    },
    {
     "data": {
      "image/png": "[encoded data removed]",
      "text/plain": [
       "<Figure size 640x480 with 1 Axes>"
      ]
     },
     "metadata": {},
     "output_type": "display_data"
    }
   ],
   "source": [
    "plt.plot(1/times,1/absorb[:,np.argmax(absorb[-1])], 'x-')"
   ]
  },
  {
   "cell_type": "code",
   "execution_count": 15,
   "id": "8f44caa0-331a-4ac3-970e-fb766c9a8999",
   "metadata": {
    "tags": []
   },
   "outputs": [
    {
     "data": {
      "image/png": "[encoded data removed]",
      "text/plain": [
       "<Figure size 640x480 with 1 Axes>"
      ]
     },
     "metadata": {},
     "output_type": "display_data"
    }
   ],
   "source": [
    "plt.plot(times,absorb, 'x-');"
   ]
  },
  {
   "cell_type": "code",
   "execution_count": 17,
   "id": "fd27ca45-4319-4934-adcc-49052120b5a7",
   "metadata": {
    "tags": []
   },
   "outputs": [],
   "source": [
    "from cycler import cycler"
   ]
  },
  {
   "cell_type": "code",
   "execution_count": 18,
   "id": "035c63ff-2b50-46e2-a7b6-164591aabc4a",
   "metadata": {
    "tags": []
   },
   "outputs": [],
   "source": [
    "my_cycler = cycler(color=colors)"
   ]
  },
  {
   "cell_type": "code",
   "execution_count": 23,
   "id": "f055cbee-d010-45e4-bb08-716f18112162",
   "metadata": {
    "tags": []
   },
   "outputs": [
    {
     "data": {
      "text/plain": [
       "Text(0.5, 1.0, 'new color cycler')"
      ]
     },
     "execution_count": 23,
     "metadata": {},
     "output_type": "execute_result"
    },
    {
     "data": {
      "image/png": "[encoded data removed]",
      "text/plain": [
       "<Figure size 800x300 with 2 Axes>"
      ]
     },
     "metadata": {},
     "output_type": "display_data"
    }
   ],
   "source": [
    "fig, (ax0, ax1) = plt.subplots(ncols=2, figsize=(8,3), sharey=True)\n",
    "ax0.plot(lambdas,absorb.T, 'x-')\n",
    "ax0.set_title('Default color cycle')\n",
    "ax1.set_prop_cycle(my_cycler)\n",
    "ax1.plot(lambdas,absorb.T, 'x-')\n",
    "ax1.set_title('new color cycler')"
   ]
  },
  {
   "cell_type": "code",
   "execution_count": null,
   "id": "0b348ae8-b2ec-4802-8d5e-077d8cd38a02",
   "metadata": {},
   "outputs": [],
   "source": []
  }
 ],
 "metadata": {
  "kernelspec": {
   "display_name": "Python 3 (ipykernel)",
   "language": "python",
   "name": "python3"
  },
  "language_info": {
   "codemirror_mode": {
    "name": "ipython",
    "version": 3
   },
   "file_extension": ".py",
   "mimetype": "text/x-python",
   "name": "python",
   "nbconvert_exporter": "python",
   "pygments_lexer": "ipython3",
   "version": "3.11.4"
  }
 },
 "nbformat": 4,
 "nbformat_minor": 5
}
