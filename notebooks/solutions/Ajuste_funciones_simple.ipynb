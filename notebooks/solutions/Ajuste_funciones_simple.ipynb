{
 "cells": [
  {
   "cell_type": "markdown",
   "id": "e28b3f35-dda5-4643-8da6-075ba4611ad2",
   "metadata": {},
   "source": [
    "Fermín Huarte, Noviembre 2023\n",
    "## Ajuste lineal: cinética de segundo orden\n",
    "\n",
    "Como primer ejemplo consideramos la cinética de una reacción de segundo orden como la hidrólisis del acetato de etilo en medio básico:\n",
    "$$\n",
    "CH_3COO-CH_2CH_3 + OH^- \\leftrightarrow CH_3COO^- + CH_3CH_2OH\n",
    "$$\n",
    "que sigue una ley cinética del tipo:\n",
    "$$\n",
    "v = \\frac{-d[AcEt]}{dt} = k [AcEt][OH^-]\n",
    "$$\n",
    "Se puede comprobar que, en esta reacción, si preparamos concentraciones iniciales _identicamente iguales_ para ambos reactivos y dado que la estequimetría de la reacción es 1 a 1, las concentraciones de ambos reactivos serán iguales en todo momento y podemos escribir:\n",
    "$$\n",
    "v = \\frac{-d[AcEt]}{dt} = k [AcEt]^2\n",
    "$$\n",
    "Esta _ley diferencial_ se puede integrar para obtener la ley integral:\n",
    "$$\n",
    "\\frac{1}{[AcEt]} = \\frac{1}{[AcEt]_0} + k t\n",
    "$$\n",
    "\n",
    "**Primer ejercicio**\n",
    "\n",
    "Construir un programa que lea los ficheros (Numpy) `kinetics_conc.dat` (concentración del reactivo en mol l$^{-1}$) i `kinetics_time.dat`(tiempo de reacción en s) que *tenéis que descargar previamente*. A continuación debéis realizar una figura con dos paneles: \n",
    "- panel izquierdo: representar concentracion vs. tiempo\n",
    "- panel derecho: representar 1/concentracion vs. tiempo\n",
    "\n",
    "Dado que son resultados experimentales, los representaremos mediante símbolos, no lineas. Etiquetar correctamente ejes y gráficos"
   ]
  },
  {
   "cell_type": "code",
   "execution_count": 2,
   "id": "d5efff33-da86-47a2-aa03-6fe0ba738df8",
   "metadata": {},
   "outputs": [],
   "source": [
    "import numpy as np\n",
    "import matplotlib.pyplot as plt"
   ]
  },
  {
   "cell_type": "code",
   "execution_count": 12,
   "id": "b87d0ccd-7592-4f6f-a8eb-5a6e97210662",
   "metadata": {},
   "outputs": [],
   "source": [
    "c = np.loadtxt(\"/Users/fermin/Library/CloudStorage/OneDrive-UniversitatdeBarcelona/20_PYTHON_MASTER/PYTHON_POSTGRAD/30_DATA/cinetica_conc.dat\")"
   ]
  },
  {
   "cell_type": "code",
   "execution_count": 13,
   "id": "235373fd-011c-40f9-8653-3fede584e2f9",
   "metadata": {},
   "outputs": [],
   "source": [
    "t = np.loadtxt(\"/Users/fermin/Library/CloudStorage/OneDrive-UniversitatdeBarcelona/20_PYTHON_MASTER/PYTHON_POSTGRAD/30_DATA/cinetica_temps.dat\")"
   ]
  },
  {
   "cell_type": "code",
   "execution_count": 14,
   "id": "dc8e1494-9e90-4917-84ce-f119f0e8520f",
   "metadata": {},
   "outputs": [
    {
     "data": {
      "text/plain": [
       "True"
      ]
     },
     "execution_count": 14,
     "metadata": {},
     "output_type": "execute_result"
    }
   ],
   "source": [
    "t.size == c.size"
   ]
  },
  {
   "cell_type": "code",
   "execution_count": 35,
   "id": "0a5ff98d-f5c6-4a60-9233-d9f5595abf83",
   "metadata": {},
   "outputs": [
    {
     "data": {
      "image/png": "[encoded data removed]",
      "text/plain": [
       "<Figure size 432x288 with 2 Axes>"
      ]
     },
     "metadata": {
      "needs_background": "light"
     },
     "output_type": "display_data"
    }
   ],
   "source": [
    "fig, (ax0, ax1) = plt.subplots(1,2)\n",
    "plt.tight_layout()\n",
    "ax0.plot(t,c,\"x\")\n",
    "ax0.set_title(\"Conc vs t\");\n",
    "ax0.set_xlabel(\"t / s\");\n",
    "ax0.set_ylabel(\"[A] / mol l$^{-1}$\");\n",
    "ax1.plot(t,1/c,\"x\")\n",
    "ax1.set_title(\"1/Conc vs t\")         \n",
    "ax1.set_xlabel(\"t / s\");\n",
    "ax1.set_ylabel(\"1/[A] / mol$^{-1}$ l\");"
   ]
  },
  {
   "cell_type": "markdown",
   "id": "05f7e664-25d4-48d7-83bc-bd7c61f8db69",
   "metadata": {},
   "source": [
    "**Segundo ejercicio**\n",
    "\n",
    "- Usar la función `np.polyfit`(buscar documentación) para ajustar a una recta los datos de $\\frac{1}{[A]} \\; vs. \\; t$.\n",
    "\n",
    "- Escribir el calor de la constante cinética (pendiente de la recta)\n",
    "\n",
    "- Evaluar la función ajustada para 30 valores equiespaciados de tiempo entre 0 i 120 segundos.\n",
    "\n",
    "- Representar en una única figura $\\frac{1}{[A]} \\; vs. \\; t$ para los datos experimentales (símbolos) y el ajuste (linea). Utilizar una leyenda para distinguir la información.\n"
   ]
  },
  {
   "cell_type": "code",
   "execution_count": 32,
   "id": "373c92c5-b813-4561-8836-ded9a3bcae7e",
   "metadata": {
    "collapsed": true,
    "jupyter": {
     "outputs_hidden": true
    },
    "tags": []
   },
   "outputs": [
    {
     "data": {
      "text/plain": [
       "\u001b[0;31mSignature:\u001b[0m \u001b[0mnp\u001b[0m\u001b[0;34m.\u001b[0m\u001b[0mpolyfit\u001b[0m\u001b[0;34m(\u001b[0m\u001b[0mx\u001b[0m\u001b[0;34m,\u001b[0m \u001b[0my\u001b[0m\u001b[0;34m,\u001b[0m \u001b[0mdeg\u001b[0m\u001b[0;34m,\u001b[0m \u001b[0mrcond\u001b[0m\u001b[0;34m=\u001b[0m\u001b[0;32mNone\u001b[0m\u001b[0;34m,\u001b[0m \u001b[0mfull\u001b[0m\u001b[0;34m=\u001b[0m\u001b[0;32mFalse\u001b[0m\u001b[0;34m,\u001b[0m \u001b[0mw\u001b[0m\u001b[0;34m=\u001b[0m\u001b[0;32mNone\u001b[0m\u001b[0;34m,\u001b[0m \u001b[0mcov\u001b[0m\u001b[0;34m=\u001b[0m\u001b[0;32mFalse\u001b[0m\u001b[0;34m)\u001b[0m\u001b[0;34m\u001b[0m\u001b[0;34m\u001b[0m\u001b[0m\n",
       "\u001b[0;31mDocstring:\u001b[0m\n",
       "Least squares polynomial fit.\n",
       "\n",
       ".. note::\n",
       "   This forms part of the old polynomial API. Since version 1.4, the\n",
       "   new polynomial API defined in `numpy.polynomial` is preferred.\n",
       "   A summary of the differences can be found in the\n",
       "   :doc:`transition guide </reference/routines.polynomials>`.\n",
       "\n",
       "Fit a polynomial ``p(x) = p[0] * x**deg + ... + p[deg]`` of degree `deg`\n",
       "to points `(x, y)`. Returns a vector of coefficients `p` that minimises\n",
       "the squared error in the order `deg`, `deg-1`, ... `0`.\n",
       "\n",
       "The `Polynomial.fit <numpy.polynomial.polynomial.Polynomial.fit>` class\n",
       "method is recommended for new code as it is more stable numerically. See\n",
       "the documentation of the method for more information.\n",
       "\n",
       "Parameters\n",
       "----------\n",
       "x : array_like, shape (M,)\n",
       "    x-coordinates of the M sample points ``(x[i], y[i])``.\n",
       "y : array_like, shape (M,) or (M, K)\n",
       "    y-coordinates of the sample points. Several data sets of sample\n",
       "    points sharing the same x-coordinates can be fitted at once by\n",
       "    passing in a 2D-array that contains one dataset per column.\n",
       "deg : int\n",
       "    Degree of the fitting polynomial\n",
       "rcond : float, optional\n",
       "    Relative condition number of the fit. Singular values smaller than\n",
       "    this relative to the largest singular value will be ignored. The\n",
       "    default value is len(x)*eps, where eps is the relative precision of\n",
       "    the float type, about 2e-16 in most cases.\n",
       "full : bool, optional\n",
       "    Switch determining nature of return value. When it is False (the\n",
       "    default) just the coefficients are returned, when True diagnostic\n",
       "    information from the singular value decomposition is also returned.\n",
       "w : array_like, shape (M,), optional\n",
       "    Weights to apply to the y-coordinates of the sample points. For\n",
       "    gaussian uncertainties, use 1/sigma (not 1/sigma**2).\n",
       "cov : bool or str, optional\n",
       "    If given and not `False`, return not just the estimate but also its\n",
       "    covariance matrix. By default, the covariance are scaled by\n",
       "    chi2/dof, where dof = M - (deg + 1), i.e., the weights are presumed \n",
       "    to be unreliable except in a relative sense and everything is scaled \n",
       "    such that the reduced chi2 is unity. This scaling is omitted if \n",
       "    ``cov='unscaled'``, as is relevant for the case that the weights are \n",
       "    1/sigma**2, with sigma known to be a reliable estimate of the \n",
       "    uncertainty.\n",
       "\n",
       "Returns\n",
       "-------\n",
       "p : ndarray, shape (deg + 1,) or (deg + 1, K)\n",
       "    Polynomial coefficients, highest power first.  If `y` was 2-D, the\n",
       "    coefficients for `k`-th data set are in ``p[:,k]``.\n",
       "\n",
       "residuals, rank, singular_values, rcond\n",
       "    Present only if `full` = True.  Residuals is sum of squared residuals\n",
       "    of the least-squares fit, the effective rank of the scaled Vandermonde\n",
       "    coefficient matrix, its singular values, and the specified value of\n",
       "    `rcond`. For more details, see `linalg.lstsq`.\n",
       "\n",
       "V : ndarray, shape (M,M) or (M,M,K)\n",
       "    Present only if `full` = False and `cov`=True.  The covariance\n",
       "    matrix of the polynomial coefficient estimates.  The diagonal of\n",
       "    this matrix are the variance estimates for each coefficient.  If y\n",
       "    is a 2-D array, then the covariance matrix for the `k`-th data set\n",
       "    are in ``V[:,:,k]``\n",
       "\n",
       "\n",
       "Warns\n",
       "-----\n",
       "RankWarning\n",
       "    The rank of the coefficient matrix in the least-squares fit is\n",
       "    deficient. The warning is only raised if `full` = False.\n",
       "\n",
       "    The warnings can be turned off by\n",
       "\n",
       "    >>> import warnings\n",
       "    >>> warnings.simplefilter('ignore', np.RankWarning)\n",
       "\n",
       "See Also\n",
       "--------\n",
       "polyval : Compute polynomial values.\n",
       "linalg.lstsq : Computes a least-squares fit.\n",
       "scipy.interpolate.UnivariateSpline : Computes spline fits.\n",
       "\n",
       "Notes\n",
       "-----\n",
       "The solution minimizes the squared error\n",
       "\n",
       ".. math ::\n",
       "    E = \\sum_{j=0}^k |p(x_j) - y_j|^2\n",
       "\n",
       "in the equations::\n",
       "\n",
       "    x[0]**n * p[0] + ... + x[0] * p[n-1] + p[n] = y[0]\n",
       "    x[1]**n * p[0] + ... + x[1] * p[n-1] + p[n] = y[1]\n",
       "    ...\n",
       "    x[k]**n * p[0] + ... + x[k] * p[n-1] + p[n] = y[k]\n",
       "\n",
       "The coefficient matrix of the coefficients `p` is a Vandermonde matrix.\n",
       "\n",
       "`polyfit` issues a `RankWarning` when the least-squares fit is badly\n",
       "conditioned. This implies that the best fit is not well-defined due\n",
       "to numerical error. The results may be improved by lowering the polynomial\n",
       "degree or by replacing `x` by `x` - `x`.mean(). The `rcond` parameter\n",
       "can also be set to a value smaller than its default, but the resulting\n",
       "fit may be spurious: including contributions from the small singular\n",
       "values can add numerical noise to the result.\n",
       "\n",
       "Note that fitting polynomial coefficients is inherently badly conditioned\n",
       "when the degree of the polynomial is large or the interval of sample points\n",
       "is badly centered. The quality of the fit should always be checked in these\n",
       "cases. When polynomial fits are not satisfactory, splines may be a good\n",
       "alternative.\n",
       "\n",
       "References\n",
       "----------\n",
       ".. [1] Wikipedia, \"Curve fitting\",\n",
       "       https://en.wikipedia.org/wiki/Curve_fitting\n",
       ".. [2] Wikipedia, \"Polynomial interpolation\",\n",
       "       https://en.wikipedia.org/wiki/Polynomial_interpolation\n",
       "\n",
       "Examples\n",
       "--------\n",
       ">>> import warnings\n",
       ">>> x = np.array([0.0, 1.0, 2.0, 3.0,  4.0,  5.0])\n",
       ">>> y = np.array([0.0, 0.8, 0.9, 0.1, -0.8, -1.0])\n",
       ">>> z = np.polyfit(x, y, 3)\n",
       ">>> z\n",
       "array([ 0.08703704, -0.81349206,  1.69312169, -0.03968254]) # may vary\n",
       "\n",
       "It is convenient to use `poly1d` objects for dealing with polynomials:\n",
       "\n",
       ">>> p = np.poly1d(z)\n",
       ">>> p(0.5)\n",
       "0.6143849206349179 # may vary\n",
       ">>> p(3.5)\n",
       "-0.34732142857143039 # may vary\n",
       ">>> p(10)\n",
       "22.579365079365115 # may vary\n",
       "\n",
       "High-order polynomials may oscillate wildly:\n",
       "\n",
       ">>> with warnings.catch_warnings():\n",
       "...     warnings.simplefilter('ignore', np.RankWarning)\n",
       "...     p30 = np.poly1d(np.polyfit(x, y, 30))\n",
       "...\n",
       ">>> p30(4)\n",
       "-0.80000000000000204 # may vary\n",
       ">>> p30(5)\n",
       "-0.99999999999999445 # may vary\n",
       ">>> p30(4.5)\n",
       "-0.10547061179440398 # may vary\n",
       "\n",
       "Illustration:\n",
       "\n",
       ">>> import matplotlib.pyplot as plt\n",
       ">>> xp = np.linspace(-2, 6, 100)\n",
       ">>> _ = plt.plot(x, y, '.', xp, p(xp), '-', xp, p30(xp), '--')\n",
       ">>> plt.ylim(-2,2)\n",
       "(-2, 2)\n",
       ">>> plt.show()\n",
       "\u001b[0;31mFile:\u001b[0m      ~/anaconda3/lib/python3.7/site-packages/numpy/lib/polynomial.py\n",
       "\u001b[0;31mType:\u001b[0m      function\n"
      ]
     },
     "metadata": {},
     "output_type": "display_data"
    }
   ],
   "source": [
    "np.polyfit?"
   ]
  },
  {
   "cell_type": "code",
   "execution_count": 24,
   "id": "2d6f9ebc-1e5c-4e91-b0d8-61c452537e1d",
   "metadata": {},
   "outputs": [],
   "source": [
    "pars = np.polyfit(t,1/c,1)\n",
    "A0 = 1/pars[1] #initial concentration\n",
    "k = pars[0] #bimolecular kinetic rate"
   ]
  },
  {
   "cell_type": "code",
   "execution_count": 23,
   "id": "bcc5238a-adc3-44c2-8e88-16b93e049e7b",
   "metadata": {
    "collapsed": true,
    "jupyter": {
     "outputs_hidden": true
    },
    "tags": []
   },
   "outputs": [
    {
     "data": {
      "text/plain": [
       "\u001b[0;31mSignature:\u001b[0m \u001b[0mnp\u001b[0m\u001b[0;34m.\u001b[0m\u001b[0mpolyval\u001b[0m\u001b[0;34m(\u001b[0m\u001b[0mp\u001b[0m\u001b[0;34m,\u001b[0m \u001b[0mx\u001b[0m\u001b[0;34m)\u001b[0m\u001b[0;34m\u001b[0m\u001b[0;34m\u001b[0m\u001b[0m\n",
       "\u001b[0;31mDocstring:\u001b[0m\n",
       "Evaluate a polynomial at specific values.\n",
       "\n",
       ".. note::\n",
       "   This forms part of the old polynomial API. Since version 1.4, the\n",
       "   new polynomial API defined in `numpy.polynomial` is preferred.\n",
       "   A summary of the differences can be found in the\n",
       "   :doc:`transition guide </reference/routines.polynomials>`.\n",
       "\n",
       "If `p` is of length N, this function returns the value:\n",
       "\n",
       "    ``p[0]*x**(N-1) + p[1]*x**(N-2) + ... + p[N-2]*x + p[N-1]``\n",
       "\n",
       "If `x` is a sequence, then ``p(x)`` is returned for each element of ``x``.\n",
       "If `x` is another polynomial then the composite polynomial ``p(x(t))``\n",
       "is returned.\n",
       "\n",
       "Parameters\n",
       "----------\n",
       "p : array_like or poly1d object\n",
       "   1D array of polynomial coefficients (including coefficients equal\n",
       "   to zero) from highest degree to the constant term, or an\n",
       "   instance of poly1d.\n",
       "x : array_like or poly1d object\n",
       "   A number, an array of numbers, or an instance of poly1d, at\n",
       "   which to evaluate `p`.\n",
       "\n",
       "Returns\n",
       "-------\n",
       "values : ndarray or poly1d\n",
       "   If `x` is a poly1d instance, the result is the composition of the two\n",
       "   polynomials, i.e., `x` is \"substituted\" in `p` and the simplified\n",
       "   result is returned. In addition, the type of `x` - array_like or\n",
       "   poly1d - governs the type of the output: `x` array_like => `values`\n",
       "   array_like, `x` a poly1d object => `values` is also.\n",
       "\n",
       "See Also\n",
       "--------\n",
       "poly1d: A polynomial class.\n",
       "\n",
       "Notes\n",
       "-----\n",
       "Horner's scheme [1]_ is used to evaluate the polynomial. Even so,\n",
       "for polynomials of high degree the values may be inaccurate due to\n",
       "rounding errors. Use carefully.\n",
       "\n",
       "If `x` is a subtype of `ndarray` the return value will be of the same type.\n",
       "\n",
       "References\n",
       "----------\n",
       ".. [1] I. N. Bronshtein, K. A. Semendyayev, and K. A. Hirsch (Eng.\n",
       "   trans. Ed.), *Handbook of Mathematics*, New York, Van Nostrand\n",
       "   Reinhold Co., 1985, pg. 720.\n",
       "\n",
       "Examples\n",
       "--------\n",
       ">>> np.polyval([3,0,1], 5)  # 3 * 5**2 + 0 * 5**1 + 1\n",
       "76\n",
       ">>> np.polyval([3,0,1], np.poly1d(5))\n",
       "poly1d([76])\n",
       ">>> np.polyval(np.poly1d([3,0,1]), 5)\n",
       "76\n",
       ">>> np.polyval(np.poly1d([3,0,1]), np.poly1d(5))\n",
       "poly1d([76])\n",
       "\u001b[0;31mFile:\u001b[0m      ~/anaconda3/lib/python3.7/site-packages/numpy/lib/polynomial.py\n",
       "\u001b[0;31mType:\u001b[0m      function\n"
      ]
     },
     "metadata": {},
     "output_type": "display_data"
    }
   ],
   "source": [
    "np.polyval?"
   ]
  },
  {
   "cell_type": "code",
   "execution_count": 26,
   "id": "b77864bf-667b-4858-8322-85d1a1bf4554",
   "metadata": {},
   "outputs": [],
   "source": [
    "t_fit = np.linspace(0,120,20)\n",
    "over_c_fit = np.polyval(pars,t_fit)"
   ]
  },
  {
   "cell_type": "code",
   "execution_count": 30,
   "id": "52ec5879-a39d-41ad-bfb8-3c3352005237",
   "metadata": {},
   "outputs": [
    {
     "data": {
      "image/png": "[encoded data removed]",
      "text/plain": [
       "<Figure size 432x288 with 1 Axes>"
      ]
     },
     "metadata": {
      "needs_background": "light"
     },
     "output_type": "display_data"
    }
   ],
   "source": [
    "plt.plot(t,1/c,\"x\", label=\"Exp\")\n",
    "plt.plot(t_fit,over_c_fit,\"C3-\", label=\"fit\")\n",
    "plt.plot(t_fit, pars[1] + pars[0]*t_fit)\n",
    "plt.xlabel(\"t / s$^{-1}$\");\n",
    "plt.ylabel(\"1/[A] / mol$^{-1}$ l\");\n",
    "plt.legend(frameon=False);"
   ]
  },
  {
   "cell_type": "markdown",
   "id": "d81efcef-85af-400e-8b8e-0121640e1d03",
   "metadata": {
    "tags": []
   },
   "source": [
    "Fermín Huarte, Noviembre 2023\n",
    "## Ajuste lineal: curva de Morse\n",
    "\n",
    "Descargar el fichero `HCl_scan_HFSTO3G.txt` y leerlo (Numpy) como un array 2D. El fichero contiene valores de la energía potencial de la molécula de HCl para distintos valores de la distancia internuclear. Vamos a ajustar los valores de energía a una función de tipo [Morse](https://en.wikipedia.org/wiki/Morse_potential):\n",
    "\n",
    "$V(r) = D_e \\left ( 1 - e^{-\\alpha(r-r_0)} \\right) ^2$\n",
    "\n",
    "usando el módulo `scipy.optimize` (SciPy) y su función curve_fit para el ajuste.\n"
   ]
  },
  {
   "cell_type": "code",
   "execution_count": 1,
   "id": "2254223a-1c47-4840-81d2-4b17273a10e0",
   "metadata": {},
   "outputs": [
    {
     "name": "stdout",
     "output_type": "stream",
     "text": [
      "/Users/fermin/Library/CloudStorage/OneDrive-UniversitatdeBarcelona/20_PYTHON_MASTER/PYTHON_POSTGRAD/30_DATA\n"
     ]
    }
   ],
   "source": [
    "cd \"../PYTHON_POSTGRAD/30_DATA\""
   ]
  },
  {
   "cell_type": "code",
   "execution_count": 7,
   "id": "d04bad4f-1871-449d-b3eb-ba25df8cc2c0",
   "metadata": {},
   "outputs": [
    {
     "name": "stderr",
     "output_type": "stream",
     "text": [
      "/Users/fermin/anaconda3/lib/python3.7/site-packages/ipykernel_launcher.py:9: RuntimeWarning: overflow encountered in square\n",
      "  if __name__ == '__main__':\n"
     ]
    },
    {
     "data": {
      "text/plain": [
       "<matplotlib.legend.Legend at 0x7fd562c17ad0>"
      ]
     },
     "execution_count": 7,
     "metadata": {},
     "output_type": "execute_result"
    },
    {
     "data": {
      "image/png": "[encoded data removed]",
      "text/plain": [
       "<Figure size 432x288 with 1 Axes>"
      ]
     },
     "metadata": {
      "needs_background": "light"
     },
     "output_type": "display_data"
    }
   ],
   "source": [
    "import numpy as np\n",
    "from scipy.constants import physical_constants as physdict\n",
    "Ha_to_eV = physdict['Hartree energy in eV'][0]\n",
    "from scipy.optimize import curve_fit\n",
    "import matplotlib.pyplot as plt\n",
    "\n",
    "def morse(r,DE,alpha,r0):\n",
    "    \"\"\"Morse function \"\"\"\n",
    "    return DE*(1 - np.exp(-alpha*(r-r0)))**2\n",
    "\n",
    "\n",
    "data = np.loadtxt(\"HCl_scan_HFSTO3G.txt\")\n",
    "r = data[:,0]\n",
    "E = data[:,1]\n",
    "E = (E - E.min())*Ha_to_eV\n",
    "\n",
    "coefs, other = curve_fit(morse, r, E)\n",
    "\n",
    "plt.plot(r,E,'+',label=\"HF-STO3G\")\n",
    "fit = morse(r, coefs[0], coefs[1], coefs[2])\n",
    "plt.plot(r,fit,label=\"fit\")\n",
    "plt.legend()"
   ]
  },
  {
   "cell_type": "code",
   "execution_count": null,
   "id": "378ee91d-11fa-4a56-9179-83059643d888",
   "metadata": {},
   "outputs": [],
   "source": []
  }
 ],
 "metadata": {
  "kernelspec": {
   "display_name": "Python 3",
   "language": "python",
   "name": "python3"
  },
  "language_info": {
   "codemirror_mode": {
    "name": "ipython",
    "version": 3
   },
   "file_extension": ".py",
   "mimetype": "text/x-python",
   "name": "python",
   "nbconvert_exporter": "python",
   "pygments_lexer": "ipython3",
   "version": "3.7.11"
  }
 },
 "nbformat": 4,
 "nbformat_minor": 5
}
